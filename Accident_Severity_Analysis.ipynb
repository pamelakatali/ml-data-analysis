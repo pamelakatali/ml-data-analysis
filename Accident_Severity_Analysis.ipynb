{
 "cells": [
  {
   "cell_type": "markdown",
   "metadata": {},
   "source": [
    "**Accident Severity Analysis**"
   ]
  },
  {
   "cell_type": "code",
   "execution_count": 1,
   "metadata": {
    "_cell_guid": "b1076dfc-b9ad-4769-8c92-a6c4dae69d19",
    "_uuid": "8f2839f25d086af736a60e9eeb907d3b93b6e0e5"
   },
   "outputs": [],
   "source": [
    "import numpy as np  \n",
    "import pandas as pd\n",
    "import datetime\n",
    "import os\n",
    "from sklearn.decomposition import PCA\n",
    "\n",
    "import torch\n",
    "import torch.nn as nn\n",
    "import torch.nn.functional as F\n",
    "from sklearn.metrics import confusion_matrix\n",
    "from sklearn.preprocessing import MaxAbsScaler"
   ]
  },
  {
   "cell_type": "markdown",
   "metadata": {},
   "source": [
    "**Data Import**"
   ]
  },
  {
   "cell_type": "code",
   "execution_count": 3,
   "metadata": {},
   "outputs": [
    {
     "name": "stdout",
     "output_type": "stream",
     "text": [
      "/kaggle/input/us-accidents/US_Accidents_June20.csv\n"
     ]
    }
   ],
   "source": [
    "for dirname, _, filenames in os.walk('/kaggle/input'):\n",
    "    for filename in filenames:\n",
    "        filepath = os.path.join(dirname, filename)\n",
    "        print(filepath)"
   ]
  },
  {
   "cell_type": "code",
   "execution_count": 4,
   "metadata": {
    "_cell_guid": "79c7e3d0-c299-4dcb-8224-4455121ee9b0",
    "_uuid": "d629ff2d2480ee46fbb7e2d37f6b5fab8052498a"
   },
   "outputs": [],
   "source": [
    "data = pd.read_csv(filepath)"
   ]
  },
  {
   "cell_type": "code",
   "execution_count": 5,
   "metadata": {},
   "outputs": [
    {
     "data": {
      "text/plain": [
       "Index(['ID', 'Source', 'TMC', 'Severity', 'Start_Time', 'End_Time',\n",
       "       'Start_Lat', 'Start_Lng', 'End_Lat', 'End_Lng', 'Distance(mi)',\n",
       "       'Description', 'Number', 'Street', 'Side', 'City', 'County', 'State',\n",
       "       'Zipcode', 'Country', 'Timezone', 'Airport_Code', 'Weather_Timestamp',\n",
       "       'Temperature(F)', 'Wind_Chill(F)', 'Humidity(%)', 'Pressure(in)',\n",
       "       'Visibility(mi)', 'Wind_Direction', 'Wind_Speed(mph)',\n",
       "       'Precipitation(in)', 'Weather_Condition', 'Amenity', 'Bump', 'Crossing',\n",
       "       'Give_Way', 'Junction', 'No_Exit', 'Railway', 'Roundabout', 'Station',\n",
       "       'Stop', 'Traffic_Calming', 'Traffic_Signal', 'Turning_Loop',\n",
       "       'Sunrise_Sunset', 'Civil_Twilight', 'Nautical_Twilight',\n",
       "       'Astronomical_Twilight'],\n",
       "      dtype='object')"
      ]
     },
     "execution_count": 5,
     "metadata": {},
     "output_type": "execute_result"
    }
   ],
   "source": [
    "data.columns"
   ]
  },
  {
   "cell_type": "code",
   "execution_count": 6,
   "metadata": {},
   "outputs": [
    {
     "data": {
      "text/plain": [
       "array([1, 2, 3, 4])"
      ]
     },
     "execution_count": 6,
     "metadata": {},
     "output_type": "execute_result"
    }
   ],
   "source": [
    "np.unique(data['Severity'])"
   ]
  },
  {
   "cell_type": "markdown",
   "metadata": {},
   "source": [
    "**Feature Extraction**"
   ]
  },
  {
   "cell_type": "code",
   "execution_count": 7,
   "metadata": {},
   "outputs": [],
   "source": [
    "X = pd.DataFrame()"
   ]
  },
  {
   "cell_type": "code",
   "execution_count": 8,
   "metadata": {},
   "outputs": [],
   "source": [
    "def str_to_datetime(x):\n",
    "    x = datetime.datetime.strptime(x, '%Y-%m-%d %H:%M:%S')\n",
    "    return x\n",
    "\n",
    "def get_acc_len(x):\n",
    "    x = x.total_seconds() / 60.0\n",
    "    return x        "
   ]
  },
  {
   "cell_type": "code",
   "execution_count": 9,
   "metadata": {},
   "outputs": [
    {
     "data": {
      "text/plain": [
       "0          314.000000\n",
       "1           30.000000\n",
       "2           30.000000\n",
       "3           30.000000\n",
       "4           30.000000\n",
       "              ...    \n",
       "3513612     28.600000\n",
       "3513613     26.883333\n",
       "3513614     28.466667\n",
       "3513615     29.350000\n",
       "3513616     29.416667\n",
       "Name: Accident_Length, Length: 3513617, dtype: float64"
      ]
     },
     "execution_count": 9,
     "metadata": {},
     "output_type": "execute_result"
    }
   ],
   "source": [
    "#start time, end time --> length of accident\n",
    "end_time = data['End_Time'].apply(str_to_datetime)\n",
    "start_time = data['Start_Time'].apply(str_to_datetime)\n",
    "data['Accident_Length'] = end_time - start_time \n",
    "X['Accident_Length'] = data['Accident_Length'].apply(get_acc_len)\n",
    "X['Accident_Length']"
   ]
  },
  {
   "cell_type": "code",
   "execution_count": 10,
   "metadata": {},
   "outputs": [],
   "source": [
    "X['Accident_Distance'] = data['Distance(mi)']\n",
    "X['Accident_Distance'].fillna(-500.0, inplace = True) "
   ]
  },
  {
   "cell_type": "code",
   "execution_count": 11,
   "metadata": {},
   "outputs": [
    {
     "name": "stdout",
     "output_type": "stream",
     "text": [
      "0.2816166867384315\n",
      "333.63000488299997\n",
      "0.0\n"
     ]
    }
   ],
   "source": [
    "print(X['Accident_Distance'].mean())\n",
    "print(X['Accident_Distance'].max())\n",
    "print(X['Accident_Distance'].min())"
   ]
  },
  {
   "cell_type": "code",
   "execution_count": 12,
   "metadata": {},
   "outputs": [
    {
     "data": {
      "text/plain": [
       "0          36.9\n",
       "1          37.9\n",
       "2          36.0\n",
       "3          35.1\n",
       "4          36.0\n",
       "           ... \n",
       "3513612    86.0\n",
       "3513613    70.0\n",
       "3513614    73.0\n",
       "3513615    71.0\n",
       "3513616    79.0\n",
       "Name: Temp, Length: 3513617, dtype: float64"
      ]
     },
     "execution_count": 12,
     "metadata": {},
     "output_type": "execute_result"
    }
   ],
   "source": [
    "X['Temp'] = data['Temperature(F)']\n",
    "X['Temp'].fillna(-500.0, inplace = True) \n",
    "X['Temp']"
   ]
  },
  {
   "cell_type": "code",
   "execution_count": 13,
   "metadata": {},
   "outputs": [
    {
     "name": "stdout",
     "output_type": "stream",
     "text": [
      "51.42255624332331\n",
      "170.6\n",
      "-500.0\n"
     ]
    }
   ],
   "source": [
    "print(X['Temp'].mean())\n",
    "print(X['Temp'].max())\n",
    "print(X['Temp'].min())"
   ]
  },
  {
   "cell_type": "code",
   "execution_count": 14,
   "metadata": {},
   "outputs": [
    {
     "data": {
      "text/plain": [
       "0           91.0\n",
       "1          100.0\n",
       "2          100.0\n",
       "3           96.0\n",
       "4           89.0\n",
       "           ...  \n",
       "3513612     40.0\n",
       "3513613     73.0\n",
       "3513614     64.0\n",
       "3513615     81.0\n",
       "3513616     47.0\n",
       "Name: Humidity, Length: 3513617, dtype: float64"
      ]
     },
     "execution_count": 14,
     "metadata": {},
     "output_type": "execute_result"
    }
   ],
   "source": [
    "X['Humidity'] = data['Humidity(%)']\n",
    "X['Humidity'].fillna(-10.0, inplace = True) \n",
    "X['Humidity']"
   ]
  },
  {
   "cell_type": "code",
   "execution_count": 15,
   "metadata": {},
   "outputs": [
    {
     "name": "stdout",
     "output_type": "stream",
     "text": [
      "63.624498059976375\n",
      "100.0\n",
      "-10.0\n"
     ]
    }
   ],
   "source": [
    "print(X['Humidity'].mean())\n",
    "print(X['Humidity'].max())\n",
    "print(X['Humidity'].min())"
   ]
  },
  {
   "cell_type": "code",
   "execution_count": 16,
   "metadata": {},
   "outputs": [
    {
     "data": {
      "text/plain": [
       "0           0.02\n",
       "1           0.00\n",
       "2         -10.00\n",
       "3         -10.00\n",
       "4         -10.00\n",
       "           ...  \n",
       "3513612     0.00\n",
       "3513613     0.00\n",
       "3513614     0.00\n",
       "3513615     0.00\n",
       "3513616     0.00\n",
       "Name: Precipitation, Length: 3513617, dtype: float64"
      ]
     },
     "execution_count": 16,
     "metadata": {},
     "output_type": "execute_result"
    }
   ],
   "source": [
    "X['Precipitation'] = data['Precipitation(in)']\n",
    "X['Precipitation'].fillna(-10.0, inplace = True) \n",
    "X['Precipitation']"
   ]
  },
  {
   "cell_type": "code",
   "execution_count": 17,
   "metadata": {},
   "outputs": [
    {
     "name": "stdout",
     "output_type": "stream",
     "text": [
      "-5.759011884333611\n",
      "25.0\n",
      "-10.0\n"
     ]
    }
   ],
   "source": [
    "print(X['Precipitation'].mean())\n",
    "print(X['Precipitation'].max())\n",
    "print(X['Precipitation'].min())"
   ]
  },
  {
   "cell_type": "code",
   "execution_count": 18,
   "metadata": {},
   "outputs": [
    {
     "data": {
      "text/plain": [
       "0         -500.0\n",
       "1         -500.0\n",
       "2           33.3\n",
       "3           31.0\n",
       "4           33.3\n",
       "           ...  \n",
       "3513612     86.0\n",
       "3513613     70.0\n",
       "3513614     73.0\n",
       "3513615     71.0\n",
       "3513616     79.0\n",
       "Name: Wind_Chill, Length: 3513617, dtype: float64"
      ]
     },
     "execution_count": 18,
     "metadata": {},
     "output_type": "execute_result"
    }
   ],
   "source": [
    "X['Wind_Chill'] = data['Wind_Chill(F)']\n",
    "X['Wind_Chill'].fillna(-500.0, inplace = True) \n",
    "X['Wind_Chill']"
   ]
  },
  {
   "cell_type": "code",
   "execution_count": 19,
   "metadata": {},
   "outputs": [
    {
     "name": "stdout",
     "output_type": "stream",
     "text": [
      "-240.77838879416709\n",
      "115.0\n",
      "-500.0\n"
     ]
    }
   ],
   "source": [
    "print(X['Wind_Chill'].mean())\n",
    "print(X['Wind_Chill'].max())\n",
    "print(X['Wind_Chill'].min())"
   ]
  },
  {
   "cell_type": "code",
   "execution_count": 20,
   "metadata": {},
   "outputs": [
    {
     "data": {
      "text/plain": [
       "0          29.68\n",
       "1          29.65\n",
       "2          29.67\n",
       "3          29.64\n",
       "4          29.65\n",
       "           ...  \n",
       "3513612    28.92\n",
       "3513613    29.39\n",
       "3513614    29.74\n",
       "3513615    29.62\n",
       "3513616    28.63\n",
       "Name: Pressure, Length: 3513617, dtype: float64"
      ]
     },
     "execution_count": 20,
     "metadata": {},
     "output_type": "execute_result"
    }
   ],
   "source": [
    "X['Pressure'] = data['Pressure(in)']\n",
    "X['Pressure'].fillna(-500.0, inplace = True) \n",
    "X['Pressure']"
   ]
  },
  {
   "cell_type": "code",
   "execution_count": 21,
   "metadata": {},
   "outputs": [
    {
     "name": "stdout",
     "output_type": "stream",
     "text": [
      "21.319353845340995\n",
      "57.74\n",
      "-500.0\n"
     ]
    }
   ],
   "source": [
    "print(X['Pressure'].mean())\n",
    "print(X['Pressure'].max())\n",
    "print(X['Pressure'].min())"
   ]
  },
  {
   "cell_type": "code",
   "execution_count": 22,
   "metadata": {},
   "outputs": [
    {
     "data": {
      "text/plain": [
       "0          10.0\n",
       "1          10.0\n",
       "2          10.0\n",
       "3           9.0\n",
       "4           6.0\n",
       "           ... \n",
       "3513612    10.0\n",
       "3513613    10.0\n",
       "3513614    10.0\n",
       "3513615    10.0\n",
       "3513616     7.0\n",
       "Name: Visibility, Length: 3513617, dtype: float64"
      ]
     },
     "execution_count": 22,
     "metadata": {},
     "output_type": "execute_result"
    }
   ],
   "source": [
    "X['Visibility'] = data['Visibility(mi)']\n",
    "X['Visibility'].fillna(-500.0, inplace = True) \n",
    "X['Visibility']"
   ]
  },
  {
   "cell_type": "code",
   "execution_count": 23,
   "metadata": {},
   "outputs": [
    {
     "name": "stdout",
     "output_type": "stream",
     "text": [
      "-1.8688801995208821\n",
      "140.0\n",
      "-500.0\n"
     ]
    }
   ],
   "source": [
    "print(X['Visibility'].mean())\n",
    "print(X['Visibility'].max())\n",
    "print(X['Visibility'].min())"
   ]
  },
  {
   "cell_type": "code",
   "execution_count": 24,
   "metadata": {},
   "outputs": [],
   "source": [
    "X['Severity'] = data['Severity']"
   ]
  },
  {
   "cell_type": "code",
   "execution_count": 25,
   "metadata": {},
   "outputs": [
    {
     "data": {
      "text/plain": [
       "Accident_Length      False\n",
       "Accident_Distance    False\n",
       "Temp                 False\n",
       "Humidity             False\n",
       "Precipitation        False\n",
       "Wind_Chill           False\n",
       "Pressure             False\n",
       "Visibility           False\n",
       "Severity             False\n",
       "dtype: bool"
      ]
     },
     "execution_count": 25,
     "metadata": {},
     "output_type": "execute_result"
    }
   ],
   "source": [
    "X.isna().any()"
   ]
  },
  {
   "cell_type": "code",
   "execution_count": 26,
   "metadata": {},
   "outputs": [
    {
     "data": {
      "text/plain": [
       "{1: 29174, 2: 2373210, 3: 998913, 4: 112320}"
      ]
     },
     "execution_count": 26,
     "metadata": {},
     "output_type": "execute_result"
    }
   ],
   "source": [
    "unique, counts = np.unique(X['Severity'].values, return_counts=True)\n",
    "dict(zip(unique, counts))"
   ]
  },
  {
   "cell_type": "code",
   "execution_count": 28,
   "metadata": {},
   "outputs": [
    {
     "data": {
      "text/html": [
       "<div>\n",
       "<style scoped>\n",
       "    .dataframe tbody tr th:only-of-type {\n",
       "        vertical-align: middle;\n",
       "    }\n",
       "\n",
       "    .dataframe tbody tr th {\n",
       "        vertical-align: top;\n",
       "    }\n",
       "\n",
       "    .dataframe thead th {\n",
       "        text-align: right;\n",
       "    }\n",
       "</style>\n",
       "<table border=\"1\" class=\"dataframe\">\n",
       "  <thead>\n",
       "    <tr style=\"text-align: right;\">\n",
       "      <th></th>\n",
       "      <th>Accident_Length</th>\n",
       "      <th>Accident_Distance</th>\n",
       "      <th>Temp</th>\n",
       "      <th>Humidity</th>\n",
       "      <th>Precipitation</th>\n",
       "      <th>Wind_Chill</th>\n",
       "      <th>Pressure</th>\n",
       "      <th>Visibility</th>\n",
       "      <th>Severity</th>\n",
       "    </tr>\n",
       "  </thead>\n",
       "  <tbody>\n",
       "    <tr>\n",
       "      <th>0</th>\n",
       "      <td>314.000000</td>\n",
       "      <td>0.010</td>\n",
       "      <td>36.9</td>\n",
       "      <td>91.0</td>\n",
       "      <td>0.02</td>\n",
       "      <td>-500.0</td>\n",
       "      <td>29.68</td>\n",
       "      <td>10.0</td>\n",
       "      <td>3</td>\n",
       "    </tr>\n",
       "    <tr>\n",
       "      <th>1</th>\n",
       "      <td>30.000000</td>\n",
       "      <td>0.010</td>\n",
       "      <td>37.9</td>\n",
       "      <td>100.0</td>\n",
       "      <td>0.00</td>\n",
       "      <td>-500.0</td>\n",
       "      <td>29.65</td>\n",
       "      <td>10.0</td>\n",
       "      <td>2</td>\n",
       "    </tr>\n",
       "    <tr>\n",
       "      <th>2</th>\n",
       "      <td>30.000000</td>\n",
       "      <td>0.010</td>\n",
       "      <td>36.0</td>\n",
       "      <td>100.0</td>\n",
       "      <td>-10.00</td>\n",
       "      <td>33.3</td>\n",
       "      <td>29.67</td>\n",
       "      <td>10.0</td>\n",
       "      <td>2</td>\n",
       "    </tr>\n",
       "    <tr>\n",
       "      <th>3</th>\n",
       "      <td>30.000000</td>\n",
       "      <td>0.010</td>\n",
       "      <td>35.1</td>\n",
       "      <td>96.0</td>\n",
       "      <td>-10.00</td>\n",
       "      <td>31.0</td>\n",
       "      <td>29.64</td>\n",
       "      <td>9.0</td>\n",
       "      <td>3</td>\n",
       "    </tr>\n",
       "    <tr>\n",
       "      <th>4</th>\n",
       "      <td>30.000000</td>\n",
       "      <td>0.010</td>\n",
       "      <td>36.0</td>\n",
       "      <td>89.0</td>\n",
       "      <td>-10.00</td>\n",
       "      <td>33.3</td>\n",
       "      <td>29.65</td>\n",
       "      <td>6.0</td>\n",
       "      <td>2</td>\n",
       "    </tr>\n",
       "    <tr>\n",
       "      <th>...</th>\n",
       "      <td>...</td>\n",
       "      <td>...</td>\n",
       "      <td>...</td>\n",
       "      <td>...</td>\n",
       "      <td>...</td>\n",
       "      <td>...</td>\n",
       "      <td>...</td>\n",
       "      <td>...</td>\n",
       "      <td>...</td>\n",
       "    </tr>\n",
       "    <tr>\n",
       "      <th>3513612</th>\n",
       "      <td>28.600000</td>\n",
       "      <td>0.543</td>\n",
       "      <td>86.0</td>\n",
       "      <td>40.0</td>\n",
       "      <td>0.00</td>\n",
       "      <td>86.0</td>\n",
       "      <td>28.92</td>\n",
       "      <td>10.0</td>\n",
       "      <td>2</td>\n",
       "    </tr>\n",
       "    <tr>\n",
       "      <th>3513613</th>\n",
       "      <td>26.883333</td>\n",
       "      <td>0.338</td>\n",
       "      <td>70.0</td>\n",
       "      <td>73.0</td>\n",
       "      <td>0.00</td>\n",
       "      <td>70.0</td>\n",
       "      <td>29.39</td>\n",
       "      <td>10.0</td>\n",
       "      <td>2</td>\n",
       "    </tr>\n",
       "    <tr>\n",
       "      <th>3513614</th>\n",
       "      <td>28.466667</td>\n",
       "      <td>0.561</td>\n",
       "      <td>73.0</td>\n",
       "      <td>64.0</td>\n",
       "      <td>0.00</td>\n",
       "      <td>73.0</td>\n",
       "      <td>29.74</td>\n",
       "      <td>10.0</td>\n",
       "      <td>2</td>\n",
       "    </tr>\n",
       "    <tr>\n",
       "      <th>3513615</th>\n",
       "      <td>29.350000</td>\n",
       "      <td>0.772</td>\n",
       "      <td>71.0</td>\n",
       "      <td>81.0</td>\n",
       "      <td>0.00</td>\n",
       "      <td>71.0</td>\n",
       "      <td>29.62</td>\n",
       "      <td>10.0</td>\n",
       "      <td>2</td>\n",
       "    </tr>\n",
       "    <tr>\n",
       "      <th>3513616</th>\n",
       "      <td>29.416667</td>\n",
       "      <td>0.537</td>\n",
       "      <td>79.0</td>\n",
       "      <td>47.0</td>\n",
       "      <td>0.00</td>\n",
       "      <td>79.0</td>\n",
       "      <td>28.63</td>\n",
       "      <td>7.0</td>\n",
       "      <td>2</td>\n",
       "    </tr>\n",
       "  </tbody>\n",
       "</table>\n",
       "<p>3401297 rows × 9 columns</p>\n",
       "</div>"
      ],
      "text/plain": [
       "         Accident_Length  Accident_Distance  Temp  Humidity  Precipitation  \\\n",
       "0             314.000000              0.010  36.9      91.0           0.02   \n",
       "1              30.000000              0.010  37.9     100.0           0.00   \n",
       "2              30.000000              0.010  36.0     100.0         -10.00   \n",
       "3              30.000000              0.010  35.1      96.0         -10.00   \n",
       "4              30.000000              0.010  36.0      89.0         -10.00   \n",
       "...                  ...                ...   ...       ...            ...   \n",
       "3513612        28.600000              0.543  86.0      40.0           0.00   \n",
       "3513613        26.883333              0.338  70.0      73.0           0.00   \n",
       "3513614        28.466667              0.561  73.0      64.0           0.00   \n",
       "3513615        29.350000              0.772  71.0      81.0           0.00   \n",
       "3513616        29.416667              0.537  79.0      47.0           0.00   \n",
       "\n",
       "         Wind_Chill  Pressure  Visibility  Severity  \n",
       "0            -500.0     29.68        10.0         3  \n",
       "1            -500.0     29.65        10.0         2  \n",
       "2              33.3     29.67        10.0         2  \n",
       "3              31.0     29.64         9.0         3  \n",
       "4              33.3     29.65         6.0         2  \n",
       "...             ...       ...         ...       ...  \n",
       "3513612        86.0     28.92        10.0         2  \n",
       "3513613        70.0     29.39        10.0         2  \n",
       "3513614        73.0     29.74        10.0         2  \n",
       "3513615        71.0     29.62        10.0         2  \n",
       "3513616        79.0     28.63         7.0         2  \n",
       "\n",
       "[3401297 rows x 9 columns]"
      ]
     },
     "execution_count": 28,
     "metadata": {},
     "output_type": "execute_result"
    }
   ],
   "source": [
    "X = X[X['Severity'] < 4] # extract 2 and 3 only\n",
    "X"
   ]
  },
  {
   "cell_type": "code",
   "execution_count": 29,
   "metadata": {},
   "outputs": [
    {
     "data": {
      "text/html": [
       "<div>\n",
       "<style scoped>\n",
       "    .dataframe tbody tr th:only-of-type {\n",
       "        vertical-align: middle;\n",
       "    }\n",
       "\n",
       "    .dataframe tbody tr th {\n",
       "        vertical-align: top;\n",
       "    }\n",
       "\n",
       "    .dataframe thead th {\n",
       "        text-align: right;\n",
       "    }\n",
       "</style>\n",
       "<table border=\"1\" class=\"dataframe\">\n",
       "  <thead>\n",
       "    <tr style=\"text-align: right;\">\n",
       "      <th></th>\n",
       "      <th>Accident_Length</th>\n",
       "      <th>Accident_Distance</th>\n",
       "      <th>Temp</th>\n",
       "      <th>Humidity</th>\n",
       "      <th>Precipitation</th>\n",
       "      <th>Wind_Chill</th>\n",
       "      <th>Pressure</th>\n",
       "      <th>Visibility</th>\n",
       "      <th>Severity</th>\n",
       "    </tr>\n",
       "  </thead>\n",
       "  <tbody>\n",
       "    <tr>\n",
       "      <th>0</th>\n",
       "      <td>314.000000</td>\n",
       "      <td>0.010</td>\n",
       "      <td>36.9</td>\n",
       "      <td>91.0</td>\n",
       "      <td>0.02</td>\n",
       "      <td>-500.0</td>\n",
       "      <td>29.68</td>\n",
       "      <td>10.0</td>\n",
       "      <td>3</td>\n",
       "    </tr>\n",
       "    <tr>\n",
       "      <th>1</th>\n",
       "      <td>30.000000</td>\n",
       "      <td>0.010</td>\n",
       "      <td>37.9</td>\n",
       "      <td>100.0</td>\n",
       "      <td>0.00</td>\n",
       "      <td>-500.0</td>\n",
       "      <td>29.65</td>\n",
       "      <td>10.0</td>\n",
       "      <td>2</td>\n",
       "    </tr>\n",
       "    <tr>\n",
       "      <th>2</th>\n",
       "      <td>30.000000</td>\n",
       "      <td>0.010</td>\n",
       "      <td>36.0</td>\n",
       "      <td>100.0</td>\n",
       "      <td>-10.00</td>\n",
       "      <td>33.3</td>\n",
       "      <td>29.67</td>\n",
       "      <td>10.0</td>\n",
       "      <td>2</td>\n",
       "    </tr>\n",
       "    <tr>\n",
       "      <th>3</th>\n",
       "      <td>30.000000</td>\n",
       "      <td>0.010</td>\n",
       "      <td>35.1</td>\n",
       "      <td>96.0</td>\n",
       "      <td>-10.00</td>\n",
       "      <td>31.0</td>\n",
       "      <td>29.64</td>\n",
       "      <td>9.0</td>\n",
       "      <td>3</td>\n",
       "    </tr>\n",
       "    <tr>\n",
       "      <th>4</th>\n",
       "      <td>30.000000</td>\n",
       "      <td>0.010</td>\n",
       "      <td>36.0</td>\n",
       "      <td>89.0</td>\n",
       "      <td>-10.00</td>\n",
       "      <td>33.3</td>\n",
       "      <td>29.65</td>\n",
       "      <td>6.0</td>\n",
       "      <td>2</td>\n",
       "    </tr>\n",
       "    <tr>\n",
       "      <th>...</th>\n",
       "      <td>...</td>\n",
       "      <td>...</td>\n",
       "      <td>...</td>\n",
       "      <td>...</td>\n",
       "      <td>...</td>\n",
       "      <td>...</td>\n",
       "      <td>...</td>\n",
       "      <td>...</td>\n",
       "      <td>...</td>\n",
       "    </tr>\n",
       "    <tr>\n",
       "      <th>3513612</th>\n",
       "      <td>28.600000</td>\n",
       "      <td>0.543</td>\n",
       "      <td>86.0</td>\n",
       "      <td>40.0</td>\n",
       "      <td>0.00</td>\n",
       "      <td>86.0</td>\n",
       "      <td>28.92</td>\n",
       "      <td>10.0</td>\n",
       "      <td>2</td>\n",
       "    </tr>\n",
       "    <tr>\n",
       "      <th>3513613</th>\n",
       "      <td>26.883333</td>\n",
       "      <td>0.338</td>\n",
       "      <td>70.0</td>\n",
       "      <td>73.0</td>\n",
       "      <td>0.00</td>\n",
       "      <td>70.0</td>\n",
       "      <td>29.39</td>\n",
       "      <td>10.0</td>\n",
       "      <td>2</td>\n",
       "    </tr>\n",
       "    <tr>\n",
       "      <th>3513614</th>\n",
       "      <td>28.466667</td>\n",
       "      <td>0.561</td>\n",
       "      <td>73.0</td>\n",
       "      <td>64.0</td>\n",
       "      <td>0.00</td>\n",
       "      <td>73.0</td>\n",
       "      <td>29.74</td>\n",
       "      <td>10.0</td>\n",
       "      <td>2</td>\n",
       "    </tr>\n",
       "    <tr>\n",
       "      <th>3513615</th>\n",
       "      <td>29.350000</td>\n",
       "      <td>0.772</td>\n",
       "      <td>71.0</td>\n",
       "      <td>81.0</td>\n",
       "      <td>0.00</td>\n",
       "      <td>71.0</td>\n",
       "      <td>29.62</td>\n",
       "      <td>10.0</td>\n",
       "      <td>2</td>\n",
       "    </tr>\n",
       "    <tr>\n",
       "      <th>3513616</th>\n",
       "      <td>29.416667</td>\n",
       "      <td>0.537</td>\n",
       "      <td>79.0</td>\n",
       "      <td>47.0</td>\n",
       "      <td>0.00</td>\n",
       "      <td>79.0</td>\n",
       "      <td>28.63</td>\n",
       "      <td>7.0</td>\n",
       "      <td>2</td>\n",
       "    </tr>\n",
       "  </tbody>\n",
       "</table>\n",
       "<p>3372123 rows × 9 columns</p>\n",
       "</div>"
      ],
      "text/plain": [
       "         Accident_Length  Accident_Distance  Temp  Humidity  Precipitation  \\\n",
       "0             314.000000              0.010  36.9      91.0           0.02   \n",
       "1              30.000000              0.010  37.9     100.0           0.00   \n",
       "2              30.000000              0.010  36.0     100.0         -10.00   \n",
       "3              30.000000              0.010  35.1      96.0         -10.00   \n",
       "4              30.000000              0.010  36.0      89.0         -10.00   \n",
       "...                  ...                ...   ...       ...            ...   \n",
       "3513612        28.600000              0.543  86.0      40.0           0.00   \n",
       "3513613        26.883333              0.338  70.0      73.0           0.00   \n",
       "3513614        28.466667              0.561  73.0      64.0           0.00   \n",
       "3513615        29.350000              0.772  71.0      81.0           0.00   \n",
       "3513616        29.416667              0.537  79.0      47.0           0.00   \n",
       "\n",
       "         Wind_Chill  Pressure  Visibility  Severity  \n",
       "0            -500.0     29.68        10.0         3  \n",
       "1            -500.0     29.65        10.0         2  \n",
       "2              33.3     29.67        10.0         2  \n",
       "3              31.0     29.64         9.0         3  \n",
       "4              33.3     29.65         6.0         2  \n",
       "...             ...       ...         ...       ...  \n",
       "3513612        86.0     28.92        10.0         2  \n",
       "3513613        70.0     29.39        10.0         2  \n",
       "3513614        73.0     29.74        10.0         2  \n",
       "3513615        71.0     29.62        10.0         2  \n",
       "3513616        79.0     28.63         7.0         2  \n",
       "\n",
       "[3372123 rows x 9 columns]"
      ]
     },
     "execution_count": 29,
     "metadata": {},
     "output_type": "execute_result"
    }
   ],
   "source": [
    "X = X[X['Severity'] > 1]\n",
    "X"
   ]
  },
  {
   "cell_type": "code",
   "execution_count": 30,
   "metadata": {},
   "outputs": [
    {
     "data": {
      "text/plain": [
       "(3372123, 9)"
      ]
     },
     "execution_count": 30,
     "metadata": {},
     "output_type": "execute_result"
    }
   ],
   "source": [
    "X.shape"
   ]
  },
  {
   "cell_type": "code",
   "execution_count": 31,
   "metadata": {},
   "outputs": [
    {
     "data": {
      "text/plain": [
       "{2: 2373210, 3: 998913}"
      ]
     },
     "execution_count": 31,
     "metadata": {},
     "output_type": "execute_result"
    }
   ],
   "source": [
    "unique, counts = np.unique(X['Severity'].values, return_counts=True)\n",
    "dict(zip(unique, counts))"
   ]
  },
  {
   "cell_type": "code",
   "execution_count": 33,
   "metadata": {},
   "outputs": [],
   "source": [
    "X_samp = X[X['Severity'] == 3].sample(n=499456, replace=True) # class 3 * 1.5\n",
    "X_over = pd.concat([X, X_samp], axis=0)\n",
    "X_over = X"
   ]
  },
  {
   "cell_type": "code",
   "execution_count": 34,
   "metadata": {},
   "outputs": [
    {
     "data": {
      "text/plain": [
       "2697698"
      ]
     },
     "execution_count": 34,
     "metadata": {},
     "output_type": "execute_result"
    }
   ],
   "source": [
    "num_examples = int(len(X_over)*.8)\n",
    "num_examples\n"
   ]
  },
  {
   "cell_type": "code",
   "execution_count": 35,
   "metadata": {},
   "outputs": [
    {
     "data": {
      "text/html": [
       "<div>\n",
       "<style scoped>\n",
       "    .dataframe tbody tr th:only-of-type {\n",
       "        vertical-align: middle;\n",
       "    }\n",
       "\n",
       "    .dataframe tbody tr th {\n",
       "        vertical-align: top;\n",
       "    }\n",
       "\n",
       "    .dataframe thead th {\n",
       "        text-align: right;\n",
       "    }\n",
       "</style>\n",
       "<table border=\"1\" class=\"dataframe\">\n",
       "  <thead>\n",
       "    <tr style=\"text-align: right;\">\n",
       "      <th></th>\n",
       "      <th>Accident_Length</th>\n",
       "      <th>Accident_Distance</th>\n",
       "      <th>Temp</th>\n",
       "      <th>Humidity</th>\n",
       "      <th>Precipitation</th>\n",
       "      <th>Wind_Chill</th>\n",
       "      <th>Pressure</th>\n",
       "      <th>Visibility</th>\n",
       "    </tr>\n",
       "  </thead>\n",
       "  <tbody>\n",
       "    <tr>\n",
       "      <th>0</th>\n",
       "      <td>314.000000</td>\n",
       "      <td>0.010</td>\n",
       "      <td>36.9</td>\n",
       "      <td>91.0</td>\n",
       "      <td>0.02</td>\n",
       "      <td>-500.0</td>\n",
       "      <td>29.68</td>\n",
       "      <td>10.0</td>\n",
       "    </tr>\n",
       "    <tr>\n",
       "      <th>1</th>\n",
       "      <td>30.000000</td>\n",
       "      <td>0.010</td>\n",
       "      <td>37.9</td>\n",
       "      <td>100.0</td>\n",
       "      <td>0.00</td>\n",
       "      <td>-500.0</td>\n",
       "      <td>29.65</td>\n",
       "      <td>10.0</td>\n",
       "    </tr>\n",
       "    <tr>\n",
       "      <th>2</th>\n",
       "      <td>30.000000</td>\n",
       "      <td>0.010</td>\n",
       "      <td>36.0</td>\n",
       "      <td>100.0</td>\n",
       "      <td>-10.00</td>\n",
       "      <td>33.3</td>\n",
       "      <td>29.67</td>\n",
       "      <td>10.0</td>\n",
       "    </tr>\n",
       "    <tr>\n",
       "      <th>3</th>\n",
       "      <td>30.000000</td>\n",
       "      <td>0.010</td>\n",
       "      <td>35.1</td>\n",
       "      <td>96.0</td>\n",
       "      <td>-10.00</td>\n",
       "      <td>31.0</td>\n",
       "      <td>29.64</td>\n",
       "      <td>9.0</td>\n",
       "    </tr>\n",
       "    <tr>\n",
       "      <th>4</th>\n",
       "      <td>30.000000</td>\n",
       "      <td>0.010</td>\n",
       "      <td>36.0</td>\n",
       "      <td>89.0</td>\n",
       "      <td>-10.00</td>\n",
       "      <td>33.3</td>\n",
       "      <td>29.65</td>\n",
       "      <td>6.0</td>\n",
       "    </tr>\n",
       "    <tr>\n",
       "      <th>...</th>\n",
       "      <td>...</td>\n",
       "      <td>...</td>\n",
       "      <td>...</td>\n",
       "      <td>...</td>\n",
       "      <td>...</td>\n",
       "      <td>...</td>\n",
       "      <td>...</td>\n",
       "      <td>...</td>\n",
       "    </tr>\n",
       "    <tr>\n",
       "      <th>3513612</th>\n",
       "      <td>28.600000</td>\n",
       "      <td>0.543</td>\n",
       "      <td>86.0</td>\n",
       "      <td>40.0</td>\n",
       "      <td>0.00</td>\n",
       "      <td>86.0</td>\n",
       "      <td>28.92</td>\n",
       "      <td>10.0</td>\n",
       "    </tr>\n",
       "    <tr>\n",
       "      <th>3513613</th>\n",
       "      <td>26.883333</td>\n",
       "      <td>0.338</td>\n",
       "      <td>70.0</td>\n",
       "      <td>73.0</td>\n",
       "      <td>0.00</td>\n",
       "      <td>70.0</td>\n",
       "      <td>29.39</td>\n",
       "      <td>10.0</td>\n",
       "    </tr>\n",
       "    <tr>\n",
       "      <th>3513614</th>\n",
       "      <td>28.466667</td>\n",
       "      <td>0.561</td>\n",
       "      <td>73.0</td>\n",
       "      <td>64.0</td>\n",
       "      <td>0.00</td>\n",
       "      <td>73.0</td>\n",
       "      <td>29.74</td>\n",
       "      <td>10.0</td>\n",
       "    </tr>\n",
       "    <tr>\n",
       "      <th>3513615</th>\n",
       "      <td>29.350000</td>\n",
       "      <td>0.772</td>\n",
       "      <td>71.0</td>\n",
       "      <td>81.0</td>\n",
       "      <td>0.00</td>\n",
       "      <td>71.0</td>\n",
       "      <td>29.62</td>\n",
       "      <td>10.0</td>\n",
       "    </tr>\n",
       "    <tr>\n",
       "      <th>3513616</th>\n",
       "      <td>29.416667</td>\n",
       "      <td>0.537</td>\n",
       "      <td>79.0</td>\n",
       "      <td>47.0</td>\n",
       "      <td>0.00</td>\n",
       "      <td>79.0</td>\n",
       "      <td>28.63</td>\n",
       "      <td>7.0</td>\n",
       "    </tr>\n",
       "  </tbody>\n",
       "</table>\n",
       "<p>3372123 rows × 8 columns</p>\n",
       "</div>"
      ],
      "text/plain": [
       "         Accident_Length  Accident_Distance  Temp  Humidity  Precipitation  \\\n",
       "0             314.000000              0.010  36.9      91.0           0.02   \n",
       "1              30.000000              0.010  37.9     100.0           0.00   \n",
       "2              30.000000              0.010  36.0     100.0         -10.00   \n",
       "3              30.000000              0.010  35.1      96.0         -10.00   \n",
       "4              30.000000              0.010  36.0      89.0         -10.00   \n",
       "...                  ...                ...   ...       ...            ...   \n",
       "3513612        28.600000              0.543  86.0      40.0           0.00   \n",
       "3513613        26.883333              0.338  70.0      73.0           0.00   \n",
       "3513614        28.466667              0.561  73.0      64.0           0.00   \n",
       "3513615        29.350000              0.772  71.0      81.0           0.00   \n",
       "3513616        29.416667              0.537  79.0      47.0           0.00   \n",
       "\n",
       "         Wind_Chill  Pressure  Visibility  \n",
       "0            -500.0     29.68        10.0  \n",
       "1            -500.0     29.65        10.0  \n",
       "2              33.3     29.67        10.0  \n",
       "3              31.0     29.64         9.0  \n",
       "4              33.3     29.65         6.0  \n",
       "...             ...       ...         ...  \n",
       "3513612        86.0     28.92        10.0  \n",
       "3513613        70.0     29.39        10.0  \n",
       "3513614        73.0     29.74        10.0  \n",
       "3513615        71.0     29.62        10.0  \n",
       "3513616        79.0     28.63         7.0  \n",
       "\n",
       "[3372123 rows x 8 columns]"
      ]
     },
     "execution_count": 35,
     "metadata": {},
     "output_type": "execute_result"
    }
   ],
   "source": [
    "X_over.iloc[:,:8]"
   ]
  },
  {
   "cell_type": "code",
   "execution_count": 36,
   "metadata": {},
   "outputs": [],
   "source": [
    "transformer = MaxAbsScaler().fit(X_over.iloc[:,:8].values)\n",
    "X_norm = transformer.transform(X_over.iloc[:,:8])"
   ]
  },
  {
   "cell_type": "code",
   "execution_count": 37,
   "metadata": {},
   "outputs": [
    {
     "data": {
      "text/plain": [
       "array([[ 2.20822665e-04,  2.99733233e-05,  7.38000000e-02, ...,\n",
       "        -1.00000000e+00,  5.93600000e-02,  2.00000000e-02],\n",
       "       [ 2.10977069e-05,  2.99733233e-05,  7.58000000e-02, ...,\n",
       "        -1.00000000e+00,  5.93000000e-02,  2.00000000e-02],\n",
       "       [ 2.10977069e-05,  2.99733233e-05,  7.20000000e-02, ...,\n",
       "         6.66000000e-02,  5.93400000e-02,  2.00000000e-02],\n",
       "       ...,\n",
       "       [ 2.00193797e-05,  1.68150344e-03,  1.46000000e-01, ...,\n",
       "         1.46000000e-01,  5.94800000e-02,  2.00000000e-02],\n",
       "       [ 2.06405899e-05,  2.31394056e-03,  1.42000000e-01, ...,\n",
       "         1.42000000e-01,  5.92400000e-02,  2.00000000e-02],\n",
       "       [ 2.06874737e-05,  1.60956746e-03,  1.58000000e-01, ...,\n",
       "         1.58000000e-01,  5.72600000e-02,  1.40000000e-02]])"
      ]
     },
     "execution_count": 37,
     "metadata": {},
     "output_type": "execute_result"
    }
   ],
   "source": [
    "X_norm"
   ]
  },
  {
   "cell_type": "code",
   "execution_count": 38,
   "metadata": {},
   "outputs": [],
   "source": [
    "import torch\n",
    "from torch.utils import data\n",
    "\n",
    "class Dataset(data.Dataset):\n",
    "    'Characterizes a dataset for PyTorch'\n",
    "    def __init__(self, x, labels):\n",
    "        'Initialization'\n",
    "        self.labels = labels\n",
    "        self.x = x\n",
    "        \n",
    "    def __len__(self):\n",
    "        'Denotes the total number of samples'\n",
    "        return len(self.x)\n",
    "\n",
    "    def __getitem__(self, index):\n",
    "        'Generates one sample of data'\n",
    "        # Select sample\n",
    "        #ID = self.x[index]\n",
    "\n",
    "        # Load data and get label\n",
    "        \n",
    "        curr_x = self.x[index]\n",
    "\n",
    "        y = self.labels[index]\n",
    "        out_y = np.zeros(2)\n",
    "        out_y[int(y)] = 1    \n",
    "\n",
    "        return curr_x, out_y\n",
    "    \n",
    "    \n"
   ]
  },
  {
   "cell_type": "code",
   "execution_count": 39,
   "metadata": {},
   "outputs": [
    {
     "data": {
      "text/plain": [
       "array([3, 2, 2, ..., 2, 2, 2])"
      ]
     },
     "execution_count": 39,
     "metadata": {},
     "output_type": "execute_result"
    }
   ],
   "source": [
    "X_over['Severity'].values"
   ]
  },
  {
   "cell_type": "code",
   "execution_count": 40,
   "metadata": {},
   "outputs": [
    {
     "name": "stderr",
     "output_type": "stream",
     "text": [
      "Using TensorFlow backend.\n"
     ]
    }
   ],
   "source": [
    "from imblearn.over_sampling import SMOTE\n",
    "sm = SMOTE(random_state=42,sampling_strategy='minority')\n",
    "X_res, y_res = sm.fit_resample(X_norm[:,:8], X_over['Severity'].values - 2)"
   ]
  },
  {
   "cell_type": "code",
   "execution_count": 41,
   "metadata": {},
   "outputs": [
    {
     "data": {
      "text/plain": [
       "array([[1],\n",
       "       [0],\n",
       "       [0],\n",
       "       ...,\n",
       "       [1],\n",
       "       [1],\n",
       "       [1]])"
      ]
     },
     "execution_count": 41,
     "metadata": {},
     "output_type": "execute_result"
    }
   ],
   "source": [
    "y_res.reshape(len(y_res),1)"
   ]
  },
  {
   "cell_type": "code",
   "execution_count": 42,
   "metadata": {},
   "outputs": [
    {
     "data": {
      "text/plain": [
       "array([ 2.20822665e-04,  2.99733233e-05,  7.38000000e-02,  9.10000000e-01,\n",
       "        8.00000000e-04, -1.00000000e+00,  5.93600000e-02,  2.00000000e-02,\n",
       "        1.00000000e+00])"
      ]
     },
     "execution_count": 42,
     "metadata": {},
     "output_type": "execute_result"
    }
   ],
   "source": [
    "X_y_smoted = np.concatenate((X_res,y_res.reshape(len(y_res),1)), axis=1)\n",
    "X_y_smoted[0]"
   ]
  },
  {
   "cell_type": "code",
   "execution_count": 43,
   "metadata": {},
   "outputs": [],
   "source": [
    "#shuffle data\n",
    "np.random.shuffle(X_y_smoted)"
   ]
  },
  {
   "cell_type": "code",
   "execution_count": 44,
   "metadata": {},
   "outputs": [
    {
     "data": {
      "text/plain": [
       "array([ 3.12246062e-05,  3.29706556e-04,  1.78200000e-01,  5.20000000e-01,\n",
       "       -4.00000000e-01, -1.00000000e+00,  5.98600000e-02,  2.00000000e-02,\n",
       "        0.00000000e+00])"
      ]
     },
     "execution_count": 44,
     "metadata": {},
     "output_type": "execute_result"
    }
   ],
   "source": [
    "X_y_smoted[0]"
   ]
  },
  {
   "cell_type": "code",
   "execution_count": 45,
   "metadata": {},
   "outputs": [
    {
     "data": {
      "text/plain": [
       "2697698"
      ]
     },
     "execution_count": 45,
     "metadata": {},
     "output_type": "execute_result"
    }
   ],
   "source": [
    "num_examples = int(len(X_norm)*.8)\n",
    "num_examples"
   ]
  },
  {
   "cell_type": "code",
   "execution_count": 46,
   "metadata": {},
   "outputs": [],
   "source": [
    "X_res = X_y_smoted[:,:8]\n",
    "y_res = X_y_smoted[:,8]"
   ]
  },
  {
   "cell_type": "code",
   "execution_count": 47,
   "metadata": {},
   "outputs": [
    {
     "data": {
      "text/plain": [
       "{0.0: 2373210, 1.0: 2373210}"
      ]
     },
     "execution_count": 47,
     "metadata": {},
     "output_type": "execute_result"
    }
   ],
   "source": [
    "unique, counts = np.unique(y_res, return_counts=True)\n",
    "dict(zip(unique, counts))"
   ]
  },
  {
   "cell_type": "code",
   "execution_count": 48,
   "metadata": {},
   "outputs": [
    {
     "data": {
      "text/plain": [
       "array([1., 1.])"
      ]
     },
     "execution_count": 48,
     "metadata": {},
     "output_type": "execute_result"
    }
   ],
   "source": [
    "#class_weights = np.asarray([1.0,1.0,1.0,1.0])\n",
    "class_weights = np.asarray([1.0,1.0])\n",
    "class_weights"
   ]
  },
  {
   "cell_type": "code",
   "execution_count": 50,
   "metadata": {},
   "outputs": [
    {
     "data": {
      "text/plain": [
       "XGBClassifier(base_score=0.5, booster='gbtree', colsample_bylevel=1,\n",
       "              colsample_bynode=1, colsample_bytree=1, gamma=0,\n",
       "              learning_rate=0.1, max_delta_step=0, max_depth=4,\n",
       "              min_child_weight=1, missing=None, n_estimators=100, n_jobs=1,\n",
       "              nthread=None, objective='binary:logistic', random_state=0,\n",
       "              reg_alpha=0, reg_lambda=1, scale_pos_weight=1, seed=None,\n",
       "              silent=None, subsample=1, verbosity=1)"
      ]
     },
     "execution_count": 50,
     "metadata": {},
     "output_type": "execute_result"
    }
   ],
   "source": [
    "from xgboost import XGBClassifier\n",
    "\n",
    "param_dist = {'n_estimators':100, 'max_depth':4}\n",
    "\n",
    "xgboost_model = XGBClassifier(**param_dist)\n",
    "xgboost_model.fit(X_res[:(num_examples)], y_res[:num_examples], verbose=False)"
   ]
  },
  {
   "cell_type": "code",
   "execution_count": null,
   "metadata": {},
   "outputs": [],
   "source": [
    "#from xgboost import XGBRegressor\n",
    "\n",
    "#xgboost_model = XGBRegressor(n_estimators=100,max_depth=4)\n",
    "#xgboost_model.fit(X_res[:(num_examples)], y_res[:num_examples], verbose=False)"
   ]
  },
  {
   "cell_type": "code",
   "execution_count": 51,
   "metadata": {},
   "outputs": [
    {
     "name": "stdout",
     "output_type": "stream",
     "text": [
      "Mean Absolute Error Test : 0.3105989978142471\n",
      "Accuracy:  0.6894010021857528\n",
      "(array([0.67543761, 0.70579266]), array([0.72936615, 0.64942454]), array([0.70136676, 0.67643633]), array([1024506, 1024216]))\n"
     ]
    }
   ],
   "source": [
    "from sklearn.metrics import precision_recall_fscore_support\n",
    "\n",
    "from sklearn.metrics import accuracy_score\n",
    "# make predictions\n",
    "x_test_xgboost = xgboost_model.predict(X_res[(num_examples):])\n",
    "\n",
    "from sklearn.metrics import mean_absolute_error\n",
    "print(\"Mean Absolute Error Test : \" + str(mean_absolute_error(x_test_xgboost, y_res[num_examples:])))\n",
    "\n",
    "accuracy = accuracy_score(y_res[num_examples:], np.round(x_test_xgboost))\n",
    "print(\"Accuracy: \", accuracy)\n",
    "print(precision_recall_fscore_support(y_res[num_examples:], np.round(x_test_xgboost)))"
   ]
  },
  {
   "cell_type": "code",
   "execution_count": 52,
   "metadata": {},
   "outputs": [
    {
     "name": "stdout",
     "output_type": "stream",
     "text": [
      "Mean Absolute Error Train: 0.3105039926633745\n",
      "Accuracy:  0.6894960073366255\n",
      "(array([0.67545417, 0.70597078]), array([0.72938317, 0.64961742]), array([0.70138356, 0.67662276]), array([1348704, 1348994]))\n"
     ]
    }
   ],
   "source": [
    "\n",
    "x_train_xgboost = xgboost_model.predict(X_res[:(num_examples)])\n",
    "\n",
    "from sklearn.metrics import mean_absolute_error\n",
    "print(\"Mean Absolute Error Train: \" + str(mean_absolute_error(x_train_xgboost, y_res[:num_examples])))\n",
    "\n",
    "accuracy = accuracy_score(y_res[:num_examples], np.round(x_train_xgboost))\n",
    "print(\"Accuracy: \", accuracy)\n",
    "print(precision_recall_fscore_support(y_res[:num_examples], np.round(x_train_xgboost)))"
   ]
  },
  {
   "cell_type": "code",
   "execution_count": 53,
   "metadata": {},
   "outputs": [
    {
     "data": {
      "text/plain": [
       "array([1., 1., 0., ..., 1., 0., 1.])"
      ]
     },
     "execution_count": 53,
     "metadata": {},
     "output_type": "execute_result"
    }
   ],
   "source": [
    "x_train_xgboost"
   ]
  },
  {
   "cell_type": "code",
   "execution_count": 54,
   "metadata": {},
   "outputs": [
    {
     "data": {
      "text/plain": [
       "array([0., 1.])"
      ]
     },
     "execution_count": 54,
     "metadata": {},
     "output_type": "execute_result"
    }
   ],
   "source": [
    "np.unique(np.round(x_train_xgboost))"
   ]
  },
  {
   "cell_type": "code",
   "execution_count": 55,
   "metadata": {},
   "outputs": [
    {
     "name": "stdout",
     "output_type": "stream",
     "text": [
      "[[983722 472664]\n",
      " [364982 876330]]\n",
      "[[747240 359065]\n",
      " [277266 665151]]\n"
     ]
    }
   ],
   "source": [
    "print(confusion_matrix(np.round(x_train_xgboost),y_res[:num_examples]))\n",
    "print(confusion_matrix(np.round(x_test_xgboost),y_res[num_examples:]))"
   ]
  },
  {
   "cell_type": "code",
   "execution_count": null,
   "metadata": {},
   "outputs": [],
   "source": [
    "X_over['Severity'][:num_examples]"
   ]
  },
  {
   "cell_type": "code",
   "execution_count": 56,
   "metadata": {},
   "outputs": [],
   "source": [
    "x_norm_train_xgb = xgboost_model.predict(X_norm[:(num_examples)])\n",
    "x_norm_test_xgb = xgboost_model.predict(X_norm[(num_examples):])"
   ]
  },
  {
   "cell_type": "code",
   "execution_count": 57,
   "metadata": {},
   "outputs": [
    {
     "data": {
      "text/plain": [
       "(3372123, 8)"
      ]
     },
     "execution_count": 57,
     "metadata": {},
     "output_type": "execute_result"
    }
   ],
   "source": [
    "X_norm.shape"
   ]
  },
  {
   "cell_type": "code",
   "execution_count": 58,
   "metadata": {},
   "outputs": [
    {
     "data": {
      "text/plain": [
       "(2697698,)"
      ]
     },
     "execution_count": 58,
     "metadata": {},
     "output_type": "execute_result"
    }
   ],
   "source": [
    "x_norm_train_xgb.shape"
   ]
  },
  {
   "cell_type": "code",
   "execution_count": 61,
   "metadata": {},
   "outputs": [],
   "source": [
    "x_all = np.concatenate((X_norm[:(num_examples)], x_norm_train_xgb.reshape(len(x_norm_train_xgb),1)),axis=1)"
   ]
  },
  {
   "cell_type": "code",
   "execution_count": 65,
   "metadata": {},
   "outputs": [
    {
     "name": "stdout",
     "output_type": "stream",
     "text": [
      "Mean Absolute Error Train: 0.3493504461952376\n",
      "Accuracy:  0.6506495538047624\n",
      "(array([0.75418801, 0.47055305]), array([0.71245932, 0.5239297 ]), array([0.73273004, 0.49580894]), array([1813253,  884445]))\n"
     ]
    }
   ],
   "source": [
    "from sklearn.metrics import mean_absolute_error\n",
    "print(\"Mean Absolute Error Train: \" + str(mean_absolute_error(x_norm_train_xgb, X_over['Severity'][:(num_examples)].values - 2)))\n",
    "\n",
    "\n",
    "accuracy = accuracy_score(X_over['Severity'][:(num_examples)].values - 2, np.round(x_norm_train_xgb))\n",
    "print(\"Accuracy: \", accuracy)\n",
    "print(precision_recall_fscore_support(X_over['Severity'][:(num_examples)].values - 2, np.round(x_norm_train_xgb)))"
   ]
  },
  {
   "cell_type": "code",
   "execution_count": 68,
   "metadata": {},
   "outputs": [],
   "source": [
    "training_set = Dataset(x_norm_train_xgb, X_over['Severity'][:(num_examples)].values - 2)\n",
    "training_generator = data.DataLoader(training_set, batch_size=8192, shuffle=True)\n",
    "\n",
    "test_set = Dataset(x_norm_test_xgb, X_over['Severity'][(num_examples):].values - 2)\n",
    "test_generator = data.DataLoader(test_set, batch_size=len(x_norm_test_xgb), shuffle=False)"
   ]
  },
  {
   "cell_type": "code",
   "execution_count": 69,
   "metadata": {},
   "outputs": [
    {
     "data": {
      "text/plain": [
       "330"
      ]
     },
     "execution_count": 69,
     "metadata": {},
     "output_type": "execute_result"
    }
   ],
   "source": [
    "len(training_generator)"
   ]
  },
  {
   "cell_type": "code",
   "execution_count": 70,
   "metadata": {},
   "outputs": [
    {
     "data": {
      "text/plain": [
       "1"
      ]
     },
     "execution_count": 70,
     "metadata": {},
     "output_type": "execute_result"
    }
   ],
   "source": [
    "len(test_generator)"
   ]
  },
  {
   "cell_type": "code",
   "execution_count": 71,
   "metadata": {},
   "outputs": [
    {
     "data": {
      "text/plain": [
       "2048722"
      ]
     },
     "execution_count": 71,
     "metadata": {},
     "output_type": "execute_result"
    }
   ],
   "source": [
    "len(x_test_xgboost)"
   ]
  },
  {
   "cell_type": "code",
   "execution_count": 72,
   "metadata": {},
   "outputs": [],
   "source": [
    "class Accident_Model(nn.Module):\n",
    "    def __init__(self):\n",
    "        super(Accident_Model, self).__init__()\n",
    "        self.w1 = nn.Linear(1,4,bias=True)\n",
    "        nn.init.xavier_uniform_(self.w1.weight)\n",
    "        nn.init.zeros_(self.w1.bias)\n",
    "        self.bn1 = torch.nn.BatchNorm1d(4)\n",
    "        \n",
    "        \n",
    "        self.w2 = nn.Linear(4,2,bias=True)\n",
    "        nn.init.xavier_uniform_(self.w2.weight)\n",
    "        nn.init.zeros_(self.w2.bias)\n",
    "        #self.bn2 = torch.nn.BatchNorm1d(4)\n",
    "        \n",
    "        '''\n",
    "        self.w3 = nn.Linear(4,2,bias=True)\n",
    "        nn.init.xavier_uniform_(self.w3.weight)\n",
    "        nn.init.zeros_(self.w3.bias)\n",
    "        '''\n",
    "    \n",
    "    \n",
    "    def forward(self, x):\n",
    "        #print(x)\n",
    "        x = x.float()\n",
    "        x = self.bn1(F.relu(self.w1(x)))\n",
    "        \n",
    "        x = self.w2(x)\n",
    "        '''\n",
    "        x = self.bn2(F.relu(self.w2(x)))\n",
    "        x = self.w3(x)\n",
    "        \n",
    "        x = self.w1(x.float())\n",
    "        x = F.relu(self.w1(x.float()))\n",
    "        x = self.w2(x)\n",
    "        \n",
    "        \n",
    "        '''\n",
    "        return x\n",
    "\n"
   ]
  },
  {
   "cell_type": "code",
   "execution_count": 73,
   "metadata": {},
   "outputs": [
    {
     "data": {
      "text/plain": [
       "array([1., 1.])"
      ]
     },
     "execution_count": 73,
     "metadata": {},
     "output_type": "execute_result"
    }
   ],
   "source": [
    "from sklearn.metrics import precision_recall_fscore_support\n",
    "class_weights"
   ]
  },
  {
   "cell_type": "code",
   "execution_count": 74,
   "metadata": {},
   "outputs": [
    {
     "name": "stdout",
     "output_type": "stream",
     "text": [
      "(2697698,)\n",
      "(3372123, 9)\n",
      "3372123\n",
      "[2 3]\n"
     ]
    }
   ],
   "source": [
    "print(x_train_xgboost.shape)\n",
    "print(X.shape)\n",
    "print(len(X['Severity']))\n",
    "print(np.unique(X['Severity']))"
   ]
  },
  {
   "cell_type": "code",
   "execution_count": 75,
   "metadata": {},
   "outputs": [],
   "source": [
    "def sigmoid(x):\n",
    "    return np.divide(1.0, np.add(1.0, np.exp(-1.0*x)))"
   ]
  },
  {
   "cell_type": "code",
   "execution_count": 78,
   "metadata": {},
   "outputs": [
    {
     "name": "stdout",
     "output_type": "stream",
     "text": [
      "Step: 0\n",
      "Train Loss:  0.8317409870142001\n",
      "Test Loss:  0.7989938374416283\n",
      "0.5434053076290593\n",
      "[[1608 1410]\n",
      " [3912 1262]]\n",
      "(array([0.53280318, 0.24391187]), array([0.29130435, 0.47230539]), array([0.37666901, 0.32169258]), array([5520, 2672]))\n",
      "\n",
      "\n",
      "[[120864  46399]\n",
      " [439093  68069]]\n",
      "(array([0.72259854, 0.1342155 ]), array([0.21584515, 0.59465527]), array([0.3324001 , 0.21900166]), array([559957, 114468]))\n",
      "Step: 0\n",
      "Train Loss:  0.791226764466046\n",
      "Test Loss:  0.7554513340736541\n",
      "0.4588830592597207\n",
      "[[1635 1382]\n",
      " [3901 1274]]\n",
      "(array([0.54192907, 0.24618357]), array([0.2953396 , 0.47966867]), array([0.38232199, 0.32537352]), array([5536, 2656]))\n",
      "\n",
      "\n",
      "[[120864  46399]\n",
      " [439093  68069]]\n",
      "(array([0.72259854, 0.1342155 ]), array([0.21584515, 0.59465527]), array([0.3324001 , 0.21900166]), array([559957, 114468]))\n",
      "Step: 0\n",
      "Train Loss:  0.751645148753596\n",
      "Test Loss:  0.7153671492026116\n",
      "0.34987266622516044\n",
      "[[1617 1409]\n",
      " [3872 1294]]\n",
      "(array([0.5343688 , 0.25048393]), array([0.29458918, 0.47872734]), array([0.37980035, 0.3288855 ]), array([5489, 2703]))\n",
      "\n",
      "\n",
      "[[120864  46399]\n",
      " [439093  68069]]\n",
      "(array([0.72259854, 0.1342155 ]), array([0.21584515, 0.59465527]), array([0.3324001 , 0.21900166]), array([559957, 114468]))\n",
      "Step: 0\n",
      "Train Loss:  0.7409963355894433\n",
      "Test Loss:  0.7036129649907917\n",
      "0.3192603296860978\n",
      "[[1549 1433]\n",
      " [3920 1290]]\n",
      "(array([0.51945003, 0.24760077]), array([0.28323277, 0.4737422 ]), array([0.36658384, 0.32522375]), array([5469, 2723]))\n",
      "\n",
      "\n",
      "[[120864  46399]\n",
      " [439093  68069]]\n",
      "(array([0.72259854, 0.1342155 ]), array([0.21584515, 0.59465527]), array([0.3324001 , 0.21900166]), array([559957, 114468]))\n",
      "Step: 0\n",
      "Train Loss:  0.728408798550845\n",
      "Test Loss:  0.6959905694325625\n",
      "0.2917401042766531\n",
      "[[1548 1392]\n",
      " [3965 1287]]\n",
      "(array([0.52653061, 0.2450495 ]), array([0.28079086, 0.48040314]), array([0.3662605 , 0.32454924]), array([5513, 2679]))\n",
      "\n",
      "\n",
      "[[120864  46399]\n",
      " [439093  68069]]\n",
      "(array([0.72259854, 0.1342155 ]), array([0.21584515, 0.59465527]), array([0.3324001 , 0.21900166]), array([559957, 114468]))\n",
      "Step: 0\n",
      "Train Loss:  0.720383915516777\n",
      "Test Loss:  0.6902110454688349\n",
      "0.2672207709611441\n",
      "[[1643 1484]\n",
      " [3813 1252]]\n",
      "(array([0.52542373, 0.24718657]), array([0.30113636, 0.45760234]), array([0.38284982, 0.32098449]), array([5456, 2736]))\n",
      "\n",
      "\n",
      "[[120864  46399]\n",
      " [439093  68069]]\n",
      "(array([0.72259854, 0.1342155 ]), array([0.21584515, 0.59465527]), array([0.3324001 , 0.21900166]), array([559957, 114468]))\n",
      "Step: 0\n",
      "Train Loss:  0.7103666083494318\n",
      "Test Loss:  0.6857681292775848\n",
      "0.24572806110709788\n",
      "[[1598 1376]\n",
      " [3914 1304]]\n",
      "(array([0.53732347, 0.24990418]), array([0.28991292, 0.48656716]), array([0.37662032, 0.33021018]), array([5512, 2680]))\n",
      "\n",
      "\n",
      "[[120864  46399]\n",
      " [439093  68069]]\n",
      "(array([0.72259854, 0.1342155 ]), array([0.21584515, 0.59465527]), array([0.3324001 , 0.21900166]), array([559957, 114468]))\n"
     ]
    }
   ],
   "source": [
    "net = Accident_Model()\n",
    "\n",
    "optimizer = torch.optim.Adam(net.parameters(), lr=0.001,weight_decay=0.95)\n",
    "criterion = nn.BCEWithLogitsLoss(weight=torch.Tensor(class_weights))\n",
    "\n",
    "for epoch in np.arange(1):\n",
    "    for batch_idx,(batch, labels) in enumerate(training_generator):\n",
    "\n",
    "        optimizer.zero_grad()\n",
    "        outputs = net(batch.reshape(len(batch),1)).float()\n",
    "\n",
    "        loss = criterion(outputs,np.squeeze(labels))\n",
    "        loss.backward()\n",
    "        optimizer.step()\n",
    "\n",
    "        if batch_idx % 50 == 0:\n",
    "            for test_batch, test_labels in test_generator:\n",
    "                test_outputs = net(test_batch.reshape(len(test_batch),1))\n",
    "                #test_outputs_ = F.sigmoid(test_outputs.detach())\n",
    "                test_loss = criterion(test_outputs.float(),np.squeeze(test_labels))\n",
    "                \n",
    "                print(\"Step:\",epoch)\n",
    "                print(\"Train Loss: \", loss.item())\n",
    "                print(\"Test Loss: \", test_loss.item())\n",
    "\n",
    "                print(mean_absolute_error(test_outputs.detach().max(1).values,test_labels.detach().argmax(1)))\n",
    "                \n",
    "                print(confusion_matrix(sigmoid(outputs.detach()).argmax(1), labels.detach().argmax(1)))\n",
    "                print(precision_recall_fscore_support(labels.detach().argmax(1), sigmoid(outputs.detach()).argmax(1), average=None))\n",
    "                print(\"\\n\")\n",
    "                print(confusion_matrix(sigmoid(test_outputs.detach()).argmax(1), test_labels.detach().argmax(1)))\n",
    "                print(precision_recall_fscore_support(test_labels.detach().argmax(1), sigmoid(test_outputs.detach()).argmax(1), average=None))\n",
    "                \n",
    "                break;\n"
   ]
  },
  {
   "cell_type": "code",
   "execution_count": null,
   "metadata": {},
   "outputs": [],
   "source": []
  }
 ],
 "metadata": {
  "kernelspec": {
   "display_name": "Python 3",
   "language": "python",
   "name": "python3"
  },
  "language_info": {
   "codemirror_mode": {
    "name": "ipython",
    "version": 3
   },
   "file_extension": ".py",
   "mimetype": "text/x-python",
   "name": "python",
   "nbconvert_exporter": "python",
   "pygments_lexer": "ipython3",
   "version": "3.6.8"
  }
 },
 "nbformat": 4,
 "nbformat_minor": 4
}
