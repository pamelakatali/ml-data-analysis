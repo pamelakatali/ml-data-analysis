{
 "cells": [
  {
   "cell_type": "code",
   "execution_count": 1,
   "metadata": {},
   "outputs": [
    {
     "name": "stderr",
     "output_type": "stream",
     "text": [
      "/opt/anaconda3/envs/bumblebee/lib/python3.9/site-packages/gensim/similarities/__init__.py:15: UserWarning: The gensim.similarities.levenshtein submodule is disabled, because the optional Levenshtein package <https://pypi.org/project/python-Levenshtein/> is unavailable. Install Levenhstein (e.g. `pip install python-Levenshtein`) to suppress this warning.\n",
      "  warnings.warn(msg)\n"
     ]
    }
   ],
   "source": [
    "import os\n",
    "import torch\n",
    "import numpy as np\n",
    "import pandas as pd\n",
    "import torch.nn as nn\n",
    "import torch.nn.functional as F\n",
    "from torch.utils.data import Dataset, DataLoader\n",
    "\n",
    "from gensim.utils import simple_preprocess\n",
    "from sklearn.feature_extraction.text import TfidfVectorizer\n",
    "from imblearn.over_sampling import SMOTE\n",
    "\n",
    "from sklearn.metrics import accuracy_score\n",
    "from sklearn.metrics import precision_recall_fscore_support\n",
    "\n",
    "import collections"
   ]
  },
  {
   "cell_type": "code",
   "execution_count": 2,
   "metadata": {},
   "outputs": [
    {
     "name": "stderr",
     "output_type": "stream",
     "text": [
      "04/23/2021 10:43:59 - INFO - tensorflow -   Enabling eager execution\n",
      "04/23/2021 10:43:59 - INFO - tensorflow -   Enabling v2 tensorshape\n",
      "04/23/2021 10:43:59 - INFO - tensorflow -   Enabling resource variables\n",
      "04/23/2021 10:43:59 - INFO - tensorflow -   Enabling tensor equality\n",
      "04/23/2021 10:43:59 - INFO - tensorflow -   Enabling control flow v2\n",
      "04/23/2021 10:44:00 - INFO - farm.modeling.prediction_head -   Better speed can be achieved with apex installed from https://www.github.com/nvidia/apex .\n"
     ]
    }
   ],
   "source": [
    "import torch\n",
    "from farm.modeling.tokenization import Tokenizer\n",
    "from farm.data_handler.processor import TextClassificationProcessor\n",
    "from farm.data_handler.data_silo import DataSilo\n",
    "from farm.modeling.language_model import LanguageModel\n",
    "from farm.modeling.prediction_head import TextClassificationHead\n",
    "from farm.modeling.adaptive_model import AdaptiveModel\n",
    "from farm.modeling.optimization import initialize_optimizer\n",
    "from farm.train import Trainer\n",
    "from farm.utils import MLFlowLogger"
   ]
  },
  {
   "cell_type": "code",
   "execution_count": 3,
   "metadata": {},
   "outputs": [
    {
     "name": "stdout",
     "output_type": "stream",
     "text": [
      "Devices available: cpu\n"
     ]
    }
   ],
   "source": [
    "device = torch.device(\"cuda\" if torch.cuda.is_available() else \"cpu\")\n",
    "print(\"Devices available: {}\".format(device))"
   ]
  },
  {
   "cell_type": "code",
   "execution_count": 4,
   "metadata": {},
   "outputs": [
    {
     "name": "stderr",
     "output_type": "stream",
     "text": [
      "04/23/2021 10:44:01 - INFO - farm.modeling.tokenization -   Loading tokenizer of type 'BertTokenizer'\n"
     ]
    }
   ],
   "source": [
    "tokenizer = Tokenizer.load(pretrained_model_name_or_path=\"bert-base-uncased\")\n",
    "#tokenizer = simple_preprocess"
   ]
  },
  {
   "cell_type": "code",
   "execution_count": null,
   "metadata": {},
   "outputs": [],
   "source": []
  },
  {
   "cell_type": "code",
   "execution_count": 5,
   "metadata": {},
   "outputs": [],
   "source": [
    "#LABEL_LIST = [\"OTHER\", \"OFFENSE\"]\n",
    "LABEL_LIST = ['0','1']\n",
    "processor = TextClassificationProcessor(tokenizer=tokenizer,\n",
    "                                        max_seq_len=128,\n",
    "                                        data_dir=\"\",\n",
    "                                        train_filename=\"\",\n",
    "                                        test_filename=\"\",\n",
    "                                        label_list=LABEL_LIST,\n",
    "                                        metric=\"f1_macro\",\n",
    "                                        label_column_name=\"\")"
   ]
  },
  {
   "cell_type": "code",
   "execution_count": 6,
   "metadata": {},
   "outputs": [],
   "source": [
    "save_dir = ''"
   ]
  },
  {
   "cell_type": "code",
   "execution_count": 8,
   "metadata": {},
   "outputs": [],
   "source": [
    "def get_metrics(result, targets, comments):\n",
    "    inputs = []\n",
    "    preds = []\n",
    "    probs = []\n",
    "    count = 0\n",
    "    for task in result:\n",
    "        for pred in task['predictions']:\n",
    "            inputs.append(pred['context'])\n",
    "            #preds.append(int(pred['label']))\n",
    "            probs.append(pred['probability'])\n",
    "            preds.append(np.argmax(pred['probability']))\n",
    "            #if int(pred['label']) != targets[count]:\n",
    "            #    print(comments[count],\"\\t\",pred['probability'])\n",
    "            count += 1\n",
    "    return preds,probs\n",
    "    "
   ]
  },
  {
   "cell_type": "code",
   "execution_count": null,
   "metadata": {},
   "outputs": [],
   "source": [
    "import transformers\n",
    "import nlp\n",
    "import torch\n",
    "import numpy as np\n",
    "import scipy as sp\n",
    "import shap"
   ]
  },
  {
   "cell_type": "code",
   "execution_count": null,
   "metadata": {},
   "outputs": [],
   "source": [
    "save_dir = ''\n",
    "lang_model = LanguageModel.load(save_dir)"
   ]
  },
  {
   "cell_type": "code",
   "execution_count": null,
   "metadata": {},
   "outputs": [],
   "source": [
    "tokenizer = Tokenizer.load(pretrained_model_name_or_path=\"bert-base-uncased\",max_length=512)\n",
    "model = AdaptiveModel.load(save_dir, device=device)"
   ]
  },
  {
   "cell_type": "code",
   "execution_count": null,
   "metadata": {},
   "outputs": [],
   "source": [
    "count = 0\n",
    "num_exmpls = 100\n",
    "\n",
    "model = AdaptiveModel.load(save_dir, device=device)\n",
    "\n",
    "# define a prediction function\n",
    "def f(x):\n",
    "\n",
    "    global count\n",
    "    \n",
    "    scores_vals = []\n",
    "    for v in x:\n",
    "        \n",
    "        tkns = tokenizer(v)\n",
    "\n",
    "        input_ids = torch.tensor([tkns['input_ids'][:512]])\n",
    "        \n",
    "        token_type_ids = torch.tensor([tkns['token_type_ids'][:512]])\n",
    "        attention_mask = torch.tensor([tkns['attention_mask'][:512]])\n",
    "        \n",
    "        p = model(input_ids=input_ids,segment_ids=None,padding_mask=None,token_type_ids=token_type_ids,attention_mask=attention_mask)\n",
    "\n",
    "        #print(p)\n",
    "        outputs = p[0].detach().numpy()\n",
    "        scores = np.exp(outputs) / np.exp(outputs).sum(-1)\n",
    "        #print(scores)\n",
    "        scores_vals.append(scores[0][1])\n",
    "        #break;\n",
    "    count += 1\n",
    "    return scores_vals\n",
    "\n"
   ]
  },
  {
   "cell_type": "code",
   "execution_count": 16,
   "metadata": {},
   "outputs": [],
   "source": [
    "# build an explainer using a token masker\n",
    "explainer = shap.Explainer(f, tokenizer)"
   ]
  },
  {
   "cell_type": "code",
   "execution_count": 18,
   "metadata": {},
   "outputs": [],
   "source": [
    "exmpl_coms = [\"I hate you. I am going to kill you.\",\"I really love working with him!\"]"
   ]
  },
  {
   "cell_type": "code",
   "execution_count": 19,
   "metadata": {},
   "outputs": [],
   "source": [
    "shap_values = explainer(exmpl_coms, fixed_context=1)"
   ]
  },
  {
   "cell_type": "code",
   "execution_count": 21,
   "metadata": {},
   "outputs": [
    {
     "name": "stderr",
     "output_type": "stream",
     "text": [
      "Inferencing Samples: 100%|██████████| 1/1 [00:00<00:00,  6.40 Batches/s]\n"
     ]
    }
   ],
   "source": [
    "test_toxic_dataset = [{\"text\": x} for x in exmpl_coms]\n",
    "result_test_toxic = infer_model.inference_from_dicts(dicts=test_toxic_dataset)"
   ]
  },
  {
   "cell_type": "code",
   "execution_count": 20,
   "metadata": {},
   "outputs": [
    {
     "data": {
      "text/plain": [
       ".values =\n",
       "array([array([-3.16384360e-05,  9.16245602e-02,  9.31230209e-02,  9.26267825e-02,\n",
       "               9.05397457e-02,  8.93920093e-02,  8.93720417e-02,  8.90019863e-02,\n",
       "               8.91698926e-02,  9.29179072e-02,  9.13188934e-02,  8.91513705e-02,\n",
       "              -3.73100029e-04])                                                  ,\n",
       "       array([-3.26508869e-05, -1.62628788e-03, -1.93587298e-03, -2.95698977e-03,\n",
       "              -2.46217412e-03,  2.77337166e-03,  3.07033891e-03,  2.92569219e-03,\n",
       "               5.18689760e-06])                                                  ],\n",
       "      dtype=object)\n",
       "\n",
       ".base_values =\n",
       "array([0.00086607, 0.00053031])\n",
       "\n",
       ".data =\n",
       "array([list(['', 'I ', 'hate ', 'you', '. ', 'I ', 'am ', 'going ', 'to ', 'kill ', 'you', '.', '']),\n",
       "       list(['', 'I ', 'really ', 'love ', 'working ', 'with ', 'him', '!', ''])],\n",
       "      dtype=object)"
      ]
     },
     "execution_count": 20,
     "metadata": {},
     "output_type": "execute_result"
    }
   ],
   "source": [
    "shap_values"
   ]
  },
  {
   "cell_type": "code",
   "execution_count": 21,
   "metadata": {},
   "outputs": [
    {
     "name": "stdout",
     "output_type": "stream",
     "text": [
      "[-3.16384360e-05  9.16245602e-02  9.31230209e-02  9.26267825e-02\n",
      "  9.05397457e-02  8.93920093e-02  8.93720417e-02  8.90019863e-02\n",
      "  8.91698926e-02  9.29179072e-02  9.13188934e-02  8.91513705e-02\n",
      " -3.73100029e-04]\n",
      "['', 'I ', 'hate ', 'you', '. ', 'I ', 'am ', 'going ', 'to ', 'kill ', 'you', '.', '']\n",
      "hate  kill  you I  you .  I  am  to  . going    "
     ]
    }
   ],
   "source": [
    "print(shap_values.values[0])\n",
    "print(shap_values.data[0])\n",
    "inds = np.argsort(-shap_values.values[0])\n",
    "for i in inds:\n",
    "    print(shap_values.data[0][i],end=' ')"
   ]
  },
  {
   "cell_type": "code",
   "execution_count": 22,
   "metadata": {},
   "outputs": [
    {
     "data": {
      "text/html": [
       "<svg width=\"100%\" height=\"80px\"><line x1=\"0\" y1=\"33\" x2=\"100%\" y2=\"33\" style=\"stroke:rgb(150,150,150);stroke-width:1\" /><line x1=\"8.367107%\" y1=\"33\" x2=\"8.367107%\" y2=\"37\" style=\"stroke:rgb(150,150,150);stroke-width:1\" /><text x=\"8.367107%\" y=\"27\" font-size=\"12px\" fill=\"rgb(120,120,120)\" dominant-baseline=\"bottom\" text-anchor=\"middle\">0.000866</text><text x=\"8.367107%\" y=\"10\" font-size=\"12px\" fill=\"rgb(120,120,120)\" dominant-baseline=\"bottom\" text-anchor=\"middle\">base value</text><line x1=\"22.652822%\" y1=\"33\" x2=\"22.652822%\" y2=\"37\" style=\"stroke:rgb(150,150,150);stroke-width:1\" /><text x=\"22.652822%\" y=\"27\" font-size=\"12px\" fill=\"rgb(120,120,120)\" dominant-baseline=\"bottom\" text-anchor=\"middle\">0.172062</text><line x1=\"36.938536%\" y1=\"33\" x2=\"36.938536%\" y2=\"37\" style=\"stroke:rgb(150,150,150);stroke-width:1\" /><text x=\"36.938536%\" y=\"27\" font-size=\"12px\" fill=\"rgb(120,120,120)\" dominant-baseline=\"bottom\" text-anchor=\"middle\">0.343258</text><line x1=\"51.224250%\" y1=\"33\" x2=\"51.224250%\" y2=\"37\" style=\"stroke:rgb(150,150,150);stroke-width:1\" /><text x=\"51.224250%\" y=\"27\" font-size=\"12px\" fill=\"rgb(120,120,120)\" dominant-baseline=\"bottom\" text-anchor=\"middle\">0.514454</text><line x1=\"65.509965%\" y1=\"33\" x2=\"65.509965%\" y2=\"37\" style=\"stroke:rgb(150,150,150);stroke-width:1\" /><text x=\"65.509965%\" y=\"27\" font-size=\"12px\" fill=\"rgb(120,120,120)\" dominant-baseline=\"bottom\" text-anchor=\"middle\">0.685650</text><line x1=\"79.795679%\" y1=\"33\" x2=\"79.795679%\" y2=\"37\" style=\"stroke:rgb(150,150,150);stroke-width:1\" /><text x=\"79.795679%\" y=\"27\" font-size=\"12px\" fill=\"rgb(120,120,120)\" dominant-baseline=\"bottom\" text-anchor=\"middle\">0.856846</text><line x1=\"91.632893%\" y1=\"33\" x2=\"91.632893%\" y2=\"37\" style=\"stroke:rgb(150,150,150);stroke-width:1\" /><text x=\"91.632893%\" y=\"27\" font-size=\"13px\" style=\"stroke:#ffffff;stroke-width:8px;\" font-weight=\"bold\" fill=\"rgb(255,255,255)\" dominant-baseline=\"bottom\" text-anchor=\"middle\">0.998700</text><text x=\"91.632893%\" y=\"27\" font-size=\"13px\" font-weight=\"bold\" fill=\"rgb(0,0,0)\" dominant-baseline=\"bottom\" text-anchor=\"middle\">0.998700</text><text x=\"91.632893%\" y=\"10\" font-size=\"12px\" fill=\"rgb(120,120,120)\" dominant-baseline=\"bottom\" text-anchor=\"middle\">f(x)</text><rect x=\"8.354942599818875%\" width=\"83.27795002831681%\" y=\"40\" height=\"18\" style=\"fill:rgb(255.0, 0.0, 81.08083606031792); stroke-width:0; stroke:rgb(0,0,0)\" /><line x1=\"8.35868919254548%\" x2=\"91.63289262813568%\" y1=\"60\" y2=\"60\" id=\"_fb_qahftrxckafnafqofpva_ind_1\" style=\"stroke:rgb(255.0, 0.0, 81.08083606031792);stroke-width:2; opacity: 0\"/><text x=\"49.99579091034058%\" y=\"71\" font-size=\"12px\" id=\"_fs_qahftrxckafnafqofpva_ind_1\" fill=\"rgb(255.0, 0.0, 81.08083606031792)\" style=\"opacity: 0\" dominant-baseline=\"middle\" text-anchor=\"middle\">0.998</text><svg x=\"8.35868919254548%\" y=\"40\" height=\"20\" width=\"83.2742034355902%\">  <svg x=\"0\" y=\"0\" width=\"100%\" height=\"100%\">    <text x=\"50%\" y=\"9\" font-size=\"12px\" fill=\"rgb(255,255,255)\" dominant-baseline=\"middle\" text-anchor=\"middle\">I hate you. I am going to kill you.</text>  </svg></svg><line x1=\"8.354942599818875%\" x2=\"8.35868919254548%\" y1=\"60\" y2=\"60\" id=\"_fb_qahftrxckafnafqofpva_ind_0\" style=\"stroke:rgb(255.0, 0.0, 81.08083606031792);stroke-width:2; opacity: 0\"/><text x=\"8.356815896182177%\" y=\"71\" font-size=\"12px\" id=\"_fs_qahftrxckafnafqofpva_ind_0\" fill=\"rgb(255.0, 0.0, 81.08083606031792)\" style=\"opacity: 0\" dominant-baseline=\"middle\" text-anchor=\"middle\">0.0</text><svg x=\"8.354942599818875%\" y=\"40\" height=\"20\" width=\"0.003746592726605158%\">  <svg x=\"0\" y=\"0\" width=\"100%\" height=\"100%\">    <text x=\"50%\" y=\"9\" font-size=\"12px\" fill=\"rgb(255,255,255)\" dominant-baseline=\"middle\" text-anchor=\"middle\"></text>  </svg></svg><g transform=\"translate(0,0)\">  <svg x=\"8.35868919254548%\" y=\"40\" height=\"18\" overflow=\"visible\" width=\"30\">    <path d=\"M 0 -9 l 6 18 L 0 25\" fill=\"none\" style=\"stroke:rgb(255.0, 0.0, 81.08083606031792);stroke-width:2\" />  </svg></g><g transform=\"translate(2,0)\">  <svg x=\"8.35868919254548%\" y=\"40\" height=\"18\" overflow=\"visible\" width=\"30\">    <path d=\"M 0 -9 l 6 18 L 0 25\" fill=\"none\" style=\"stroke:rgb(255.0, 0.0, 81.08083606031792);stroke-width:2\" />  </svg></g><g transform=\"translate(4,0)\">  <svg x=\"8.35868919254548%\" y=\"40\" height=\"18\" overflow=\"visible\" width=\"30\">    <path d=\"M 0 -9 l 6 18 L 0 25\" fill=\"none\" style=\"stroke:rgb(255.0, 0.0, 81.08083606031792);stroke-width:2\" />  </svg></g><g transform=\"translate(6,0)\">  <svg x=\"8.35868919254548%\" y=\"40\" height=\"18\" overflow=\"visible\" width=\"30\">    <path d=\"M 0 -9 l 6 18 L 0 25\" fill=\"none\" style=\"stroke:rgb(255.0, 0.0, 81.08083606031792);stroke-width:2\" />  </svg></g><g transform=\"translate(-8,0)\">  <svg x=\"8.35868919254548%\" y=\"40\" height=\"18\" overflow=\"visible\" width=\"30\">    <path d=\"M 0 -9 l 6 18 L 0 25\" fill=\"none\" style=\"stroke:rgb(255.0, 0.0, 81.08083606031792);stroke-width:2\" />  </svg></g><g transform=\"translate(-6,0)\">  <svg x=\"8.35868919254548%\" y=\"40\" height=\"18\" overflow=\"visible\" width=\"30\">    <path d=\"M 0 -9 l 6 18 L 0 25\" fill=\"none\" style=\"stroke:rgb(255.0, 0.0, 81.08083606031792);stroke-width:2\" />  </svg></g><g transform=\"translate(-4,0)\">  <svg x=\"8.35868919254548%\" y=\"40\" height=\"18\" overflow=\"visible\" width=\"30\">    <path d=\"M 0 -9 l 6 18 L 0 25\" fill=\"none\" style=\"stroke:rgb(255.0, 0.0, 81.08083606031792);stroke-width:2\" />  </svg></g><g transform=\"translate(-2,0)\">  <svg x=\"8.35868919254548%\" y=\"40\" height=\"18\" overflow=\"visible\" width=\"30\">    <path d=\"M 0 -9 l 6 18 L 0 25\" fill=\"none\" style=\"stroke:rgb(255.0, 0.0, 81.08083606031792);stroke-width:2\" />  </svg></g><rect transform=\"translate(-8,0)\" x=\"91.63289262813568%\" y=\"40\" width=\"8\" height=\"18\" style=\"fill:rgb(255.0, 0.0, 81.08083606031792)\"/><g transform=\"translate(-11.5,0)\">  <svg x=\"8.354942599818875%\" y=\"40\" height=\"18\" overflow=\"visible\" width=\"30\">    <path d=\"M 10 -9 l 6 18 L 10 25 L 0 25 L 0 -9\" fill=\"#ffffff\" style=\"stroke:rgb(255,255,255);stroke-width:2\" />  </svg></g><g transform=\"translate(-1.5,0)\">  <svg x=\"91.63289262813568%\" y=\"40\" height=\"18\" overflow=\"visible\" width=\"30\">    <path d=\"M 0 -9 l 6 18 L 0 25\" fill=\"none\" style=\"stroke:rgb(255, 195, 213);stroke-width:2\" />  </svg></g><rect x=\"8.35868919254548%\" y=\"40\" height=\"20\" width=\"83.2742034355902%\"      onmouseover=\"document.getElementById('_tp_qahftrxckafnafqofpva_ind_1').style.textDecoration = 'underline';document.getElementById('_fs_qahftrxckafnafqofpva_ind_1').style.opacity = 1;document.getElementById('_fb_qahftrxckafnafqofpva_ind_1').style.opacity = 1;\"      onmouseout=\"document.getElementById('_tp_qahftrxckafnafqofpva_ind_1').style.textDecoration = 'none';document.getElementById('_fs_qahftrxckafnafqofpva_ind_1').style.opacity = 0;document.getElementById('_fb_qahftrxckafnafqofpva_ind_1').style.opacity = 0;\" style=\"fill:rgb(0,0,0,0)\" /><rect x=\"8.354942599818875%\" y=\"40\" height=\"20\" width=\"0.003746592726605158%\"      onmouseover=\"document.getElementById('_tp_qahftrxckafnafqofpva_ind_0').style.textDecoration = 'underline';document.getElementById('_fs_qahftrxckafnafqofpva_ind_0').style.opacity = 1;document.getElementById('_fb_qahftrxckafnafqofpva_ind_0').style.opacity = 1;\"      onmouseout=\"document.getElementById('_tp_qahftrxckafnafqofpva_ind_0').style.textDecoration = 'none';document.getElementById('_fs_qahftrxckafnafqofpva_ind_0').style.opacity = 0;document.getElementById('_fb_qahftrxckafnafqofpva_ind_0').style.opacity = 0;\" style=\"fill:rgb(0,0,0,0)\" /><rect x=\"91.63289262813568%\" width=\"0.01216477204543049%\" y=\"40\" height=\"18\" style=\"fill:rgb(0.0, 138.56128015770727, 250.76166088685727); stroke-width:0; stroke:rgb(0,0,0)\" /><line x1=\"91.63289262813568%\" x2=\"91.6450574001811%\" y1=\"60\" y2=\"60\" id=\"_fb_qahftrxckafnafqofpva_ind_2\" style=\"stroke:rgb(0.0, 138.56128015770727, 250.76166088685727);stroke-width:2; opacity: 0\"/><text x=\"91.63897501415839%\" y=\"71\" font-size=\"12px\" fill=\"rgb(0.0, 138.56128015770727, 250.76166088685727)\" id=\"_fs_qahftrxckafnafqofpva_ind_2\" style=\"opacity: 0\" dominant-baseline=\"middle\" text-anchor=\"middle\">-0.0</text><svg x=\"91.63289262813568%\" y=\"40\" height=\"20\" width=\"0.012164772045423433%\">  <svg x=\"0\" y=\"0\" width=\"100%\" height=\"100%\">    <text x=\"50%\" y=\"9\" font-size=\"12px\" fill=\"rgb(255,255,255)\" dominant-baseline=\"middle\" text-anchor=\"middle\"></text>  </svg></svg><rect transform=\"translate(0,0)\" x=\"91.63289262813568%\" y=\"40\" width=\"8\" height=\"18\" style=\"fill:rgb(0.0, 138.56128015770727, 250.76166088685727)\"/><g transform=\"translate(-6.0,0)\">  <svg x=\"91.6450574001811%\" y=\"40\" height=\"18\" overflow=\"visible\" width=\"30\">    <path d=\"M 8 -9 l -6 18 L 8 25 L 20 25 L 20 -9\" fill=\"#ffffff\" style=\"stroke:rgb(255,255,255);stroke-width:2\" />  </svg></g><rect x=\"91.63289262813568%\" y=\"40\" height=\"20\" width=\"0.012164772045423433%\"      onmouseover=\"document.getElementById('_tp_qahftrxckafnafqofpva_ind_2').style.textDecoration = 'underline';document.getElementById('_fs_qahftrxckafnafqofpva_ind_2').style.opacity = 1;document.getElementById('_fb_qahftrxckafnafqofpva_ind_2').style.opacity = 1;\"      onmouseout=\"document.getElementById('_tp_qahftrxckafnafqofpva_ind_2').style.textDecoration = 'none';document.getElementById('_fs_qahftrxckafnafqofpva_ind_2').style.opacity = 0;document.getElementById('_fb_qahftrxckafnafqofpva_ind_2').style.opacity = 0;\" style=\"fill:rgb(0,0,0,0)\" /></svg><div style='display: inline; text-align: center;'><div style='display: none; color: #999; padding-top: 0px; font-size: 12px;'>0.0</div><div id='_tp_qahftrxckafnafqofpva_ind_0'style='display: inline; background: rgba(230.2941176470614, 26.505882352939775, 102.59215686274348, 0.0); border-radius: 3px; padding: 0px'onclick=\"if (this.previousSibling.style.display == 'none') {this.previousSibling.style.display = 'block';this.parentNode.style.display = 'inline-block';} else {this.previousSibling.style.display = 'none';this.parentNode.style.display = 'inline';}\"onmouseover=\"document.getElementById('_fb_qahftrxckafnafqofpva_ind_0').style.opacity = 1; document.getElementById('_fs_qahftrxckafnafqofpva_ind_0').style.opacity = 1;\"onmouseout=\"document.getElementById('_fb_qahftrxckafnafqofpva_ind_0').style.opacity = 0; document.getElementById('_fs_qahftrxckafnafqofpva_ind_0').style.opacity = 0;\"></div></div><div style='display: inline; text-align: center;'><div style='display: none; color: #999; padding-top: 0px; font-size: 12px;'>0.998 / 11</div><div id='_tp_qahftrxckafnafqofpva_ind_1'style='display: inline; background: rgba(255.0, 13.0, 87.0, 1.0); border-radius: 3px; padding: 0px'onclick=\"if (this.previousSibling.style.display == 'none') {this.previousSibling.style.display = 'block';this.parentNode.style.display = 'inline-block';} else {this.previousSibling.style.display = 'none';this.parentNode.style.display = 'inline';}\"onmouseover=\"document.getElementById('_fb_qahftrxckafnafqofpva_ind_1').style.opacity = 1; document.getElementById('_fs_qahftrxckafnafqofpva_ind_1').style.opacity = 1;\"onmouseout=\"document.getElementById('_fb_qahftrxckafnafqofpva_ind_1').style.opacity = 0; document.getElementById('_fs_qahftrxckafnafqofpva_ind_1').style.opacity = 0;\">I hate you. I am going to kill you.</div></div><div style='display: inline; text-align: center;'><div style='display: none; color: #999; padding-top: 0px; font-size: 12px;'>-0.0</div><div id='_tp_qahftrxckafnafqofpva_ind_2'style='display: inline; background: rgba(54.70588235294111, 122.49411764705886, 213.40784313725496, 0.0); border-radius: 3px; padding: 0px'onclick=\"if (this.previousSibling.style.display == 'none') {this.previousSibling.style.display = 'block';this.parentNode.style.display = 'inline-block';} else {this.previousSibling.style.display = 'none';this.parentNode.style.display = 'inline';}\"onmouseover=\"document.getElementById('_fb_qahftrxckafnafqofpva_ind_2').style.opacity = 1; document.getElementById('_fs_qahftrxckafnafqofpva_ind_2').style.opacity = 1;\"onmouseout=\"document.getElementById('_fb_qahftrxckafnafqofpva_ind_2').style.opacity = 0; document.getElementById('_fs_qahftrxckafnafqofpva_ind_2').style.opacity = 0;\"></div></div>"
      ],
      "text/plain": [
       "<IPython.core.display.HTML object>"
      ]
     },
     "metadata": {},
     "output_type": "display_data"
    }
   ],
   "source": [
    "# plot the first sentence's explanation\n",
    "shap.plots.text(shap_values[0])"
   ]
  },
  {
   "cell_type": "code",
   "execution_count": 23,
   "metadata": {},
   "outputs": [
    {
     "name": "stdout",
     "output_type": "stream",
     "text": [
      "[-3.26508869e-05 -1.62628788e-03 -1.93587298e-03 -2.95698977e-03\n",
      " -2.46217412e-03  2.77337166e-03  3.07033891e-03  2.92569219e-03\n",
      "  5.18689760e-06]\n",
      "['', 'I ', 'really ', 'love ', 'working ', 'with ', 'him', '!', '']\n",
      "love  working  really  I    with  ! him "
     ]
    }
   ],
   "source": [
    "print(shap_values.values[1])\n",
    "print(shap_values.data[1])\n",
    "inds = np.argsort(shap_values.values[1])\n",
    "for i in inds:\n",
    "    print(shap_values.data[1][i],end=' ')"
   ]
  },
  {
   "cell_type": "code",
   "execution_count": 24,
   "metadata": {},
   "outputs": [
    {
     "data": {
      "text/html": [
       "<svg width=\"100%\" height=\"80px\"><line x1=\"0\" y1=\"33\" x2=\"100%\" y2=\"33\" style=\"stroke:rgb(150,150,150);stroke-width:1\" /><line x1=\"50.560721%\" y1=\"33\" x2=\"50.560721%\" y2=\"37\" style=\"stroke:rgb(150,150,150);stroke-width:1\" /><text x=\"50.560721%\" y=\"27\" font-size=\"12px\" fill=\"rgb(120,120,120)\" dominant-baseline=\"bottom\" text-anchor=\"middle\">0.000530</text><text x=\"50.560721%\" y=\"10\" font-size=\"12px\" fill=\"rgb(120,120,120)\" dominant-baseline=\"bottom\" text-anchor=\"middle\">base value</text><line x1=\"36.275006%\" y1=\"33\" x2=\"36.275006%\" y2=\"37\" style=\"stroke:rgb(150,150,150);stroke-width:1\" /><text x=\"36.275006%\" y=\"27\" font-size=\"12px\" fill=\"rgb(120,120,120)\" dominant-baseline=\"bottom\" text-anchor=\"middle\">-0.002519</text><line x1=\"21.989292%\" y1=\"33\" x2=\"21.989292%\" y2=\"37\" style=\"stroke:rgb(150,150,150);stroke-width:1\" /><text x=\"21.989292%\" y=\"27\" font-size=\"12px\" fill=\"rgb(120,120,120)\" dominant-baseline=\"bottom\" text-anchor=\"middle\">-0.005569</text><line x1=\"7.703578%\" y1=\"33\" x2=\"7.703578%\" y2=\"37\" style=\"stroke:rgb(150,150,150);stroke-width:1\" /><text x=\"7.703578%\" y=\"27\" font-size=\"12px\" fill=\"rgb(120,120,120)\" dominant-baseline=\"bottom\" text-anchor=\"middle\">-0.008618</text><line x1=\"64.846435%\" y1=\"33\" x2=\"64.846435%\" y2=\"37\" style=\"stroke:rgb(150,150,150);stroke-width:1\" /><text x=\"64.846435%\" y=\"27\" font-size=\"12px\" fill=\"rgb(120,120,120)\" dominant-baseline=\"bottom\" text-anchor=\"middle\">0.003580</text><line x1=\"79.132149%\" y1=\"33\" x2=\"79.132149%\" y2=\"37\" style=\"stroke:rgb(150,150,150);stroke-width:1\" /><text x=\"79.132149%\" y=\"27\" font-size=\"12px\" fill=\"rgb(120,120,120)\" dominant-baseline=\"bottom\" text-anchor=\"middle\">0.006629</text><line x1=\"49.439279%\" y1=\"33\" x2=\"49.439279%\" y2=\"37\" style=\"stroke:rgb(150,150,150);stroke-width:1\" /><text x=\"49.439279%\" y=\"27\" font-size=\"13px\" style=\"stroke:#ffffff;stroke-width:8px;\" font-weight=\"bold\" fill=\"rgb(255,255,255)\" dominant-baseline=\"bottom\" text-anchor=\"middle\">0.000291</text><text x=\"49.439279%\" y=\"27\" font-size=\"13px\" font-weight=\"bold\" fill=\"rgb(0,0,0)\" dominant-baseline=\"bottom\" text-anchor=\"middle\">0.000291</text><text x=\"49.439279%\" y=\"10\" font-size=\"12px\" fill=\"rgb(120,120,120)\" dominant-baseline=\"bottom\" text-anchor=\"middle\">f(x)</text><rect x=\"0.9655741848678833%\" width=\"48.47370514426904%\" y=\"40\" height=\"18\" style=\"fill:rgb(255.0, 0.0, 81.08083606031792); stroke-width:0; stroke:rgb(0,0,0)\" /><line x1=\"24.86455262861542%\" x2=\"49.43927932913693%\" y1=\"60\" y2=\"60\" id=\"_fb_usieyiccwpusnzjovqwp_ind_4\" style=\"stroke:rgb(255.0, 0.0, 81.08083606031792);stroke-width:2; opacity: 0\"/><text x=\"37.151915978876175%\" y=\"71\" font-size=\"12px\" id=\"_fs_usieyiccwpusnzjovqwp_ind_4\" fill=\"rgb(255.0, 0.0, 81.08083606031792)\" style=\"opacity: 0\" dominant-baseline=\"middle\" text-anchor=\"middle\">0.005</text><svg x=\"24.86455262861542%\" y=\"40\" height=\"20\" width=\"24.57472670052151%\">  <svg x=\"0\" y=\"0\" width=\"100%\" height=\"100%\">    <text x=\"50%\" y=\"9\" font-size=\"12px\" fill=\"rgb(255,255,255)\" dominant-baseline=\"middle\" text-anchor=\"middle\">!</text>  </svg></svg><line x1=\"12.309261853723468%\" x2=\"24.86455262861542%\" y1=\"60\" y2=\"60\" id=\"_fb_usieyiccwpusnzjovqwp_ind_3\" style=\"stroke:rgb(255.0, 0.0, 81.08083606031792);stroke-width:2; opacity: 0\"/><text x=\"18.586907241169445%\" y=\"71\" font-size=\"12px\" id=\"_fs_usieyiccwpusnzjovqwp_ind_3\" fill=\"rgb(255.0, 0.0, 81.08083606031792)\" style=\"opacity: 0\" dominant-baseline=\"middle\" text-anchor=\"middle\">0.003</text><svg x=\"12.309261853723468%\" y=\"40\" height=\"20\" width=\"12.555290774891953%\">  <svg x=\"0\" y=\"0\" width=\"100%\" height=\"100%\">    <text x=\"50%\" y=\"9\" font-size=\"12px\" fill=\"rgb(255,255,255)\" dominant-baseline=\"middle\" text-anchor=\"middle\">him</text>  </svg></svg><line x1=\"1.1451608900800336%\" x2=\"12.309261853723468%\" y1=\"60\" y2=\"60\" id=\"_fb_usieyiccwpusnzjovqwp_ind_2\" style=\"stroke:rgb(255.0, 0.0, 81.08083606031792);stroke-width:2; opacity: 0\"/><text x=\"6.727211371901751%\" y=\"71\" font-size=\"12px\" id=\"_fs_usieyiccwpusnzjovqwp_ind_2\" fill=\"rgb(255.0, 0.0, 81.08083606031792)\" style=\"opacity: 0\" dominant-baseline=\"middle\" text-anchor=\"middle\">0.002</text><svg x=\"1.1451608900800336%\" y=\"40\" height=\"20\" width=\"11.164100963643435%\">  <svg x=\"0\" y=\"0\" width=\"100%\" height=\"100%\">    <text x=\"50%\" y=\"9\" font-size=\"12px\" fill=\"rgb(255,255,255)\" dominant-baseline=\"middle\" text-anchor=\"middle\">with</text>  </svg></svg><line x1=\"0.9655741848678833%\" x2=\"1.1451608900800336%\" y1=\"60\" y2=\"60\" id=\"_fb_usieyiccwpusnzjovqwp_ind_0\" style=\"stroke:rgb(255.0, 0.0, 81.08083606031792);stroke-width:2; opacity: 0\"/><text x=\"1.0553675374739584%\" y=\"71\" font-size=\"12px\" id=\"_fs_usieyiccwpusnzjovqwp_ind_0\" fill=\"rgb(255.0, 0.0, 81.08083606031792)\" style=\"opacity: 0\" dominant-baseline=\"middle\" text-anchor=\"middle\">0.0</text><svg x=\"0.9655741848678833%\" y=\"40\" height=\"20\" width=\"0.17958670521215037%\">  <svg x=\"0\" y=\"0\" width=\"100%\" height=\"100%\">    <text x=\"50%\" y=\"9\" font-size=\"12px\" fill=\"rgb(255,255,255)\" dominant-baseline=\"middle\" text-anchor=\"middle\"></text>  </svg></svg><g transform=\"translate(0,0)\">  <svg x=\"24.86455262861542%\" y=\"40\" height=\"18\" overflow=\"visible\" width=\"30\">    <path d=\"M 0 -9 l 6 18 L 0 25\" fill=\"none\" style=\"stroke:rgb(255.0, 0.0, 81.08083606031792);stroke-width:2\" />  </svg></g><g transform=\"translate(2,0)\">  <svg x=\"24.86455262861542%\" y=\"40\" height=\"18\" overflow=\"visible\" width=\"30\">    <path d=\"M 0 -9 l 6 18 L 0 25\" fill=\"none\" style=\"stroke:rgb(255.0, 0.0, 81.08083606031792);stroke-width:2\" />  </svg></g><g transform=\"translate(4,0)\">  <svg x=\"24.86455262861542%\" y=\"40\" height=\"18\" overflow=\"visible\" width=\"30\">    <path d=\"M 0 -9 l 6 18 L 0 25\" fill=\"none\" style=\"stroke:rgb(255.0, 0.0, 81.08083606031792);stroke-width:2\" />  </svg></g><g transform=\"translate(6,0)\">  <svg x=\"24.86455262861542%\" y=\"40\" height=\"18\" overflow=\"visible\" width=\"30\">    <path d=\"M 0 -9 l 6 18 L 0 25\" fill=\"none\" style=\"stroke:rgb(255.0, 0.0, 81.08083606031792);stroke-width:2\" />  </svg></g><g transform=\"translate(-8,0)\">  <svg x=\"24.86455262861542%\" y=\"40\" height=\"18\" overflow=\"visible\" width=\"30\">    <path d=\"M 0 -9 l 6 18 L 0 25\" fill=\"none\" style=\"stroke:rgb(255.0, 0.0, 81.08083606031792);stroke-width:2\" />  </svg></g><g transform=\"translate(-6,0)\">  <svg x=\"24.86455262861542%\" y=\"40\" height=\"18\" overflow=\"visible\" width=\"30\">    <path d=\"M 0 -9 l 6 18 L 0 25\" fill=\"none\" style=\"stroke:rgb(255.0, 0.0, 81.08083606031792);stroke-width:2\" />  </svg></g><g transform=\"translate(-4,0)\">  <svg x=\"24.86455262861542%\" y=\"40\" height=\"18\" overflow=\"visible\" width=\"30\">    <path d=\"M 0 -9 l 6 18 L 0 25\" fill=\"none\" style=\"stroke:rgb(255.0, 0.0, 81.08083606031792);stroke-width:2\" />  </svg></g><g transform=\"translate(-2,0)\">  <svg x=\"24.86455262861542%\" y=\"40\" height=\"18\" overflow=\"visible\" width=\"30\">    <path d=\"M 0 -9 l 6 18 L 0 25\" fill=\"none\" style=\"stroke:rgb(255.0, 0.0, 81.08083606031792);stroke-width:2\" />  </svg></g><g transform=\"translate(0,0)\">  <svg x=\"12.309261853723468%\" y=\"40\" height=\"18\" overflow=\"visible\" width=\"30\">    <path d=\"M 0 -9 l 6 18 L 0 25\" fill=\"none\" style=\"stroke:rgb(255.0, 0.0, 81.08083606031792);stroke-width:2\" />  </svg></g><g transform=\"translate(2,0)\">  <svg x=\"12.309261853723468%\" y=\"40\" height=\"18\" overflow=\"visible\" width=\"30\">    <path d=\"M 0 -9 l 6 18 L 0 25\" fill=\"none\" style=\"stroke:rgb(255.0, 0.0, 81.08083606031792);stroke-width:2\" />  </svg></g><g transform=\"translate(4,0)\">  <svg x=\"12.309261853723468%\" y=\"40\" height=\"18\" overflow=\"visible\" width=\"30\">    <path d=\"M 0 -9 l 6 18 L 0 25\" fill=\"none\" style=\"stroke:rgb(255.0, 0.0, 81.08083606031792);stroke-width:2\" />  </svg></g><g transform=\"translate(6,0)\">  <svg x=\"12.309261853723468%\" y=\"40\" height=\"18\" overflow=\"visible\" width=\"30\">    <path d=\"M 0 -9 l 6 18 L 0 25\" fill=\"none\" style=\"stroke:rgb(255.0, 0.0, 81.08083606031792);stroke-width:2\" />  </svg></g><g transform=\"translate(-8,0)\">  <svg x=\"12.309261853723468%\" y=\"40\" height=\"18\" overflow=\"visible\" width=\"30\">    <path d=\"M 0 -9 l 6 18 L 0 25\" fill=\"none\" style=\"stroke:rgb(255.0, 0.0, 81.08083606031792);stroke-width:2\" />  </svg></g><g transform=\"translate(-6,0)\">  <svg x=\"12.309261853723468%\" y=\"40\" height=\"18\" overflow=\"visible\" width=\"30\">    <path d=\"M 0 -9 l 6 18 L 0 25\" fill=\"none\" style=\"stroke:rgb(255.0, 0.0, 81.08083606031792);stroke-width:2\" />  </svg></g><g transform=\"translate(-4,0)\">  <svg x=\"12.309261853723468%\" y=\"40\" height=\"18\" overflow=\"visible\" width=\"30\">    <path d=\"M 0 -9 l 6 18 L 0 25\" fill=\"none\" style=\"stroke:rgb(255.0, 0.0, 81.08083606031792);stroke-width:2\" />  </svg></g><g transform=\"translate(-2,0)\">  <svg x=\"12.309261853723468%\" y=\"40\" height=\"18\" overflow=\"visible\" width=\"30\">    <path d=\"M 0 -9 l 6 18 L 0 25\" fill=\"none\" style=\"stroke:rgb(255.0, 0.0, 81.08083606031792);stroke-width:2\" />  </svg></g><g transform=\"translate(0,0)\">  <svg x=\"1.1451608900800336%\" y=\"40\" height=\"18\" overflow=\"visible\" width=\"30\">    <path d=\"M 0 -9 l 6 18 L 0 25\" fill=\"none\" style=\"stroke:rgb(255.0, 0.0, 81.08083606031792);stroke-width:2\" />  </svg></g><g transform=\"translate(2,0)\">  <svg x=\"1.1451608900800336%\" y=\"40\" height=\"18\" overflow=\"visible\" width=\"30\">    <path d=\"M 0 -9 l 6 18 L 0 25\" fill=\"none\" style=\"stroke:rgb(255.0, 0.0, 81.08083606031792);stroke-width:2\" />  </svg></g><g transform=\"translate(4,0)\">  <svg x=\"1.1451608900800336%\" y=\"40\" height=\"18\" overflow=\"visible\" width=\"30\">    <path d=\"M 0 -9 l 6 18 L 0 25\" fill=\"none\" style=\"stroke:rgb(255.0, 0.0, 81.08083606031792);stroke-width:2\" />  </svg></g><g transform=\"translate(6,0)\">  <svg x=\"1.1451608900800336%\" y=\"40\" height=\"18\" overflow=\"visible\" width=\"30\">    <path d=\"M 0 -9 l 6 18 L 0 25\" fill=\"none\" style=\"stroke:rgb(255.0, 0.0, 81.08083606031792);stroke-width:2\" />  </svg></g><g transform=\"translate(-8,0)\">  <svg x=\"1.1451608900800336%\" y=\"40\" height=\"18\" overflow=\"visible\" width=\"30\">    <path d=\"M 0 -9 l 6 18 L 0 25\" fill=\"none\" style=\"stroke:rgb(255.0, 0.0, 81.08083606031792);stroke-width:2\" />  </svg></g><g transform=\"translate(-6,0)\">  <svg x=\"1.1451608900800336%\" y=\"40\" height=\"18\" overflow=\"visible\" width=\"30\">    <path d=\"M 0 -9 l 6 18 L 0 25\" fill=\"none\" style=\"stroke:rgb(255.0, 0.0, 81.08083606031792);stroke-width:2\" />  </svg></g><g transform=\"translate(-4,0)\">  <svg x=\"1.1451608900800336%\" y=\"40\" height=\"18\" overflow=\"visible\" width=\"30\">    <path d=\"M 0 -9 l 6 18 L 0 25\" fill=\"none\" style=\"stroke:rgb(255.0, 0.0, 81.08083606031792);stroke-width:2\" />  </svg></g><g transform=\"translate(-2,0)\">  <svg x=\"1.1451608900800336%\" y=\"40\" height=\"18\" overflow=\"visible\" width=\"30\">    <path d=\"M 0 -9 l 6 18 L 0 25\" fill=\"none\" style=\"stroke:rgb(255.0, 0.0, 81.08083606031792);stroke-width:2\" />  </svg></g><rect transform=\"translate(-8,0)\" x=\"49.43927932913693%\" y=\"40\" width=\"8\" height=\"18\" style=\"fill:rgb(255.0, 0.0, 81.08083606031792)\"/><g transform=\"translate(-11.5,0)\">  <svg x=\"0.9655741848678833%\" y=\"40\" height=\"18\" overflow=\"visible\" width=\"30\">    <path d=\"M 10 -9 l 6 18 L 10 25 L 0 25 L 0 -9\" fill=\"#ffffff\" style=\"stroke:rgb(255,255,255);stroke-width:2\" />  </svg></g><g transform=\"translate(-1.5,0)\">  <svg x=\"49.43927932913693%\" y=\"40\" height=\"18\" overflow=\"visible\" width=\"30\">    <path d=\"M 0 -9 l 6 18 L 0 25\" fill=\"none\" style=\"stroke:rgb(255, 195, 213);stroke-width:2\" />  </svg></g><rect x=\"24.86455262861542%\" y=\"40\" height=\"20\" width=\"24.57472670052151%\"      onmouseover=\"document.getElementById('_tp_usieyiccwpusnzjovqwp_ind_4').style.textDecoration = 'underline';document.getElementById('_fs_usieyiccwpusnzjovqwp_ind_4').style.opacity = 1;document.getElementById('_fb_usieyiccwpusnzjovqwp_ind_4').style.opacity = 1;\"      onmouseout=\"document.getElementById('_tp_usieyiccwpusnzjovqwp_ind_4').style.textDecoration = 'none';document.getElementById('_fs_usieyiccwpusnzjovqwp_ind_4').style.opacity = 0;document.getElementById('_fb_usieyiccwpusnzjovqwp_ind_4').style.opacity = 0;\" style=\"fill:rgb(0,0,0,0)\" /><g transform=\"translate(-1.5,0)\">  <svg x=\"24.86455262861542%\" y=\"40\" height=\"18\" overflow=\"visible\" width=\"30\">    <path d=\"M 0 -9 l 6 18 L 0 25\" fill=\"none\" style=\"stroke:rgb(255, 195, 213);stroke-width:2\" />  </svg></g><rect x=\"12.309261853723468%\" y=\"40\" height=\"20\" width=\"12.555290774891953%\"      onmouseover=\"document.getElementById('_tp_usieyiccwpusnzjovqwp_ind_3').style.textDecoration = 'underline';document.getElementById('_fs_usieyiccwpusnzjovqwp_ind_3').style.opacity = 1;document.getElementById('_fb_usieyiccwpusnzjovqwp_ind_3').style.opacity = 1;\"      onmouseout=\"document.getElementById('_tp_usieyiccwpusnzjovqwp_ind_3').style.textDecoration = 'none';document.getElementById('_fs_usieyiccwpusnzjovqwp_ind_3').style.opacity = 0;document.getElementById('_fb_usieyiccwpusnzjovqwp_ind_3').style.opacity = 0;\" style=\"fill:rgb(0,0,0,0)\" /><g transform=\"translate(-1.5,0)\">  <svg x=\"12.309261853723468%\" y=\"40\" height=\"18\" overflow=\"visible\" width=\"30\">    <path d=\"M 0 -9 l 6 18 L 0 25\" fill=\"none\" style=\"stroke:rgb(255, 195, 213);stroke-width:2\" />  </svg></g><rect x=\"1.1451608900800336%\" y=\"40\" height=\"20\" width=\"11.164100963643435%\"      onmouseover=\"document.getElementById('_tp_usieyiccwpusnzjovqwp_ind_2').style.textDecoration = 'underline';document.getElementById('_fs_usieyiccwpusnzjovqwp_ind_2').style.opacity = 1;document.getElementById('_fb_usieyiccwpusnzjovqwp_ind_2').style.opacity = 1;\"      onmouseout=\"document.getElementById('_tp_usieyiccwpusnzjovqwp_ind_2').style.textDecoration = 'none';document.getElementById('_fs_usieyiccwpusnzjovqwp_ind_2').style.opacity = 0;document.getElementById('_fb_usieyiccwpusnzjovqwp_ind_2').style.opacity = 0;\" style=\"fill:rgb(0,0,0,0)\" /><rect x=\"0.9655741848678833%\" y=\"40\" height=\"20\" width=\"0.17958670521215037%\"      onmouseover=\"document.getElementById('_tp_usieyiccwpusnzjovqwp_ind_0').style.textDecoration = 'underline';document.getElementById('_fs_usieyiccwpusnzjovqwp_ind_0').style.opacity = 1;document.getElementById('_fb_usieyiccwpusnzjovqwp_ind_0').style.opacity = 1;\"      onmouseout=\"document.getElementById('_tp_usieyiccwpusnzjovqwp_ind_0').style.textDecoration = 'none';document.getElementById('_fs_usieyiccwpusnzjovqwp_ind_0').style.opacity = 0;document.getElementById('_fb_usieyiccwpusnzjovqwp_ind_0').style.opacity = 0;\" style=\"fill:rgb(0,0,0,0)\" /><rect x=\"49.43927932913693%\" width=\"49.59514648599517%\" y=\"40\" height=\"18\" style=\"fill:rgb(0.0, 138.56128015770727, 250.76166088685727); stroke-width:0; stroke:rgb(0,0,0)\" /><line x1=\"49.43927932913693%\" x2=\"98.9801685212292%\" y1=\"60\" y2=\"60\" id=\"_fb_usieyiccwpusnzjovqwp_ind_1\" style=\"stroke:rgb(0.0, 138.56128015770727, 250.76166088685727);stroke-width:2; opacity: 0\"/><text x=\"74.20972392518307%\" y=\"71\" font-size=\"12px\" fill=\"rgb(0.0, 138.56128015770727, 250.76166088685727)\" id=\"_fs_usieyiccwpusnzjovqwp_ind_1\" style=\"opacity: 0\" dominant-baseline=\"middle\" text-anchor=\"middle\">-0.011</text><svg x=\"49.43927932913693%\" y=\"40\" height=\"20\" width=\"49.54088919209227%\">  <svg x=\"0\" y=\"0\" width=\"100%\" height=\"100%\">    <text x=\"50%\" y=\"9\" font-size=\"12px\" fill=\"rgb(255,255,255)\" dominant-baseline=\"middle\" text-anchor=\"middle\">I really love working</text>  </svg></svg><line x1=\"98.9801685212292%\" x2=\"99.03442581513211%\" y1=\"60\" y2=\"60\" id=\"_fb_usieyiccwpusnzjovqwp_ind_5\" style=\"stroke:rgb(0.0, 138.56128015770727, 250.76166088685727);stroke-width:2; opacity: 0\"/><text x=\"99.00729716818066%\" y=\"71\" font-size=\"12px\" fill=\"rgb(0.0, 138.56128015770727, 250.76166088685727)\" id=\"_fs_usieyiccwpusnzjovqwp_ind_5\" style=\"opacity: 0\" dominant-baseline=\"middle\" text-anchor=\"middle\">-0.0</text><svg x=\"98.9801685212292%\" y=\"40\" height=\"20\" width=\"0.05425729390290712%\">  <svg x=\"0\" y=\"0\" width=\"100%\" height=\"100%\">    <text x=\"50%\" y=\"9\" font-size=\"12px\" fill=\"rgb(255,255,255)\" dominant-baseline=\"middle\" text-anchor=\"middle\"></text>  </svg></svg><g transform=\"translate(-8,0)\">  <svg x=\"98.9801685212292%\" y=\"40\" height=\"18\" overflow=\"visible\" width=\"30\">    <path d=\"M 8 -9 l -6 18 L 8 25\" fill=\"none\" style=\"stroke:rgb(0.0, 138.56128015770727, 250.76166088685727);stroke-width:2\" />  </svg></g><g transform=\"translate(-10,0)\">  <svg x=\"98.9801685212292%\" y=\"40\" height=\"18\" overflow=\"visible\" width=\"30\">    <path d=\"M 8 -9 l -6 18 L 8 25\" fill=\"none\" style=\"stroke:rgb(0.0, 138.56128015770727, 250.76166088685727);stroke-width:2\" />  </svg></g><g transform=\"translate(-12,0)\">  <svg x=\"98.9801685212292%\" y=\"40\" height=\"18\" overflow=\"visible\" width=\"30\">    <path d=\"M 8 -9 l -6 18 L 8 25\" fill=\"none\" style=\"stroke:rgb(0.0, 138.56128015770727, 250.76166088685727);stroke-width:2\" />  </svg></g><g transform=\"translate(-14,0)\">  <svg x=\"98.9801685212292%\" y=\"40\" height=\"18\" overflow=\"visible\" width=\"30\">    <path d=\"M 8 -9 l -6 18 L 8 25\" fill=\"none\" style=\"stroke:rgb(0.0, 138.56128015770727, 250.76166088685727);stroke-width:2\" />  </svg></g><g transform=\"translate(2,0)\">  <svg x=\"98.9801685212292%\" y=\"40\" height=\"18\" overflow=\"visible\" width=\"30\">    <path d=\"M 8 -9 l -6 18 L 8 25\" fill=\"none\" style=\"stroke:rgb(0.0, 138.56128015770727, 250.76166088685727);stroke-width:2\" />  </svg></g><g transform=\"translate(0,0)\">  <svg x=\"98.9801685212292%\" y=\"40\" height=\"18\" overflow=\"visible\" width=\"30\">    <path d=\"M 8 -9 l -6 18 L 8 25\" fill=\"none\" style=\"stroke:rgb(0.0, 138.56128015770727, 250.76166088685727);stroke-width:2\" />  </svg></g><g transform=\"translate(-2,0)\">  <svg x=\"98.9801685212292%\" y=\"40\" height=\"18\" overflow=\"visible\" width=\"30\">    <path d=\"M 8 -9 l -6 18 L 8 25\" fill=\"none\" style=\"stroke:rgb(0.0, 138.56128015770727, 250.76166088685727);stroke-width:2\" />  </svg></g><g transform=\"translate(-4,0)\">  <svg x=\"98.9801685212292%\" y=\"40\" height=\"18\" overflow=\"visible\" width=\"30\">    <path d=\"M 8 -9 l -6 18 L 8 25\" fill=\"none\" style=\"stroke:rgb(0.0, 138.56128015770727, 250.76166088685727);stroke-width:2\" />  </svg></g><rect transform=\"translate(0,0)\" x=\"49.43927932913693%\" y=\"40\" width=\"8\" height=\"18\" style=\"fill:rgb(0.0, 138.56128015770727, 250.76166088685727)\"/><g transform=\"translate(-6.0,0)\">  <svg x=\"99.03442581513211%\" y=\"40\" height=\"18\" overflow=\"visible\" width=\"30\">    <path d=\"M 8 -9 l -6 18 L 8 25 L 20 25 L 20 -9\" fill=\"#ffffff\" style=\"stroke:rgb(255,255,255);stroke-width:2\" />  </svg></g><g transform=\"translate(-6.0,0)\">  <svg x=\"98.9801685212292%\" y=\"40\" height=\"18\" overflow=\"visible\" width=\"30\">    <path d=\"M 8 -9 l -6 18 L 8 25\" fill=\"none\" style=\"stroke:rgb(208, 230, 250);stroke-width:2\" />  </svg></g><rect x=\"49.43927932913693%\" y=\"40\" height=\"20\" width=\"49.54088919209227%\"      onmouseover=\"document.getElementById('_tp_usieyiccwpusnzjovqwp_ind_1').style.textDecoration = 'underline';document.getElementById('_fs_usieyiccwpusnzjovqwp_ind_1').style.opacity = 1;document.getElementById('_fb_usieyiccwpusnzjovqwp_ind_1').style.opacity = 1;\"      onmouseout=\"document.getElementById('_tp_usieyiccwpusnzjovqwp_ind_1').style.textDecoration = 'none';document.getElementById('_fs_usieyiccwpusnzjovqwp_ind_1').style.opacity = 0;document.getElementById('_fb_usieyiccwpusnzjovqwp_ind_1').style.opacity = 0;\" style=\"fill:rgb(0,0,0,0)\" /><rect x=\"98.9801685212292%\" y=\"40\" height=\"20\" width=\"0.05425729390290712%\"      onmouseover=\"document.getElementById('_tp_usieyiccwpusnzjovqwp_ind_5').style.textDecoration = 'underline';document.getElementById('_fs_usieyiccwpusnzjovqwp_ind_5').style.opacity = 1;document.getElementById('_fb_usieyiccwpusnzjovqwp_ind_5').style.opacity = 1;\"      onmouseout=\"document.getElementById('_tp_usieyiccwpusnzjovqwp_ind_5').style.textDecoration = 'none';document.getElementById('_fs_usieyiccwpusnzjovqwp_ind_5').style.opacity = 0;document.getElementById('_fb_usieyiccwpusnzjovqwp_ind_5').style.opacity = 0;\" style=\"fill:rgb(0,0,0,0)\" /></svg><div style='display: inline; text-align: center;'><div style='display: none; color: #999; padding-top: 0px; font-size: 12px;'>0.0</div><div id='_tp_usieyiccwpusnzjovqwp_ind_0'style='display: inline; background: rgba(255.0, 13.0, 87.0, 0.00677361853832443); border-radius: 3px; padding: 0px'onclick=\"if (this.previousSibling.style.display == 'none') {this.previousSibling.style.display = 'block';this.parentNode.style.display = 'inline-block';} else {this.previousSibling.style.display = 'none';this.parentNode.style.display = 'inline';}\"onmouseover=\"document.getElementById('_fb_usieyiccwpusnzjovqwp_ind_0').style.opacity = 1; document.getElementById('_fs_usieyiccwpusnzjovqwp_ind_0').style.opacity = 1;\"onmouseout=\"document.getElementById('_fb_usieyiccwpusnzjovqwp_ind_0').style.opacity = 0; document.getElementById('_fs_usieyiccwpusnzjovqwp_ind_0').style.opacity = 0;\"></div></div><div style='display: inline; text-align: center;'><div style='display: none; color: #999; padding-top: 0px; font-size: 12px;'>-0.011 / 4</div><div id='_tp_usieyiccwpusnzjovqwp_ind_1'style='display: inline; background: rgba(30.0, 136.0, 229.0, 1.0); border-radius: 3px; padding: 0px'onclick=\"if (this.previousSibling.style.display == 'none') {this.previousSibling.style.display = 'block';this.parentNode.style.display = 'inline-block';} else {this.previousSibling.style.display = 'none';this.parentNode.style.display = 'inline';}\"onmouseover=\"document.getElementById('_fb_usieyiccwpusnzjovqwp_ind_1').style.opacity = 1; document.getElementById('_fs_usieyiccwpusnzjovqwp_ind_1').style.opacity = 1;\"onmouseout=\"document.getElementById('_fb_usieyiccwpusnzjovqwp_ind_1').style.opacity = 0; document.getElementById('_fs_usieyiccwpusnzjovqwp_ind_1').style.opacity = 0;\">I really love working </div></div><div style='display: inline; text-align: center;'><div style='display: none; color: #999; padding-top: 0px; font-size: 12px;'>0.002</div><div id='_tp_usieyiccwpusnzjovqwp_ind_2'style='display: inline; background: rgba(255.0, 13.0, 87.0, 0.77928302634185); border-radius: 3px; padding: 0px'onclick=\"if (this.previousSibling.style.display == 'none') {this.previousSibling.style.display = 'block';this.parentNode.style.display = 'inline-block';} else {this.previousSibling.style.display = 'none';this.parentNode.style.display = 'inline';}\"onmouseover=\"document.getElementById('_fb_usieyiccwpusnzjovqwp_ind_2').style.opacity = 1; document.getElementById('_fs_usieyiccwpusnzjovqwp_ind_2').style.opacity = 1;\"onmouseout=\"document.getElementById('_fb_usieyiccwpusnzjovqwp_ind_2').style.opacity = 0; document.getElementById('_fs_usieyiccwpusnzjovqwp_ind_2').style.opacity = 0;\">with </div></div><div style='display: inline; text-align: center;'><div style='display: none; color: #999; padding-top: 0px; font-size: 12px;'>0.003</div><div id='_tp_usieyiccwpusnzjovqwp_ind_3'style='display: inline; background: rgba(255.0, 13.0, 87.0, 0.8738760150524857); border-radius: 3px; padding: 0px'onclick=\"if (this.previousSibling.style.display == 'none') {this.previousSibling.style.display = 'block';this.parentNode.style.display = 'inline-block';} else {this.previousSibling.style.display = 'none';this.parentNode.style.display = 'inline';}\"onmouseover=\"document.getElementById('_fb_usieyiccwpusnzjovqwp_ind_3').style.opacity = 1; document.getElementById('_fs_usieyiccwpusnzjovqwp_ind_3').style.opacity = 1;\"onmouseout=\"document.getElementById('_fb_usieyiccwpusnzjovqwp_ind_3').style.opacity = 0; document.getElementById('_fs_usieyiccwpusnzjovqwp_ind_3').style.opacity = 0;\">him</div></div><div style='display: inline; text-align: center;'><div style='display: none; color: #999; padding-top: 0px; font-size: 12px;'>0.005</div><div id='_tp_usieyiccwpusnzjovqwp_ind_4'style='display: inline; background: rgba(255.0, 13.0, 87.0, 1.0); border-radius: 3px; padding: 0px'onclick=\"if (this.previousSibling.style.display == 'none') {this.previousSibling.style.display = 'block';this.parentNode.style.display = 'inline-block';} else {this.previousSibling.style.display = 'none';this.parentNode.style.display = 'inline';}\"onmouseover=\"document.getElementById('_fb_usieyiccwpusnzjovqwp_ind_4').style.opacity = 1; document.getElementById('_fs_usieyiccwpusnzjovqwp_ind_4').style.opacity = 1;\"onmouseout=\"document.getElementById('_fb_usieyiccwpusnzjovqwp_ind_4').style.opacity = 0; document.getElementById('_fs_usieyiccwpusnzjovqwp_ind_4').style.opacity = 0;\">!</div></div><div style='display: inline; text-align: center;'><div style='display: none; color: #999; padding-top: 0px; font-size: 12px;'>-0.0</div><div id='_tp_usieyiccwpusnzjovqwp_ind_5'style='display: inline; background: rgba(54.70588235294111, 122.49411764705886, 213.40784313725496, 0.0); border-radius: 3px; padding: 0px'onclick=\"if (this.previousSibling.style.display == 'none') {this.previousSibling.style.display = 'block';this.parentNode.style.display = 'inline-block';} else {this.previousSibling.style.display = 'none';this.parentNode.style.display = 'inline';}\"onmouseover=\"document.getElementById('_fb_usieyiccwpusnzjovqwp_ind_5').style.opacity = 1; document.getElementById('_fs_usieyiccwpusnzjovqwp_ind_5').style.opacity = 1;\"onmouseout=\"document.getElementById('_fb_usieyiccwpusnzjovqwp_ind_5').style.opacity = 0; document.getElementById('_fs_usieyiccwpusnzjovqwp_ind_5').style.opacity = 0;\"></div></div>"
      ],
      "text/plain": [
       "<IPython.core.display.HTML object>"
      ]
     },
     "metadata": {},
     "output_type": "display_data"
    }
   ],
   "source": [
    "shap.plots.text(shap_values[1])"
   ]
  },
  {
   "cell_type": "code",
   "execution_count": null,
   "metadata": {},
   "outputs": [],
   "source": []
  }
 ],
 "metadata": {
  "kernelspec": {
   "display_name": "Python 3",
   "language": "python",
   "name": "python3"
  },
  "language_info": {
   "codemirror_mode": {
    "name": "ipython",
    "version": 3
   },
   "file_extension": ".py",
   "mimetype": "text/x-python",
   "name": "python",
   "nbconvert_exporter": "python",
   "pygments_lexer": "ipython3",
   "version": "3.6.8"
  }
 },
 "nbformat": 4,
 "nbformat_minor": 4
}
