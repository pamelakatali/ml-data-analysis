{
 "cells": [
  {
   "cell_type": "code",
   "execution_count": 3,
   "metadata": {},
   "outputs": [],
   "source": [
    "import numpy as np\n",
    "import matplotlib.pyplot as plt\n",
    "import scipy.sparse\n",
    "import scipy.optimize\n",
    "import urllib\n",
    "import math\n",
    "from typing import Tuple\n",
    "from sklearn.decomposition import PCA\n",
    "from scipy import linalg as LA"
   ]
  },
  {
   "cell_type": "code",
   "execution_count": 4,
   "metadata": {},
   "outputs": [
    {
     "name": "stdout",
     "output_type": "stream",
     "text": [
      "[[-1.   1. ]\n",
      " [ 0.5 -0.5]\n",
      " [ 1.   1. ]\n",
      " [-0.5  0.5]]\n",
      "[[-0.92387953  0.38268343]\n",
      " [ 0.38268343  0.92387953]]\n",
      "[0.38268343 0.92387953]\n",
      "0.3232233047033631\n",
      "[0.90236893 0.43096441]\n",
      "----------------\n",
      "[[-1.   0.5  1.  -0.5]\n",
      " [ 1.  -0.5  1.   0.5]]\n",
      "[[ 0.81649658 -0.40824829  0.          0.40824829]\n",
      " [-0.57735027 -0.57735027  0.          0.57735027]]\n",
      "[-0.57735027 -0.57735027  0.          0.57735027]\n",
      "0.17024110156778774\n",
      "[3.00000000e+00 3.46105015e-34]\n"
     ]
    }
   ],
   "source": [
    "X = np.array([[-1,1],[.5,-.5],[1,1],[-.5,.5]])\n",
    "Y = np.array([[-1,0.5,1,-0.5],[1,-0.5,1,0.5]])\n",
    "print(X)\n",
    "X -= np.mean(X, axis = 0)\n",
    "p = PCA()\n",
    "p.fit(X)\n",
    "print(p.components_)\n",
    "print(p.components_[:,1])\n",
    "print(np.var(X.dot(p.components_[:,1])))\n",
    "print(p.explained_variance_)\n",
    "print(\"----------------\")\n",
    "print(Y)\n",
    "p = PCA(n_components=2)\n",
    "p.fit(Y)\n",
    "print(p.components_)\n",
    "print(p.components_.T[:,1])\n",
    "print(np.var(X.dot(p.components_[:,1])))\n",
    "print(p.explained_variance_)"
   ]
  },
  {
   "cell_type": "code",
   "execution_count": 5,
   "metadata": {},
   "outputs": [
    {
     "name": "stdout",
     "output_type": "stream",
     "text": [
      "[[ 0.92387953  0.38268343]\n",
      " [-0.38268343  0.92387953]]\n"
     ]
    }
   ],
   "source": [
    "X = np.array([[-1,1],[.5,-.5],[1,1],[-.5,.5]])\n",
    "X -= np.mean(X, axis = 0)  \n",
    "newX = np.copy(X)\n",
    "symMatrix = (np.dot(np.transpose(newX),newX)) #create symmetric matrix K\n",
    "\n",
    "#eigen decomposition\n",
    "eigVals, eigVects = np.linalg.eig(symMatrix)\n",
    "\n",
    "print(eigVects)"
   ]
  },
  {
   "cell_type": "code",
   "execution_count": 32,
   "metadata": {},
   "outputs": [
    {
     "name": "stdout",
     "output_type": "stream",
     "text": [
      "[0.43096441 0.90236893]\n",
      "[[-0.38268343 -0.92387953]\n",
      " [-0.92387953  0.38268343]]\n",
      "[-0.92387953  0.38268343]\n",
      "0.676776695296637\n"
     ]
    }
   ],
   "source": [
    "X = np.array([[-1,1],[.5,-.5],[1,1],[-.5,.5]])\n",
    "X -= np.mean(X, axis = 0)  \n",
    "\n",
    "cov = np.cov(X, rowvar = False)\n",
    "\n",
    "evals , evecs = LA.eigh(cov)\n",
    "print(evals)\n",
    "print(evecs)\n",
    "print(evecs[:,1])\n",
    "print(np.var(X.dot(evecs[:,1])))"
   ]
  },
  {
   "cell_type": "markdown",
   "metadata": {},
   "source": [
    "# Part 1 - Principal Component Analysis"
   ]
  },
  {
   "cell_type": "markdown",
   "metadata": {},
   "source": [
    "## Part 1.1 - Implement PCA"
   ]
  },
  {
   "cell_type": "code",
   "execution_count": 34,
   "metadata": {},
   "outputs": [
    {
     "name": "stdout",
     "output_type": "stream",
     "text": [
      "[[-0.38268343 -0.92387953]\n",
      " [-0.92387953  0.38268343]]\n",
      "[-0.92387953  0.38268343]\n",
      "[ 1.30656296 -0.65328148 -0.5411961   0.65328148]\n",
      "0.676776695296637\n",
      "--------\n"
     ]
    }
   ],
   "source": [
    "def pca(X: np.ndarray, K: int) -> Tuple[np.ndarray, np.ndarray,  np.ndarray]:\n",
    "    \"\"\"\n",
    "    X is an N*D matrix of data (N points in D dimensions)\n",
    "    K is the desired maximum target dimensionality (K <= min{N,D})\n",
    "\n",
    "    should return a tuple (P, Z, evals)\n",
    "    \n",
    "    where P is the projected data (N*K) where\n",
    "    the first dimension is the highest variance,\n",
    "    the second dimension is the second higest variance, etc.\n",
    "\n",
    "    Z is the projection matrix (D*K) that projects the data into\n",
    "    the low dimensional space (i.e., P = X * Z).\n",
    "\n",
    "    and evals, a K dimensional array of eigenvalues (sorted)\n",
    "    \"\"\"\n",
    "    \n",
    "    N, D = X.shape\n",
    "\n",
    "    # make sure we don't look for too many eigs!\n",
    "    if K > N:\n",
    "        K = N\n",
    "    if K > D:\n",
    "        K = D\n",
    "\n",
    "    ### TODO: YOUR CODE HERE\n",
    "    #center the data so the mean is 0\n",
    "    means = X.mean(axis=0) #array of means of every column\n",
    "    newX = np.copy(X)\n",
    "    a, b = newX.shape\n",
    "    for i in range(a):\n",
    "        for j in range(b):\n",
    "            newX[i,j] = newX[i,j] - means[j] #subtract mean from every column\n",
    "    \n",
    "    #x_T * x\n",
    "    symMatrix = (np.dot(np.transpose(newX),newX)) #create symmetric matrix K\n",
    "    \n",
    "    #eigen decomposition\n",
    "    eigVals, eigVects = np.linalg.eigh(symMatrix)\n",
    "\n",
    "    \n",
    "    P = np.dot(X,np.transpose(eigVects))\n",
    "    P = P[:,:K]\n",
    "    Z = eigVects[:,:K]\n",
    "    Z = Z.T\n",
    "    evals = eigVals[:K]\n",
    "    return (P, Z, evals)\n",
    "\n",
    "A = np.array([[1, 4, 5], [5, 8, 9]],dtype=np.float64)\n",
    "B = np.array([[1,2], [2,1]])\n",
    "nP, nZ, nEv = pca(A,2)\n",
    "#print(nEv)\n",
    "X = np.array([[-1,1],[.5,-.5],[1,1],[-.5,.5]])\n",
    "Y = np.array([[-1,0.5,1,-0.5],[1,-0.5,1,0.5]])\n",
    "nP, nZ, nEv = pca(X,2)\n",
    "\n",
    "print(nZ)\n",
    "print(nZ[:,1].T)\n",
    "print(X.dot(nZ[:,1]))\n",
    "print(np.var(X.dot(nZ[:,1])))\n",
    "print(\"--------\")\n"
   ]
  },
  {
   "cell_type": "markdown",
   "metadata": {},
   "source": [
    "Our first test of PCA will be on Gaussian data with a known covariance matrix. First, let's generate some data and see how it looks."
   ]
  },
  {
   "cell_type": "code",
   "execution_count": 3,
   "metadata": {},
   "outputs": [
    {
     "data": {
      "image/png": "[encoded data removed]",
      "text/plain": [
       "<Figure size 432x288 with 1 Axes>"
      ]
     },
     "metadata": {
      "needs_background": "light"
     },
     "output_type": "display_data"
    }
   ],
   "source": [
    "M = np.array([[3,2],[2,4]])\n",
    "(U,S,VT) = np.linalg.svd(M)\n",
    "D = np.diag(np.sqrt(S))\n",
    "\n",
    "Si = U @ D @ VT\n",
    "x = np.random.randn(1000,2) @ Si\n",
    "plt.plot(x[:,0], x[:,1], 'b.');"
   ]
  },
  {
   "cell_type": "markdown",
   "metadata": {},
   "source": [
    "We can also see what the sample covariance is!"
   ]
  },
  {
   "cell_type": "code",
   "execution_count": 4,
   "metadata": {},
   "outputs": [
    {
     "data": {
      "text/plain": [
       "array([[2.83237761, 2.03292077],\n",
       "       [2.03292077, 4.27349726]])"
      ]
     },
     "execution_count": 4,
     "metadata": {},
     "output_type": "execute_result"
    }
   ],
   "source": [
    "np.cov(x.T)"
   ]
  },
  {
   "cell_type": "markdown",
   "metadata": {},
   "source": [
    "Note that the sample covariance of the data is almost exactly the true covariance of the data. If you run this with 100,000 data points (instead of 1,000), you should get something even closer to \n",
    "$\\begin{bmatrix} 3 & 2 \\\\ 2 & 4 \\end{bmatrix}$."
   ]
  },
  {
   "cell_type": "markdown",
   "metadata": {},
   "source": [
    "Now, let's run PCA on this data. We basically know what should happen, but let's make sure it happens anyway (still, given the random nature, the numbers won't be exactly the same). We can project the data onto the first eigenvalue and plot it in red, and the second eigenvalue in green. "
   ]
  },
  {
   "cell_type": "code",
   "execution_count": 5,
   "metadata": {},
   "outputs": [
    {
     "data": {
      "image/png": "[encoded data removed]",
      "text/plain": [
       "<Figure size 432x288 with 1 Axes>"
      ]
     },
     "metadata": {
      "needs_background": "light"
     },
     "output_type": "display_data"
    }
   ],
   "source": [
    "(P, Z, evals) = pca(x, 2)\n",
    "\n",
    "x0 = (x @ Z[:,0,None]) * Z[:,0,None].T\n",
    "x1 = (x @ Z[:,1,None]) * Z[:,1,None].T\n",
    "\n",
    "plt.plot(x[:,0], x[:,1], 'b.', x0[:,0], x0[:,1], 'r.', x1[:,0], x1[:,1], 'g.');"
   ]
  },
  {
   "cell_type": "markdown",
   "metadata": {},
   "source": [
    "## Part 1.2 - Visualization of MNIST\n",
    "\n",
    "Lets work with some [handwritten digits](https://en.wikipedia.org/wiki/MNIST_database). Before we try PCA on them, let's visualize the digits."
   ]
  },
  {
   "cell_type": "code",
   "execution_count": 6,
   "metadata": {},
   "outputs": [],
   "source": [
    "np.random.seed(0)\n",
    "\n",
    "def draw_digits(X: np.ndarray, Y: np.ndarray, K: int = 20):\n",
    "    ### TODO: YOUR CODE HERE\n",
    "    #raise NotImplementedError\n",
    "    xDim, yDim = X.shape\n",
    "    #print(X.shape)\n",
    "    digitInds = np.random.choice(xDim, K, False)\n",
    "    #print(X[0])\n",
    "    for i in range(K):\n",
    "        print(Y[digitInds[i]])\n",
    "        #digit = np.reshape(X[digitInds[i]], (28, 28))*255\n",
    "        digit = X[digitInds[i]].reshape(28,28)\n",
    "        digit = np.transpose(digit)\n",
    "        plt.imshow(digit, cmap='gray')\n",
    "        plt.show()"
   ]
  },
  {
   "cell_type": "code",
   "execution_count": 7,
   "metadata": {},
   "outputs": [
    {
     "name": "stdout",
     "output_type": "stream",
     "text": [
      "0\n"
     ]
    },
    {
     "data": {
      "image/png": "[encoded data removed]",
      "text/plain": [
       "<Figure size 432x288 with 1 Axes>"
      ]
     },
     "metadata": {
      "needs_background": "light"
     },
     "output_type": "display_data"
    },
    {
     "name": "stdout",
     "output_type": "stream",
     "text": [
      "9\n"
     ]
    },
    {
     "data": {
      "image/png": "[encoded data removed]",
      "text/plain": [
       "<Figure size 432x288 with 1 Axes>"
      ]
     },
     "metadata": {
      "needs_background": "light"
     },
     "output_type": "display_data"
    },
    {
     "name": "stdout",
     "output_type": "stream",
     "text": [
      "3\n"
     ]
    },
    {
     "data": {
      "image/png": "[encoded data removed]",
      "text/plain": [
       "<Figure size 432x288 with 1 Axes>"
      ]
     },
     "metadata": {
      "needs_background": "light"
     },
     "output_type": "display_data"
    },
    {
     "name": "stdout",
     "output_type": "stream",
     "text": [
      "6\n"
     ]
    },
    {
     "data": {
      "image/png": "[encoded data removed]",
      "text/plain": [
       "<Figure size 432x288 with 1 Axes>"
      ]
     },
     "metadata": {
      "needs_background": "light"
     },
     "output_type": "display_data"
    },
    {
     "name": "stdout",
     "output_type": "stream",
     "text": [
      "7\n"
     ]
    },
    {
     "data": {
      "image/png": "[encoded data removed]",
      "text/plain": [
       "<Figure size 432x288 with 1 Axes>"
      ]
     },
     "metadata": {
      "needs_background": "light"
     },
     "output_type": "display_data"
    },
    {
     "name": "stdout",
     "output_type": "stream",
     "text": [
      "0\n"
     ]
    },
    {
     "data": {
      "image/png": "[encoded data removed]",
      "text/plain": [
       "<Figure size 432x288 with 1 Axes>"
      ]
     },
     "metadata": {
      "needs_background": "light"
     },
     "output_type": "display_data"
    },
    {
     "name": "stdout",
     "output_type": "stream",
     "text": [
      "1\n"
     ]
    },
    {
     "data": {
      "image/png": "[encoded data removed]",
      "text/plain": [
       "<Figure size 432x288 with 1 Axes>"
      ]
     },
     "metadata": {
      "needs_background": "light"
     },
     "output_type": "display_data"
    },
    {
     "name": "stdout",
     "output_type": "stream",
     "text": [
      "3\n"
     ]
    },
    {
     "data": {
      "image/png": "[encoded data removed]",
      "text/plain": [
       "<Figure size 432x288 with 1 Axes>"
      ]
     },
     "metadata": {
      "needs_background": "light"
     },
     "output_type": "display_data"
    },
    {
     "name": "stdout",
     "output_type": "stream",
     "text": [
      "4\n"
     ]
    },
    {
     "data": {
      "image/png": "[encoded data removed]",
      "text/plain": [
       "<Figure size 432x288 with 1 Axes>"
      ]
     },
     "metadata": {
      "needs_background": "light"
     },
     "output_type": "display_data"
    },
    {
     "name": "stdout",
     "output_type": "stream",
     "text": [
      "8\n"
     ]
    },
    {
     "data": {
      "image/png": "[encoded data removed]",
      "text/plain": [
       "<Figure size 432x288 with 1 Axes>"
      ]
     },
     "metadata": {
      "needs_background": "light"
     },
     "output_type": "display_data"
    },
    {
     "name": "stdout",
     "output_type": "stream",
     "text": [
      "5\n"
     ]
    },
    {
     "data": {
      "image/png": "[encoded data removed]",
      "text/plain": [
       "<Figure size 432x288 with 1 Axes>"
      ]
     },
     "metadata": {
      "needs_background": "light"
     },
     "output_type": "display_data"
    },
    {
     "name": "stdout",
     "output_type": "stream",
     "text": [
      "6\n"
     ]
    },
    {
     "data": {
      "image/png": "[encoded data removed]",
      "text/plain": [
       "<Figure size 432x288 with 1 Axes>"
      ]
     },
     "metadata": {
      "needs_background": "light"
     },
     "output_type": "display_data"
    },
    {
     "name": "stdout",
     "output_type": "stream",
     "text": [
      "8\n"
     ]
    },
    {
     "data": {
      "image/png": "[encoded data removed]",
      "text/plain": [
       "<Figure size 432x288 with 1 Axes>"
      ]
     },
     "metadata": {
      "needs_background": "light"
     },
     "output_type": "display_data"
    },
    {
     "name": "stdout",
     "output_type": "stream",
     "text": [
      "3\n"
     ]
    },
    {
     "data": {
      "image/png": "[encoded data removed]",
      "text/plain": [
       "<Figure size 432x288 with 1 Axes>"
      ]
     },
     "metadata": {
      "needs_background": "light"
     },
     "output_type": "display_data"
    },
    {
     "name": "stdout",
     "output_type": "stream",
     "text": [
      "6\n"
     ]
    },
    {
     "data": {
      "image/png": "[encoded data removed]",
      "text/plain": [
       "<Figure size 432x288 with 1 Axes>"
      ]
     },
     "metadata": {
      "needs_background": "light"
     },
     "output_type": "display_data"
    },
    {
     "name": "stdout",
     "output_type": "stream",
     "text": [
      "1\n"
     ]
    },
    {
     "data": {
      "image/png": "[encoded data removed]",
      "text/plain": [
       "<Figure size 432x288 with 1 Axes>"
      ]
     },
     "metadata": {
      "needs_background": "light"
     },
     "output_type": "display_data"
    },
    {
     "name": "stdout",
     "output_type": "stream",
     "text": [
      "0\n"
     ]
    },
    {
     "data": {
      "image/png": "[encoded data removed]",
      "text/plain": [
       "<Figure size 432x288 with 1 Axes>"
      ]
     },
     "metadata": {
      "needs_background": "light"
     },
     "output_type": "display_data"
    },
    {
     "name": "stdout",
     "output_type": "stream",
     "text": [
      "2\n"
     ]
    },
    {
     "data": {
      "image/png": "[encoded data removed]",
      "text/plain": [
       "<Figure size 432x288 with 1 Axes>"
      ]
     },
     "metadata": {
      "needs_background": "light"
     },
     "output_type": "display_data"
    },
    {
     "name": "stdout",
     "output_type": "stream",
     "text": [
      "1\n"
     ]
    },
    {
     "data": {
      "image/png": "[encoded data removed]",
      "text/plain": [
       "<Figure size 432x288 with 1 Axes>"
      ]
     },
     "metadata": {
      "needs_background": "light"
     },
     "output_type": "display_data"
    },
    {
     "name": "stdout",
     "output_type": "stream",
     "text": [
      "1\n"
     ]
    },
    {
     "data": {
      "image/png": "[encoded data removed]",
      "text/plain": [
       "<Figure size 432x288 with 1 Axes>"
      ]
     },
     "metadata": {
      "needs_background": "light"
     },
     "output_type": "display_data"
    }
   ],
   "source": [
    "def load_digits():\n",
    "    X = np.zeros((1000, 784), dtype=float)\n",
    "    Y = np.zeros((1000,), dtype=int)\n",
    "\n",
    "    with open('data/digits') as f:\n",
    "        for idx, line in enumerate(f):\n",
    "            vals = [int(v) for v in line.split()]\n",
    "            Y[idx] = vals[0] % 10\n",
    "            for i in range(len(vals)//2-1):\n",
    "                X[idx, vals[i*2+1]] = float(vals[i*2+2])\n",
    "            X[idx,:] = X[idx,:] / np.linalg.norm(X[idx,:])\n",
    "\n",
    "    return X, Y\n",
    "\n",
    "X, Y = load_digits()\n",
    "draw_digits(X, Y)"
   ]
  },
  {
   "cell_type": "markdown",
   "metadata": {},
   "source": [
    "## 1.3 - Plotting Explained Variance\n",
    "\n",
    "Let's examine all the principal components of the digits data.\n",
    "\n",
    "Plot the explained variance of the principal components, with x-axis being the number of principal components, and the y-axis being the percent variance explained. How many eigenvectors do you have to include before you've accounted for 90% of the variance?\n",
    "95%?"
   ]
  },
  {
   "cell_type": "code",
   "execution_count": 8,
   "metadata": {},
   "outputs": [
    {
     "name": "stdout",
     "output_type": "stream",
     "text": [
      "598.7637570955633\n",
      "9.168081494057725\n"
     ]
    },
    {
     "data": {
      "image/png": "[encoded data removed]",
      "text/plain": [
       "<Figure size 432x288 with 1 Axes>"
      ]
     },
     "metadata": {
      "needs_background": "light"
     },
     "output_type": "display_data"
    }
   ],
   "source": [
    "(P, Z, evals) = pca(X, 784)\n",
    "d = evals.shape\n",
    "xVals = np.arange(len(evals))\n",
    "yVals = np.arange(len(evals), dtype='f')\n",
    "totalVar = np.sum(evals)\n",
    "print(totalVar)\n",
    "print((54/589)*100)\n",
    "#print(np.arange(1,d[0]))\n",
    "for i in range(len(evals)):\n",
    "    if i == 0:\n",
    "        xVals[i] = i\n",
    "        #yVals[i] = (evals[783-i] / totalVar)*100\n",
    "        yVals[i] = (evals[783-i])\n",
    "    else:\n",
    "        xVals[i] = i\n",
    "        #yVals[i] = yVals[i-1] + ((evals[783-i]/totalVar)*100)\n",
    "        yVals[i] = yVals[i-1] + ((evals[783-i])) + 0.0\n",
    "        \n",
    "    #print(xVals[i], \" \", yVals[i],\" \",evals[783-i])\n",
    "    \n",
    "yVals = yVals / totalVar\n",
    "plt.bar(xVals, yVals)\n",
    "plt.show()"
   ]
  },
  {
   "cell_type": "markdown",
   "metadata": {},
   "source": [
    "Eventually, the eigenvalues drop to zero (note that some may be negative due to floating point errors)."
   ]
  },
  {
   "cell_type": "markdown",
   "metadata": {},
   "source": [
    "**ANSWER**:"
   ]
  },
  {
   "cell_type": "markdown",
   "metadata": {},
   "source": [
    "## Part 1.4 - Visualization of Dimensionality Reduction\n",
    "\n",
    "Now, let's plot the top 50 eigenvectors:"
   ]
  },
  {
   "cell_type": "code",
   "execution_count": 9,
   "metadata": {},
   "outputs": [
    {
     "name": "stdout",
     "output_type": "stream",
     "text": [
      "36\n"
     ]
    },
    {
     "data": {
      "image/png": "[encoded data removed]",
      "text/plain": [
       "<Figure size 432x288 with 1 Axes>"
      ]
     },
     "metadata": {
      "needs_background": "light"
     },
     "output_type": "display_data"
    },
    {
     "name": "stdout",
     "output_type": "stream",
     "text": [
      "49\n"
     ]
    },
    {
     "data": {
      "image/png": "[encoded data removed]",
      "text/plain": [
       "<Figure size 432x288 with 1 Axes>"
      ]
     },
     "metadata": {
      "needs_background": "light"
     },
     "output_type": "display_data"
    },
    {
     "name": "stdout",
     "output_type": "stream",
     "text": [
      "48\n"
     ]
    },
    {
     "data": {
      "image/png": "[encoded data removed]",
      "text/plain": [
       "<Figure size 432x288 with 1 Axes>"
      ]
     },
     "metadata": {
      "needs_background": "light"
     },
     "output_type": "display_data"
    },
    {
     "name": "stdout",
     "output_type": "stream",
     "text": [
      "47\n"
     ]
    },
    {
     "data": {
      "image/png": "[encoded data removed]",
      "text/plain": [
       "<Figure size 432x288 with 1 Axes>"
      ]
     },
     "metadata": {
      "needs_background": "light"
     },
     "output_type": "display_data"
    },
    {
     "name": "stdout",
     "output_type": "stream",
     "text": [
      "6\n"
     ]
    },
    {
     "data": {
      "image/png": "[encoded data removed]",
      "text/plain": [
       "<Figure size 432x288 with 1 Axes>"
      ]
     },
     "metadata": {
      "needs_background": "light"
     },
     "output_type": "display_data"
    },
    {
     "name": "stdout",
     "output_type": "stream",
     "text": [
      "19\n"
     ]
    },
    {
     "data": {
      "image/png": "[encoded data removed]",
      "text/plain": [
       "<Figure size 432x288 with 1 Axes>"
      ]
     },
     "metadata": {
      "needs_background": "light"
     },
     "output_type": "display_data"
    },
    {
     "name": "stdout",
     "output_type": "stream",
     "text": [
      "2\n"
     ]
    },
    {
     "data": {
      "image/png": "[encoded data removed]",
      "text/plain": [
       "<Figure size 432x288 with 1 Axes>"
      ]
     },
     "metadata": {
      "needs_background": "light"
     },
     "output_type": "display_data"
    },
    {
     "name": "stdout",
     "output_type": "stream",
     "text": [
      "32\n"
     ]
    },
    {
     "data": {
      "image/png": "[encoded data removed]",
      "text/plain": [
       "<Figure size 432x288 with 1 Axes>"
      ]
     },
     "metadata": {
      "needs_background": "light"
     },
     "output_type": "display_data"
    },
    {
     "name": "stdout",
     "output_type": "stream",
     "text": [
      "39\n"
     ]
    },
    {
     "data": {
      "image/png": "[encoded data removed]",
      "text/plain": [
       "<Figure size 432x288 with 1 Axes>"
      ]
     },
     "metadata": {
      "needs_background": "light"
     },
     "output_type": "display_data"
    },
    {
     "name": "stdout",
     "output_type": "stream",
     "text": [
      "31\n"
     ]
    },
    {
     "data": {
      "image/png": "[encoded data removed]",
      "text/plain": [
       "<Figure size 432x288 with 1 Axes>"
      ]
     },
     "metadata": {
      "needs_background": "light"
     },
     "output_type": "display_data"
    },
    {
     "name": "stdout",
     "output_type": "stream",
     "text": [
      "13\n"
     ]
    },
    {
     "data": {
      "image/png": "[encoded data removed]",
      "text/plain": [
       "<Figure size 432x288 with 1 Axes>"
      ]
     },
     "metadata": {
      "needs_background": "light"
     },
     "output_type": "display_data"
    },
    {
     "name": "stdout",
     "output_type": "stream",
     "text": [
      "20\n"
     ]
    },
    {
     "data": {
      "image/png": "[encoded data removed]",
      "text/plain": [
       "<Figure size 432x288 with 1 Axes>"
      ]
     },
     "metadata": {
      "needs_background": "light"
     },
     "output_type": "display_data"
    },
    {
     "name": "stdout",
     "output_type": "stream",
     "text": [
      "12\n"
     ]
    },
    {
     "data": {
      "image/png": "[encoded data removed]",
      "text/plain": [
       "<Figure size 432x288 with 1 Axes>"
      ]
     },
     "metadata": {
      "needs_background": "light"
     },
     "output_type": "display_data"
    },
    {
     "name": "stdout",
     "output_type": "stream",
     "text": [
      "5\n"
     ]
    },
    {
     "data": {
      "image/png": "[encoded data removed]",
      "text/plain": [
       "<Figure size 432x288 with 1 Axes>"
      ]
     },
     "metadata": {
      "needs_background": "light"
     },
     "output_type": "display_data"
    },
    {
     "name": "stdout",
     "output_type": "stream",
     "text": [
      "23\n"
     ]
    },
    {
     "data": {
      "image/png": "[encoded data removed]",
      "text/plain": [
       "<Figure size 432x288 with 1 Axes>"
      ]
     },
     "metadata": {
      "needs_background": "light"
     },
     "output_type": "display_data"
    },
    {
     "name": "stdout",
     "output_type": "stream",
     "text": [
      "10\n"
     ]
    },
    {
     "data": {
      "image/png": "[encoded data removed]",
      "text/plain": [
       "<Figure size 432x288 with 1 Axes>"
      ]
     },
     "metadata": {
      "needs_background": "light"
     },
     "output_type": "display_data"
    },
    {
     "name": "stdout",
     "output_type": "stream",
     "text": [
      "40\n"
     ]
    },
    {
     "data": {
      "image/png": "[encoded data removed]",
      "text/plain": [
       "<Figure size 432x288 with 1 Axes>"
      ]
     },
     "metadata": {
      "needs_background": "light"
     },
     "output_type": "display_data"
    },
    {
     "name": "stdout",
     "output_type": "stream",
     "text": [
      "15\n"
     ]
    },
    {
     "data": {
      "image/png": "[encoded data removed]",
      "text/plain": [
       "<Figure size 432x288 with 1 Axes>"
      ]
     },
     "metadata": {
      "needs_background": "light"
     },
     "output_type": "display_data"
    },
    {
     "name": "stdout",
     "output_type": "stream",
     "text": [
      "17\n"
     ]
    },
    {
     "data": {
      "image/png": "[encoded data removed]",
      "text/plain": [
       "<Figure size 432x288 with 1 Axes>"
      ]
     },
     "metadata": {
      "needs_background": "light"
     },
     "output_type": "display_data"
    },
    {
     "name": "stdout",
     "output_type": "stream",
     "text": [
      "33\n"
     ]
    },
    {
     "data": {
      "image/png": "[encoded data removed]",
      "text/plain": [
       "<Figure size 432x288 with 1 Axes>"
      ]
     },
     "metadata": {
      "needs_background": "light"
     },
     "output_type": "display_data"
    }
   ],
   "source": [
    "draw_digits(Z.T[:50,:], np.arange(50))"
   ]
  },
  {
   "cell_type": "markdown",
   "metadata": {},
   "source": []
  },
  {
   "cell_type": "markdown",
   "metadata": {},
   "source": []
  },
  {
   "cell_type": "markdown",
   "metadata": {},
   "source": [
    "# Part 2 - Softmax Regression"
   ]
  },
  {
   "cell_type": "markdown",
   "metadata": {},
   "source": [
    "The goal of this part of the project is to implement Softmax Regression in order to classify the MNIST digit dataset. Softmax Regression is essentially a two-layer neural network where the output layer applies the Softmax cost function, a multiclass generalization of the logistic cost function.\n",
    "\n",
    "In logistic regression, we have a hypothesis function of the form\n",
    "\n",
    "$$\\mathbb{P}[y=1] = \\frac{1}{1 + e^{-wx}}$$\n",
    "\n",
    "where $\\mathbf{w}$ is our weight vector. Like the hyperbolic tangent function, the logistic function is also a sigmoid function with the characteristic 's'-like shape, though it has a range of $(0, 1)$ instead of $(-1, 1)$. Note that this is technically not a classifier since it returns probabilities instead of a predicted class, but it's easy to turn it into a classifier by simply choosing the class with the highest probability."
   ]
  },
  {
   "cell_type": "markdown",
   "metadata": {},
   "source": [
    "Since logistic regression is used for binary classification, it is easy to see that:\n",
    "\n",
    "$$\\begin{aligned}\n",
    "\\mathbb{P}[y=1] &= \\frac{1}{1 + e^{-wx}} \\\\\n",
    "&= \\frac{e^{wx}}{e^{wx} + e^{0 \\cdot x}} \\\\\n",
    "\\end{aligned}$$\n",
    "\n",
    "Similarily,\n",
    "\n",
    "$$\\begin{aligned}\n",
    "\\mathbb{P}[y=0] &= 1 - \\mathbb{P}[y=1] \\\\\n",
    "&= 1 - \\frac{e^{wx}}{1 + e^{wx}} \\\\\n",
    "&= \\frac{e^{0 \\cdot x}}{e^{wx} + e^{0 \\cdot x}} \\\\\n",
    "\\end{aligned}$$\n",
    "\n",
    "From this form it appears that we can assign the vector $w_1 = w$ as the weight vector for class $1$ and $w_0 = \\vec{0}$ as the weight vector for class $0$. This motivates generalization to classification with more than 2 classes. By assigning a separate weight vector $w_i$ to each class, for each example $x$ we can predict the probability that it is class $i$, and again we can classify by choosing the most probable class.\n",
    "\n",
    "$$\\mathbb{P}[y=i] = \\frac{e^{w_i x}}{\\sum\\limits_j e^{w_j x}}$$\n",
    "\n",
    "A more compact way of representing the values $w_i x$ is $Wx$ where each row $i$ of $W$ is $w_i$. We can also represent a dataset $\\{x_i\\}$ with a matrix $X$ where each column is a single example, resulting in $WX$."
   ]
  },
  {
   "cell_type": "markdown",
   "metadata": {},
   "source": [
    "## Part 2.2 - Implementing a Softmax Classifier\n",
    "We can also train on this model with an appropriate loss function. The Softmax loss function is given by\n",
    "\n",
    "$$\\xi(W) = -\\sum\\limits_{i=1}^{n}\\sum\\limits_{j=1}^{C}\\delta_{y_i,j}\\log \\mathbb{P}(y_i = j)$$\n",
    "\n",
    "where $n$ is the number of samples, $C$ is the number of classes, $\\delta_{y_i,j}$ is the [kronecker delta](https://en.wikipedia.org/wiki/Kronecker_delta), $y_i$ is the label of sample $i$, and $\\mathbb{P}(y_i = j)$ is calculated using a softmax function using the weights from matrix $W$.\n",
    "\n",
    "Note that \n",
    "\n",
    "$$\\delta_{y_i,j} = \\begin{cases}1 &\\text{if } y_i = j \\\\ 0 & \\text{if } y_i \\neq j\\end{cases}$$"
   ]
  },
  {
   "cell_type": "markdown",
   "metadata": {},
   "source": [
    "The gradient of this function is given by \n",
    "\n",
    "$$\\nabla_{\\vec{w_j}} \\xi(W) = \\sum_{i=1}^{n}{ \\left[ x_i \\left( \\mathbb{P}[y_i = j] - \\delta_{y_i, j} \\right) \\right]}$$\n",
    "\n",
    "The derivation for this can be found in the references. Note that the kronecker delta and the probabilities can be represented as matrices, which makes the code for the loss and the gradient very simple."
   ]
  },
  {
   "cell_type": "code",
   "execution_count": 10,
   "metadata": {},
   "outputs": [
    {
     "name": "stdout",
     "output_type": "stream",
     "text": [
      "(3, 3)\n",
      "haha\n",
      "cost 0.7324081924454063\n"
     ]
    },
    {
     "data": {
      "text/plain": [
       "array([0., 0., 0.])"
      ]
     },
     "execution_count": 10,
     "metadata": {},
     "output_type": "execute_result"
    }
   ],
   "source": [
    "class SoftmaxRegression:\n",
    "    \"\"\"\n",
    "    Here you will fill in this incomplete implementation of Softmax regression.\n",
    "\n",
    "    Adapted from code by Jatin Shah\n",
    "    \"\"\"\n",
    "    def __init__(self, num_classes, ex_size, opts={'maxIter':400}):\n",
    "        \"\"\"\n",
    "        num_classes:    number of possible classifications\n",
    "        ex_size:        size of attribute array (number of input features)\n",
    "        reg:            regularizing term coefficient (lambda)\n",
    "        opts:           in this class the only option used is maxIter\n",
    "        \"\"\"\n",
    "\n",
    "        self.num_classes = num_classes\n",
    "        self.ex_size = ex_size\n",
    "        self.opts = opts\n",
    "\n",
    "        # Initialize weight matrix with empty matrix\n",
    "        self.W = np.zeros((num_classes, ex_size))\n",
    "\n",
    "\n",
    "    def cost(self, X, Y, W=None):\n",
    "        \"\"\"\n",
    "        Calculate the cost function for X and Y using current weight matrix W. Note that we are not using\n",
    "        a regularizer in the cost; this is equivalent to lambda = 0.\n",
    "\n",
    "        X:              (M x N) matrix of input feature values,\n",
    "                            where M = ex_size, N = number of examples\n",
    "        Y:              (N x 1) array of expected output classes for each example\n",
    "\n",
    "        Returns the cost and its gradient, which is the form needed to use scipy.optimize.minimize\n",
    "        \"\"\"\n",
    "\n",
    "        if W is None:\n",
    "            W = this.W\n",
    "        num_classes = self.num_classes\n",
    "        ex_size = self.ex_size\n",
    "\n",
    "        W = W.reshape(num_classes, ex_size)         # Ensure W is in the correct dimensions\n",
    "        N = X.shape[1]                              # N = number of examples\n",
    "        #print(W.shape)\n",
    "        #print(X.shape)\n",
    "\n",
    "        W_X = W.dot(X)                              # This is our activation matrix with dimensions (A * B)\n",
    "                                                    # where A is the number of classes and B is the number\n",
    "                                                    # of examples. (W_X[a, b] gives the activation of example\n",
    "                                                    # b for class a.) You will use this matrix to find the\n",
    "                                                    # probabilities that example b is class a using the\n",
    "                                                    # softmax formula.\n",
    "\n",
    "        W_X = W_X - np.amax(W_X)\n",
    "        print(W_X.shape)\n",
    "\n",
    "        # This is the indicator function used in the loss function, where indicator[a, b] = 1\n",
    "        # when example b is labeled a (according to the target Y) and indicator[a, b] = 0 otherwise.\n",
    "\n",
    "        indicator = scipy.sparse.csr_matrix((np.ones(N), (Y, np.array(range(N)))))\n",
    "        indicator = np.resize(np.array(indicator.todense()), (num_classes, N))\n",
    "\n",
    "\n",
    "        # Each row of W_X is the set of activations for each class corresponding to\n",
    "        # one example; the probabilties are given by the exponential of each entry\n",
    "        # divided by the sum of the exponentials over the entire column.\n",
    "\n",
    "        # The cost associated with a single example is given by -1 times the log probability\n",
    "        # of the true class; initialize the cost variable to the AVERAGE cost over all the examples.\n",
    "        # Hint: there's an easy way to do this with the indicator matrix.\n",
    "\n",
    "        # The gradient has the same dimensions as W, and each component (i,j) represents the\n",
    "        # derivative of the cost with respect to the weight associated with class i, attribute j.\n",
    "        # The gradient associated with a single example x is given by A * x_T, where x_T is\n",
    "        # the transpose of the example, and A is a vector with component i given by (P(class = i) - 1)\n",
    "        # if the true class is i, and (P(class = i)) otherwise. Notice that this multiplication gives\n",
    "        # the desired dimensions. Find the AVERAGE gradient over all the examples. Again, there is\n",
    "        # an easy way to do this with the indicator matrix.\n",
    "\n",
    "\n",
    "        # calculate probabilities for each class(row) for each example(col). sum each column and divide by that sum\n",
    "        a,b = W_X.shape\n",
    "        probabilities = np.zeros(W_X.shape)\n",
    "        #preProb = np.zeros(W_X.shape)\n",
    "        #probabilities = probabilities.reshape(num_classes, ex_size)\n",
    "        #print(probabilities.shape)\n",
    "        #probabilities = np.exp(W_X)\n",
    "        #probabilities = probabilities / np.sum(probabilities)\n",
    "        \n",
    "        for i in range(a):\n",
    "            for j in range(b):\n",
    "                probabilities[i, j] = math.exp(W_X[i,j])\n",
    "                #preProb[i,j] = probabilities[i,j]\n",
    "                \n",
    "        \n",
    "        totals = probabilities.sum(axis=0)\n",
    "        #print(X)\n",
    "        #print(\"prob\", probabilities)\n",
    "        #print(\"totals\", totals)\n",
    "        \n",
    "        for i in range(a):\n",
    "            for j in range(b):\n",
    "                probabilities[i, j] = probabilities[i,j] / totals[j]\n",
    "        \n",
    "                \n",
    "        #print(\"prob\",probabilities)\n",
    "        \n",
    "        #print(\"ind\",indicator.shape)\n",
    "        print(\"haha\")\n",
    "        # cost =\n",
    "        cost = 0;\n",
    "        for i in range(a):\n",
    "            for j in range(b):\n",
    "                cost += (-1)*(indicator[i,j])*math.log(probabilities[i, j])\n",
    "        \n",
    "        cost = (1/(N))*(cost)\n",
    "        print(\"cost\",cost)\n",
    "        gradient = probabilities - indicator\n",
    "        gradient = gradient.dot(X.T)\n",
    "        gradient = (1/N)*gradient\n",
    "        \n",
    "\n",
    "\n",
    "        # flatten is needed by scipy.optimize.minimize\n",
    "        return cost, gradient.flatten()\n",
    "\n",
    "\n",
    "    def train(self, X, Y):\n",
    "        \"\"\"\n",
    "        Train to find optimal weight matrix W. Here we make use of the SciPy optimization library but\n",
    "        in theory you could implement gradient descent to do this as well.\n",
    "\n",
    "        X:              (M x N) matrix of input feature values,\n",
    "                            where M = ex_size, N = number of examples\n",
    "        Y:              (N x 1) array of expected output classes for each example\n",
    "        maxIter:        Maximum training iterations\n",
    "        \"\"\"\n",
    "\n",
    "        num_classes = self.num_classes\n",
    "        ex_size = self.ex_size\n",
    "        W = self.W\n",
    "\n",
    "        # Set maxIter hyperparameter\n",
    "        if self.opts['maxIter'] is None:\n",
    "            self.opts['maxIter'] = 400\n",
    "\n",
    "        # Lambda function needed by scipy.optimize.minimize\n",
    "        J = lambda w: self.cost(X, Y, w)\n",
    "\n",
    "        result = scipy.optimize.minimize(J, W, method='L-BFGS-B', jac=True, options={'maxiter': self.opts['maxIter'], 'disp': True})\n",
    "        self.W = result.x # save the optimal solution found\n",
    "\n",
    "    def predict(self, X):\n",
    "        \"\"\"\n",
    "        Use W to predict the classes of each example in X.\n",
    "\n",
    "        X:              (M x N) matrix of input feature values,\n",
    "                            where M = ex_size, N = number of examples\n",
    "\n",
    "        \"\"\"\n",
    "\n",
    "        W = self.W.reshape(self.num_classes, self.ex_size)\n",
    "        W_X = W.dot(X)\n",
    "\n",
    "        # Reminder: The predicted class for a single example is just the one with the highest probability\n",
    "\n",
    "        a, b = W_X.shape\n",
    "        predicted_classes = np.zeros(b)\n",
    "        for i in range(b):\n",
    "            maxVal = W_X[0,i]\n",
    "            predClass = 0\n",
    "            for j in range(a):\n",
    "                if(maxVal < W_X[j,i]):\n",
    "                    maxVal = W_X[j,i]\n",
    "                    predClass = j\n",
    "            predicted_classes[i] = predClass \n",
    "\n",
    "        return predicted_classes\n",
    "ex = SoftmaxRegression(3,3)\n",
    "A = np.array([[1, 4, 5], [5, 8, 9],[6,2,5]]) \n",
    "B = np.array([1,2,3])\n",
    "C = np.array([[0.5,0.5,0.5], [0.5,0.5,0.5], [0.5,0.5,0.5]]) \n",
    "ex.cost(A, B, C)\n",
    "ex.predict(A)"
   ]
  },
  {
   "cell_type": "markdown",
   "metadata": {},
   "source": []
  },
  {
   "cell_type": "code",
   "execution_count": 11,
   "metadata": {},
   "outputs": [],
   "source": [
    "def good_job(path):\n",
    "    a = plt.imread(urllib.request.urlopen(path))\n",
    "    fig = plt.imshow(a)\n",
    "    fig.axes.get_xaxis().set_visible(False)\n",
    "    fig.axes.get_yaxis().set_visible(False)\n",
    "    plt.show()\n",
    "\n",
    "def loadMNIST(image_file, label_file):\n",
    "    \"\"\"\n",
    "    returns a 28x28x[number of MNIST images] matrix containing\n",
    "    the raw MNIST images\n",
    "    :param filename: input data file\n",
    "    \"\"\"\n",
    "\n",
    "    with open(image_file, \"r\") as f:\n",
    "        magic = np.fromfile(f, dtype=np.dtype('>i4'), count=1)\n",
    "\n",
    "        num_images = np.fromfile(f, dtype=np.dtype('>i4'), count=1)[0]\n",
    "        num_rows = np.fromfile(f, dtype=np.dtype('>i4'), count=1)[0]\n",
    "        num_cols = np.fromfile(f, dtype=np.dtype('>i4'), count=1)[0]\n",
    "\n",
    "        exSize = num_rows * num_cols\n",
    "        images = np.fromfile(f, dtype=np.ubyte)\n",
    "        images = images.reshape((num_images, exSize)).transpose()\n",
    "        images = images.astype(np.float64) / 255\n",
    "\n",
    "    with open(label_file, 'r') as f:\n",
    "        magic = np.fromfile(f, dtype=np.dtype('>i4'), count=1)\n",
    "        num_labels = np.fromfile(f, dtype=np.dtype('>i4'), count=1)\n",
    "        labels = np.fromfile(f, dtype=np.ubyte)\n",
    "\n",
    "    return images, labels\n",
    "\n",
    "ex_size = 28*28   # size of MNIST digits\n",
    "num_classes = 10  # 10 digits to classify\n",
    "\n",
    "X, Y = loadMNIST('data/train-images.idx3-ubyte', 'data/train-labels.idx1-ubyte')\n",
    "testX, testY = loadMNIST('data/t10k-images.idx3-ubyte', 'data/t10k-labels.idx1-ubyte')"
   ]
  },
  {
   "cell_type": "code",
   "execution_count": 12,
   "metadata": {},
   "outputs": [
    {
     "name": "stdout",
     "output_type": "stream",
     "text": [
      "(10, 60000)\n",
      "haha\n",
      "cost 2.3025850929954172\n",
      "(10, 60000)\n",
      "haha\n",
      "cost 1.529097449969396\n",
      "(10, 60000)\n",
      "haha\n",
      "cost 0.772037807684184\n",
      "(10, 60000)\n",
      "haha\n",
      "cost 0.7111494694033672\n",
      "(10, 60000)\n",
      "haha\n",
      "cost 0.5955845602739355\n",
      "(10, 60000)\n",
      "haha\n",
      "cost 0.5502681697186218\n",
      "(10, 60000)\n",
      "haha\n",
      "cost 0.5013050412538258\n",
      "(10, 60000)\n",
      "haha\n",
      "cost 0.4815800848917949\n",
      "(10, 60000)\n",
      "haha\n",
      "cost 0.4531674531979173\n",
      "(10, 60000)\n",
      "haha\n",
      "cost 0.4402238077570821\n",
      "(10, 60000)\n",
      "haha\n",
      "cost 0.42669523265661763\n",
      "(10, 60000)\n",
      "haha\n",
      "cost 0.4091141293935287\n",
      "(10, 60000)\n",
      "haha\n",
      "cost 0.389559470346911\n",
      "(10, 60000)\n",
      "haha\n",
      "cost 0.3689076135177881\n",
      "(10, 60000)\n",
      "haha\n",
      "cost 0.35826476289722625\n",
      "(10, 60000)\n",
      "haha\n",
      "cost 0.34953732177484387\n",
      "(10, 60000)\n",
      "haha\n",
      "cost 0.3442162540258366\n",
      "(10, 60000)\n",
      "haha\n",
      "cost 0.33897711253570256\n",
      "(10, 60000)\n",
      "haha\n",
      "cost 0.33015497824355355\n",
      "(10, 60000)\n",
      "haha\n",
      "cost 0.32660559090298297\n",
      "(10, 60000)\n",
      "haha\n",
      "cost 0.3219482855203463\n",
      "(10, 60000)\n",
      "haha\n",
      "cost 0.3181464797377983\n",
      "(10, 60000)\n",
      "haha\n",
      "cost 0.3128594201588309\n",
      "(10, 60000)\n",
      "haha\n",
      "cost 0.30921171170953077\n",
      "(10, 60000)\n",
      "haha\n",
      "cost 0.3053517801680125\n",
      "(10, 60000)\n",
      "haha\n",
      "cost 0.3054163692090215\n",
      "(10, 60000)\n",
      "haha\n",
      "cost 0.3038611330493223\n",
      "(10, 60000)\n",
      "haha\n",
      "cost 0.30199656402832264\n",
      "(10, 60000)\n",
      "haha\n",
      "cost 0.2995636683101643\n",
      "(10, 60000)\n",
      "haha\n",
      "cost 0.29717008056188504\n",
      "(10, 60000)\n",
      "haha\n",
      "cost 0.294047051401174\n",
      "(10, 60000)\n",
      "haha\n",
      "cost 0.2913261415147745\n",
      "(10, 60000)\n",
      "haha\n",
      "cost 0.28970168868795954\n",
      "(10, 60000)\n",
      "haha\n",
      "cost 0.28746220170218617\n",
      "(10, 60000)\n",
      "haha\n",
      "cost 0.28599593628179615\n",
      "(10, 60000)\n",
      "haha\n",
      "cost 0.2842779802965454\n",
      "(10, 60000)\n",
      "haha\n",
      "cost 0.2828373959796085\n",
      "(10, 60000)\n",
      "haha\n",
      "cost 0.2815651894070078\n",
      "(10, 60000)\n",
      "haha\n",
      "cost 0.2806280805389068\n",
      "(10, 60000)\n",
      "haha\n",
      "cost 0.2786418655420608\n",
      "(10, 60000)\n",
      "haha\n",
      "cost 0.2783735821236044\n",
      "(10, 60000)\n",
      "haha\n",
      "cost 0.2767991804840436\n",
      "(10, 60000)\n",
      "haha\n",
      "cost 0.2763110349326979\n",
      "(10, 60000)\n",
      "haha\n",
      "cost 0.2754124399123005\n",
      "(10, 60000)\n",
      "haha\n",
      "cost 0.27405366628724614\n",
      "(10, 60000)\n",
      "haha\n",
      "cost 0.2718538051275976\n",
      "(10, 60000)\n",
      "haha\n",
      "cost 0.2755207298982463\n",
      "(10, 60000)\n",
      "haha\n",
      "cost 0.2709969377269936\n",
      "(10, 60000)\n",
      "haha\n",
      "cost 0.2700235208547946\n",
      "(10, 60000)\n",
      "haha\n",
      "cost 0.2694358902702871\n",
      "(10, 60000)\n",
      "haha\n",
      "cost 0.26893361887745837\n",
      "(10, 60000)\n",
      "haha\n",
      "cost 0.26796069940038725\n",
      "(10, 60000)\n",
      "haha\n",
      "cost 0.26722709436668357\n",
      "(10, 60000)\n",
      "haha\n",
      "cost 0.26560781561239777\n",
      "(10, 60000)\n",
      "haha\n",
      "cost 0.265070330144762\n",
      "(10, 60000)\n",
      "haha\n",
      "cost 0.26437680073956493\n",
      "(10, 60000)\n",
      "haha\n",
      "cost 0.263708885342226\n",
      "(10, 60000)\n",
      "haha\n",
      "cost 0.26286027661307254\n",
      "(10, 60000)\n",
      "haha\n",
      "cost 0.2621264519524234\n",
      "(10, 60000)\n",
      "haha\n",
      "cost 0.2612628010767149\n",
      "(10, 60000)\n",
      "haha\n",
      "cost 0.2604971046399375\n",
      "(10, 60000)\n",
      "haha\n",
      "cost 0.2599769166671267\n",
      "(10, 60000)\n",
      "haha\n",
      "cost 0.2594378493719409\n",
      "(10, 60000)\n",
      "haha\n",
      "cost 0.25950180448742155\n",
      "(10, 60000)\n",
      "haha\n",
      "cost 0.2590652259617976\n",
      "(10, 60000)\n",
      "haha\n",
      "cost 0.25847142295330444\n",
      "(10, 60000)\n",
      "haha\n",
      "cost 0.2577674042262477\n",
      "(10, 60000)\n",
      "haha\n",
      "cost 0.25733845323251187\n",
      "(10, 60000)\n",
      "haha\n",
      "cost 0.25675075445699774\n",
      "(10, 60000)\n",
      "haha\n",
      "cost 0.2564726977816049\n",
      "(10, 60000)\n",
      "haha\n",
      "cost 0.2558871959606425\n",
      "(10, 60000)\n",
      "haha\n",
      "cost 0.25559792415775817\n",
      "(10, 60000)\n",
      "haha\n",
      "cost 0.25519844513759565\n",
      "(10, 60000)\n",
      "haha\n",
      "cost 0.25445023206747075\n",
      "(10, 60000)\n",
      "haha\n",
      "cost 0.25561056627547335\n",
      "(10, 60000)\n",
      "haha\n",
      "cost 0.25409946915684195\n",
      "(10, 60000)\n",
      "haha\n",
      "cost 0.2535946646389718\n",
      "(10, 60000)\n",
      "haha\n",
      "cost 0.2532632739631363\n",
      "(10, 60000)\n",
      "haha\n",
      "cost 0.2528972548322835\n",
      "(10, 60000)\n",
      "haha\n",
      "cost 0.25237812681258814\n",
      "(10, 60000)\n",
      "haha\n",
      "cost 0.25224069374204366\n",
      "(10, 60000)\n",
      "haha\n",
      "cost 0.25170580246711116\n",
      "(10, 60000)\n",
      "haha\n",
      "cost 0.2515207460742864\n",
      "(10, 60000)\n",
      "haha\n",
      "cost 0.25116314032089043\n",
      "(10, 60000)\n",
      "haha\n",
      "cost 0.2507727464684199\n",
      "(10, 60000)\n",
      "haha\n",
      "cost 0.2502830731380177\n",
      "(10, 60000)\n",
      "haha\n",
      "cost 0.25006282007446323\n",
      "(10, 60000)\n",
      "haha\n",
      "cost 0.2497379579790133\n",
      "(10, 60000)\n",
      "haha\n",
      "cost 0.2492945104107848\n",
      "(10, 60000)\n",
      "haha\n",
      "cost 0.24896938625330162\n",
      "(10, 60000)\n",
      "haha\n",
      "cost 0.24847474603730066\n",
      "(10, 60000)\n",
      "haha\n",
      "cost 0.2483205191776506\n",
      "(10, 60000)\n",
      "haha\n",
      "cost 0.2481061562164314\n",
      "(10, 60000)\n",
      "haha\n",
      "cost 0.24772531986605978\n",
      "(10, 60000)\n",
      "haha\n",
      "cost 0.2472942223811129\n",
      "(10, 60000)\n",
      "haha\n",
      "cost 0.24689763098667555\n",
      "(10, 60000)\n",
      "haha\n",
      "cost 0.24652419743890921\n",
      "(10, 60000)\n",
      "haha\n",
      "cost 0.24615764270813345\n",
      "(10, 60000)\n",
      "haha\n",
      "cost 0.24598728257656285\n",
      "(10, 60000)\n",
      "haha\n",
      "cost 0.2457578631275102\n",
      "(10, 60000)\n",
      "haha\n",
      "cost 0.24542931057054201\n",
      "(10, 60000)\n",
      "haha\n",
      "cost 0.24492702879407677\n",
      "(10, 60000)\n",
      "haha\n",
      "cost 0.2444755594393607\n",
      "(10, 60000)\n",
      "haha\n",
      "cost 0.24418761220963342\n",
      "(10, 60000)\n",
      "haha\n",
      "cost 0.24391934652496455\n",
      "(10, 60000)\n",
      "haha\n",
      "cost 0.2438062028849155\n",
      "(10, 60000)\n",
      "haha\n",
      "cost 0.24363245547150394\n",
      "(10, 60000)\n",
      "haha\n",
      "cost 0.24344402669068754\n",
      "(10, 60000)\n",
      "haha\n",
      "cost 0.24312434885273485\n",
      "(10, 60000)\n",
      "haha\n",
      "cost 0.24298938106233572\n",
      "(10, 60000)\n",
      "haha\n",
      "cost 0.24286967119808295\n",
      "(10, 60000)\n",
      "haha\n",
      "cost 0.24267272644376484\n",
      "(10, 60000)\n",
      "haha\n",
      "cost 0.2422956035320025\n",
      "(10, 60000)\n",
      "haha\n",
      "cost 0.24228275033179505\n",
      "(10, 60000)\n",
      "haha\n",
      "cost 0.24205415371263764\n",
      "(10, 60000)\n",
      "haha\n",
      "cost 0.24180821962623175\n",
      "(10, 60000)\n",
      "haha\n",
      "cost 0.24157414578025813\n",
      "(10, 60000)\n",
      "haha\n",
      "cost 0.24143895222910797\n",
      "(10, 60000)\n",
      "haha\n",
      "cost 0.241169657265637\n",
      "(10, 60000)\n",
      "haha\n",
      "cost 0.24085470330473832\n",
      "(10, 60000)\n",
      "haha\n",
      "cost 0.24061533294814968\n",
      "(10, 60000)\n",
      "haha\n",
      "cost 0.24038418939006104\n",
      "(10, 60000)\n",
      "haha\n",
      "cost 0.24015369873146009\n",
      "(10, 60000)\n",
      "haha\n",
      "cost 0.239982073909551\n",
      "(10, 60000)\n",
      "haha\n",
      "cost 0.23979117275635395\n",
      "(10, 60000)\n",
      "haha\n",
      "cost 0.23966771716909516\n",
      "(10, 60000)\n",
      "haha\n",
      "cost 0.23954817024954567\n",
      "(10, 60000)\n",
      "haha\n",
      "cost 0.23923712768164063\n",
      "(10, 60000)\n",
      "haha\n",
      "cost 0.23950037918481643\n",
      "(10, 60000)\n",
      "haha\n",
      "cost 0.23912264868541286\n",
      "(10, 60000)\n",
      "haha\n",
      "cost 0.2388940257451296\n",
      "(10, 60000)\n",
      "haha\n",
      "cost 0.2387027821018073\n",
      "(10, 60000)\n",
      "haha\n",
      "cost 0.23848656006982294\n",
      "(10, 60000)\n",
      "haha\n",
      "cost 0.2383855223983259\n",
      "(10, 60000)\n",
      "haha\n",
      "cost 0.23824837002568394\n",
      "(10, 60000)\n",
      "haha\n",
      "cost 0.23812574626924488\n",
      "(10, 60000)\n",
      "haha\n",
      "cost 0.23797750187854194\n",
      "(10, 60000)\n",
      "haha\n",
      "cost 0.23765599532663625\n",
      "(10, 60000)\n",
      "haha\n",
      "cost 0.23874616408700472\n",
      "(10, 60000)\n",
      "haha\n",
      "cost 0.23757600563190956\n",
      "(10, 60000)\n",
      "haha\n",
      "cost 0.23740094165022568\n",
      "(10, 60000)\n",
      "haha\n",
      "cost 0.2372476100171461\n",
      "(10, 60000)\n",
      "haha\n",
      "cost 0.2370289726888474\n",
      "(10, 60000)\n",
      "haha\n",
      "cost 0.2368875480424218\n",
      "(10, 60000)\n",
      "haha\n",
      "cost 0.23675185045608185\n",
      "(10, 60000)\n",
      "haha\n",
      "cost 0.2366179335383639\n",
      "(10, 60000)\n",
      "haha\n",
      "cost 0.23654238249718382\n",
      "(10, 60000)\n",
      "haha\n",
      "cost 0.2363194190905889\n",
      "(10, 60000)\n",
      "haha\n",
      "cost 0.23614154491444242\n",
      "(10, 60000)\n",
      "haha\n",
      "cost 0.2359999230715163\n",
      "(10, 60000)\n",
      "haha\n",
      "cost 0.23583919219928293\n",
      "(10, 60000)\n",
      "haha\n",
      "cost 0.2357639975549549\n",
      "(10, 60000)\n",
      "haha\n",
      "cost 0.23564578285563306\n",
      "(10, 60000)\n",
      "haha\n",
      "cost 0.23550802588003208\n",
      "(10, 60000)\n",
      "haha\n",
      "cost 0.23538717630357495\n",
      "(10, 60000)\n",
      "haha\n",
      "cost 0.23512072536260348\n",
      "(10, 60000)\n",
      "haha\n",
      "cost 0.23583086768987052\n",
      "(10, 60000)\n",
      "haha\n",
      "cost 0.23501523536989277\n",
      "(10, 60000)\n",
      "haha\n",
      "cost 0.23481498244411544\n",
      "(10, 60000)\n",
      "haha\n",
      "cost 0.23468928950924495\n",
      "(10, 60000)\n",
      "haha\n",
      "cost 0.2345529499554889\n",
      "(10, 60000)\n",
      "haha\n",
      "cost 0.2344356054431123\n",
      "(10, 60000)\n",
      "haha\n",
      "cost 0.23432035785385166\n",
      "(10, 60000)\n",
      "haha\n",
      "cost 0.2342382879132003\n",
      "(10, 60000)\n",
      "haha\n",
      "cost 0.2341171209240378\n",
      "(10, 60000)\n",
      "haha\n",
      "cost 0.23385206195954117\n",
      "(10, 60000)\n",
      "haha\n",
      "cost 0.2337558453750277\n",
      "(10, 60000)\n",
      "haha\n",
      "cost 0.23360970654514301\n",
      "(10, 60000)\n",
      "haha\n",
      "cost 0.2335480897384662\n",
      "(10, 60000)\n",
      "haha\n",
      "cost 0.23338114245131042\n",
      "(10, 60000)\n",
      "haha\n",
      "cost 0.23338393627552845\n",
      "(10, 60000)\n",
      "haha\n",
      "cost 0.23327600597568757\n",
      "(10, 60000)\n",
      "haha\n",
      "cost 0.23312334760757786\n",
      "(10, 60000)\n",
      "haha\n",
      "cost 0.23298355614866612\n",
      "(10, 60000)\n",
      "haha\n",
      "cost 0.2328712535027344\n",
      "(10, 60000)\n",
      "haha\n",
      "cost 0.23274550656366608\n",
      "(10, 60000)\n",
      "haha\n",
      "cost 0.2326425652634902\n",
      "(10, 60000)\n",
      "haha\n",
      "cost 0.23253245332195202\n",
      "(10, 60000)\n",
      "haha\n",
      "cost 0.2324419369332449\n",
      "(10, 60000)\n",
      "haha\n",
      "cost 0.2323808870916439\n",
      "(10, 60000)\n",
      "haha\n",
      "cost 0.23219546816799588\n",
      "(10, 60000)\n",
      "haha\n",
      "cost 0.2321637364375959\n",
      "(10, 60000)\n",
      "haha\n",
      "cost 0.2320440354551096\n",
      "(10, 60000)\n",
      "haha\n",
      "cost 0.23198967056861314\n",
      "(10, 60000)\n",
      "haha\n",
      "cost 0.23188295427891073\n",
      "(10, 60000)\n",
      "haha\n",
      "cost 0.23176866976370156\n",
      "(10, 60000)\n",
      "haha\n",
      "cost 0.2318554837991241\n",
      "(10, 60000)\n",
      "haha\n",
      "cost 0.23166295591612399\n",
      "(10, 60000)\n",
      "haha\n",
      "cost 0.23147691537983126\n",
      "(10, 60000)\n",
      "haha\n",
      "cost 0.23136829362251685\n",
      "(10, 60000)\n",
      "haha\n",
      "cost 0.23128019335494276\n",
      "(10, 60000)\n",
      "haha\n",
      "cost 0.23120852493585775\n",
      "(10, 60000)\n",
      "haha\n",
      "cost 0.2310628533048785\n",
      "(10, 60000)\n",
      "haha\n",
      "cost 0.23092413241090248\n",
      "(10, 60000)\n",
      "haha\n",
      "cost 0.23084902197048637\n",
      "(10, 60000)\n",
      "haha\n",
      "cost 0.23080325225183715\n",
      "(10, 60000)\n",
      "haha\n",
      "cost 0.23072996500292337\n",
      "(10, 60000)\n",
      "haha\n",
      "cost 0.23060510603734827\n",
      "(10, 60000)\n",
      "haha\n",
      "cost 0.23055177335470847\n",
      "(10, 60000)\n",
      "haha\n",
      "cost 0.23041518004390713\n",
      "(10, 60000)\n",
      "haha\n",
      "cost 0.23034374707796587\n",
      "(10, 60000)\n",
      "haha\n",
      "cost 0.2302330137328034\n",
      "(10, 60000)\n",
      "haha\n",
      "cost 0.23028147014292624\n",
      "(10, 60000)\n",
      "haha\n",
      "cost 0.23017227416111458\n",
      "(10, 60000)\n",
      "haha\n",
      "cost 0.2300612287873099\n",
      "(10, 60000)\n",
      "haha\n",
      "cost 0.22996018751775119\n",
      "(10, 60000)\n",
      "haha\n",
      "cost 0.22986642260651963\n",
      "(10, 60000)\n",
      "haha\n",
      "cost 0.22976337036782857\n",
      "(10, 60000)\n",
      "haha\n",
      "cost 0.22965912737117394\n",
      "(10, 60000)\n",
      "haha\n",
      "cost 0.22957480547832088\n",
      "(10, 60000)\n",
      "haha\n",
      "cost 0.22951313140283044\n",
      "(10, 60000)\n",
      "haha\n",
      "cost 0.22945040072063158\n",
      "(10, 60000)\n",
      "haha\n",
      "cost 0.22927937851570343\n",
      "(10, 60000)\n",
      "haha\n",
      "cost 0.22940570415725545\n",
      "(10, 60000)\n",
      "haha\n",
      "cost 0.22923266786306026\n",
      "(10, 60000)\n",
      "haha\n",
      "cost 0.22917217463307968\n",
      "(10, 60000)\n",
      "haha\n",
      "cost 0.22910984429826067\n",
      "(10, 60000)\n",
      "haha\n",
      "cost 0.22901185253016276\n",
      "(10, 60000)\n",
      "haha\n",
      "cost 0.22892408561242256\n",
      "(10, 60000)\n",
      "haha\n",
      "cost 0.22884973074919696\n",
      "(10, 60000)\n",
      "haha\n",
      "cost 0.22878834670690973\n",
      "(10, 60000)\n",
      "haha\n",
      "cost 0.2287279245398856\n",
      "(10, 60000)\n",
      "haha\n",
      "cost 0.22856647521463233\n",
      "(10, 60000)\n",
      "haha\n",
      "cost 0.2285811901883208\n",
      "(10, 60000)\n",
      "haha\n",
      "cost 0.2285045358078424\n",
      "(10, 60000)\n",
      "haha\n",
      "cost 0.22839921198935845\n",
      "(10, 60000)\n",
      "haha\n",
      "cost 0.2282936549914229\n",
      "(10, 60000)\n",
      "haha\n",
      "cost 0.2282093245260542\n",
      "(10, 60000)\n",
      "haha\n",
      "cost 0.22810669220771215\n",
      "(10, 60000)\n",
      "haha\n",
      "cost 0.22801630078631877\n",
      "(10, 60000)\n",
      "haha\n",
      "cost 0.22796251978494433\n",
      "(10, 60000)\n",
      "haha\n",
      "cost 0.22789035631248444\n",
      "(10, 60000)\n",
      "haha\n",
      "cost 0.22783383274797034\n",
      "(10, 60000)\n",
      "haha\n",
      "cost 0.22776421999145435\n",
      "(10, 60000)\n",
      "haha\n",
      "cost 0.22768546682658866\n",
      "(10, 60000)\n",
      "haha\n",
      "cost 0.2276537716381988\n",
      "(10, 60000)\n",
      "haha\n",
      "cost 0.2276064165721454\n",
      "(10, 60000)\n",
      "haha\n",
      "cost 0.2277903349676112\n",
      "(10, 60000)\n",
      "haha\n",
      "cost 0.22756864158557796\n",
      "(10, 60000)\n",
      "haha\n",
      "cost 0.2274838850250645\n",
      "(10, 60000)\n",
      "haha\n",
      "cost 0.22740546649318144\n",
      "(10, 60000)\n",
      "haha\n",
      "cost 0.22733872651886944\n",
      "(10, 60000)\n",
      "haha\n",
      "cost 0.22724727662389724\n",
      "(10, 60000)\n",
      "haha\n",
      "cost 0.22719716588301003\n",
      "(10, 60000)\n",
      "haha\n",
      "cost 0.22705787590669188\n",
      "(10, 60000)\n",
      "haha\n",
      "cost 0.22699321648324342\n",
      "(10, 60000)\n",
      "haha\n",
      "cost 0.22693227797893883\n",
      "(10, 60000)\n",
      "haha\n",
      "cost 0.22685601099067737\n",
      "(10, 60000)\n",
      "haha\n",
      "cost 0.22680851590255632\n",
      "(10, 60000)\n",
      "haha\n",
      "cost 0.226731902182342\n",
      "(10, 60000)\n",
      "haha\n",
      "cost 0.22669287113698436\n",
      "(10, 60000)\n",
      "haha\n",
      "cost 0.2266259177408179\n",
      "(10, 60000)\n",
      "haha\n",
      "cost 0.2269082054290573\n",
      "(10, 60000)\n",
      "haha\n",
      "cost 0.22659864531538512\n",
      "(10, 60000)\n",
      "haha\n",
      "cost 0.22653479945591648\n",
      "(10, 60000)\n",
      "haha\n",
      "cost 0.2264876207308744\n",
      "(10, 60000)\n",
      "haha\n",
      "cost 0.2264313188795422\n",
      "(10, 60000)\n",
      "haha\n",
      "cost 0.22637373555970705\n",
      "(10, 60000)\n",
      "haha\n",
      "cost 0.22631154188020355\n",
      "(10, 60000)\n",
      "haha\n",
      "cost 0.22625305922820593\n",
      "(10, 60000)\n",
      "haha\n",
      "cost 0.22618468643645157\n",
      "(10, 60000)\n",
      "haha\n",
      "cost 0.22613398429212633\n",
      "(10, 60000)\n",
      "haha\n",
      "cost 0.22599004516288393\n",
      "(10, 60000)\n",
      "haha\n",
      "cost 0.22612443611150534\n",
      "(10, 60000)\n",
      "haha\n",
      "cost 0.22593338876247326\n",
      "(10, 60000)\n",
      "haha\n",
      "cost 0.22587302410251744\n",
      "(10, 60000)\n",
      "haha\n",
      "cost 0.2258115800903551\n",
      "(10, 60000)\n",
      "haha\n",
      "cost 0.22576205428342394\n",
      "(10, 60000)\n",
      "haha\n",
      "cost 0.22569466867178573\n",
      "(10, 60000)\n",
      "haha\n",
      "cost 0.22562680349475184\n",
      "(10, 60000)\n",
      "haha\n",
      "cost 0.2255847410561239\n",
      "(10, 60000)\n",
      "haha\n",
      "cost 0.22554811795390733\n",
      "(10, 60000)\n",
      "haha\n",
      "cost 0.22547809299797586\n",
      "(10, 60000)\n",
      "haha\n",
      "cost 0.2255148338887721\n",
      "(10, 60000)\n",
      "haha\n",
      "cost 0.22544047022333205\n",
      "(10, 60000)\n",
      "haha\n",
      "cost 0.22538445231866439\n",
      "(10, 60000)\n",
      "haha\n",
      "cost 0.22533536387752248\n",
      "(10, 60000)\n",
      "haha\n",
      "cost 0.22527384929879082\n",
      "(10, 60000)\n",
      "haha\n",
      "cost 0.22519683297586437\n",
      "(10, 60000)\n",
      "haha\n",
      "cost 0.22514022295614539\n",
      "(10, 60000)\n",
      "haha\n",
      "cost 0.22506676025102712\n",
      "(10, 60000)\n",
      "haha\n",
      "cost 0.22502143613525763\n",
      "(10, 60000)\n",
      "haha\n",
      "cost 0.22500089730922687\n",
      "(10, 60000)\n",
      "haha\n",
      "cost 0.22496808304215496\n",
      "(10, 60000)\n",
      "haha\n",
      "cost 0.22492738143757968\n",
      "(10, 60000)\n",
      "haha\n",
      "cost 0.22489297315486673\n",
      "(10, 60000)\n",
      "haha\n",
      "cost 0.22483422710067494\n",
      "(10, 60000)\n",
      "haha\n",
      "cost 0.2248603667061274\n",
      "(10, 60000)\n",
      "haha\n",
      "cost 0.2247923493316984\n",
      "(10, 60000)\n",
      "haha\n",
      "cost 0.22474463759708627\n",
      "(10, 60000)\n",
      "haha\n",
      "cost 0.22469397297126292\n",
      "(10, 60000)\n",
      "haha\n",
      "cost 0.22465599043390425\n",
      "(10, 60000)\n",
      "haha\n",
      "cost 0.22466775301980044\n",
      "(10, 60000)\n",
      "haha\n",
      "cost 0.2246241579403483\n",
      "(10, 60000)\n",
      "haha\n",
      "cost 0.22457240227254716\n",
      "(10, 60000)\n",
      "haha\n",
      "cost 0.22453280418566324\n",
      "(10, 60000)\n",
      "haha\n",
      "cost 0.22448983437504708\n",
      "(10, 60000)\n",
      "haha\n",
      "cost 0.22445680008465982\n",
      "(10, 60000)\n",
      "haha\n",
      "cost 0.2244026617193214\n",
      "(10, 60000)\n",
      "haha\n",
      "cost 0.22435405303569644\n",
      "(10, 60000)\n",
      "haha\n",
      "cost 0.2243165998216448\n",
      "(10, 60000)\n",
      "haha\n",
      "cost 0.22427833921626544\n",
      "(10, 60000)\n",
      "haha\n",
      "cost 0.22422365533045888\n",
      "(10, 60000)\n",
      "haha\n",
      "cost 0.2241777855517484\n",
      "(10, 60000)\n",
      "haha\n",
      "cost 0.22410977901355592\n",
      "(10, 60000)\n",
      "haha\n",
      "cost 0.22410505435369707\n",
      "(10, 60000)\n",
      "haha\n",
      "cost 0.2240812308963942\n",
      "(10, 60000)\n",
      "haha\n",
      "cost 0.22404341931066074\n",
      "(10, 60000)\n",
      "haha\n",
      "cost 0.22397748438571705\n",
      "(10, 60000)\n",
      "haha\n",
      "cost 0.22394401673603012\n",
      "(10, 60000)\n",
      "haha\n",
      "cost 0.22388822315586496\n",
      "(10, 60000)\n",
      "haha\n",
      "cost 0.2238168502516652\n",
      "(10, 60000)\n",
      "haha\n",
      "cost 0.22377858321230937\n",
      "(10, 60000)\n",
      "haha\n",
      "cost 0.22373033336499135\n",
      "(10, 60000)\n",
      "haha\n",
      "cost 0.223701115010708\n",
      "(10, 60000)\n",
      "haha\n",
      "cost 0.22366257264658854\n",
      "(10, 60000)\n",
      "haha\n",
      "cost 0.22360365938659393\n",
      "(10, 60000)\n",
      "haha\n",
      "cost 0.22358336172806922\n",
      "(10, 60000)\n",
      "haha\n",
      "cost 0.2235358996787363\n",
      "(10, 60000)\n",
      "haha\n",
      "cost 0.22351283396837365\n",
      "(10, 60000)\n",
      "haha\n",
      "cost 0.22347726414824184\n",
      "(10, 60000)\n",
      "haha\n",
      "cost 0.22342183240426922\n",
      "(10, 60000)\n",
      "haha\n",
      "cost 0.22337550529111502\n",
      "(10, 60000)\n",
      "haha\n",
      "cost 0.22329630853154284\n",
      "(10, 60000)\n",
      "haha\n",
      "cost 0.223260869878858\n",
      "(10, 60000)\n",
      "haha\n",
      "cost 0.2232259612368051\n",
      "(10, 60000)\n",
      "haha\n",
      "cost 0.22323716872363422\n",
      "(10, 60000)\n",
      "haha\n",
      "cost 0.22320267565586321\n",
      "(10, 60000)\n",
      "haha\n",
      "cost 0.2231605887650414\n",
      "(10, 60000)\n",
      "haha\n",
      "cost 0.22309059319160462\n",
      "(10, 60000)\n",
      "haha\n",
      "cost 0.22305515572018614\n",
      "(10, 60000)\n",
      "haha\n",
      "cost 0.22301497394634184\n",
      "(10, 60000)\n",
      "haha\n",
      "cost 0.22297193161149367\n",
      "(10, 60000)\n",
      "haha\n",
      "cost 0.22292852482576184\n",
      "(10, 60000)\n",
      "haha\n",
      "cost 0.22289127940270687\n",
      "(10, 60000)\n",
      "haha\n",
      "cost 0.22284222836770057\n",
      "(10, 60000)\n",
      "haha\n",
      "cost 0.22279980268912894\n",
      "(10, 60000)\n",
      "haha\n",
      "cost 0.22276564117494388\n",
      "(10, 60000)\n",
      "haha\n",
      "cost 0.22271606951825013\n",
      "(10, 60000)\n",
      "haha\n",
      "cost 0.2226923993280485\n",
      "(10, 60000)\n",
      "haha\n",
      "cost 0.22264528858844954\n",
      "(10, 60000)\n",
      "haha\n",
      "cost 0.22257023792838285\n",
      "(10, 60000)\n",
      "haha\n",
      "cost 0.22269948926466016\n",
      "(10, 60000)\n",
      "haha\n",
      "cost 0.22254471800246547\n",
      "(10, 60000)\n",
      "haha\n",
      "cost 0.2225077613653692\n",
      "(10, 60000)\n",
      "haha\n",
      "cost 0.2224801546660612\n",
      "(10, 60000)\n",
      "haha\n",
      "cost 0.2224534597860523\n",
      "(10, 60000)\n",
      "haha\n",
      "cost 0.2224162149247425\n",
      "(10, 60000)\n",
      "haha\n",
      "cost 0.2223865811570919\n",
      "(10, 60000)\n",
      "haha\n",
      "cost 0.22236203488255712\n",
      "(10, 60000)\n",
      "haha\n",
      "cost 0.22232373235113773\n",
      "(10, 60000)\n",
      "haha\n",
      "cost 0.22240541676552958\n",
      "(10, 60000)\n",
      "haha\n",
      "cost 0.22229956431801182\n",
      "(10, 60000)\n",
      "haha\n",
      "cost 0.22225905180159425\n",
      "(10, 60000)\n",
      "haha\n",
      "cost 0.22222055600580495\n",
      "(10, 60000)\n",
      "haha\n",
      "cost 0.22217429790518606\n",
      "(10, 60000)\n",
      "haha\n",
      "cost 0.22216483584609498\n",
      "(10, 60000)\n",
      "haha\n",
      "cost 0.2221053442484764\n",
      "(10, 60000)\n",
      "haha\n",
      "cost 0.2220845938316815\n",
      "(10, 60000)\n",
      "haha\n",
      "cost 0.22205088079801658\n",
      "(10, 60000)\n",
      "haha\n",
      "cost 0.22200261171853566\n",
      "(10, 60000)\n",
      "haha\n",
      "cost 0.22234751670634187\n",
      "(10, 60000)\n",
      "haha\n",
      "cost 0.22198397698481456\n",
      "(10, 60000)\n",
      "haha\n",
      "cost 0.22192838524096906\n",
      "(10, 60000)\n",
      "haha\n",
      "cost 0.22188477753276156\n",
      "(10, 60000)\n",
      "haha\n",
      "cost 0.22182183370286018\n",
      "(10, 60000)\n",
      "haha\n",
      "cost 0.221792874578737\n",
      "(10, 60000)\n",
      "haha\n",
      "cost 0.22175139385119638\n",
      "(10, 60000)\n",
      "haha\n",
      "cost 0.2217156896028525\n",
      "(10, 60000)\n",
      "haha\n",
      "cost 0.22169781265304117\n",
      "(10, 60000)\n",
      "haha\n",
      "cost 0.2216519330141512\n",
      "(10, 60000)\n",
      "haha\n",
      "cost 0.22183281378344685\n",
      "(10, 60000)\n",
      "haha\n",
      "cost 0.22162664960053294\n",
      "(10, 60000)\n",
      "haha\n",
      "cost 0.22157154621489755\n",
      "(10, 60000)\n",
      "haha\n",
      "cost 0.22153449307477438\n",
      "(10, 60000)\n",
      "haha\n",
      "cost 0.22151550071371315\n",
      "(10, 60000)\n",
      "haha\n",
      "cost 0.22148907601785164\n",
      "(10, 60000)\n",
      "haha\n",
      "cost 0.22147288976341703\n",
      "(10, 60000)\n",
      "haha\n",
      "cost 0.2214350572326311\n",
      "(10, 60000)\n",
      "haha\n",
      "cost 0.22139399269417306\n",
      "(10, 60000)\n",
      "haha\n",
      "cost 0.2215200682544082\n",
      "(10, 60000)\n",
      "haha\n",
      "cost 0.2213757401404962\n",
      "(10, 60000)\n",
      "haha\n",
      "cost 0.2213331410726865\n",
      "(10, 60000)\n",
      "haha\n",
      "cost 0.22130631090390834\n",
      "(10, 60000)\n",
      "haha\n",
      "cost 0.22126123326836628\n",
      "(10, 60000)\n",
      "haha\n",
      "cost 0.22122864463242736\n",
      "(10, 60000)\n",
      "haha\n",
      "cost 0.22119915099298973\n",
      "(10, 60000)\n",
      "haha\n",
      "cost 0.2211620078945945\n",
      "(10, 60000)\n",
      "haha\n",
      "cost 0.2211358267337694\n",
      "(10, 60000)\n",
      "haha\n",
      "cost 0.22110617779074568\n",
      "(10, 60000)\n",
      "haha\n",
      "cost 0.22102753083382476\n",
      "(10, 60000)\n",
      "haha\n",
      "cost 0.2214741995073817\n",
      "(10, 60000)\n",
      "haha\n",
      "cost 0.22101347465804208\n",
      "(10, 60000)\n",
      "haha\n",
      "cost 0.2209902780843194\n",
      "(10, 60000)\n",
      "haha\n",
      "cost 0.2209551696309818\n",
      "(10, 60000)\n",
      "haha\n",
      "cost 0.22090349599107342\n",
      "(10, 60000)\n",
      "haha\n",
      "cost 0.2209431246608776\n",
      "(10, 60000)\n",
      "haha\n",
      "cost 0.22088525720164556\n",
      "(10, 60000)\n",
      "haha\n",
      "cost 0.22085741169197445\n",
      "(10, 60000)\n",
      "haha\n",
      "cost 0.22083130030274364\n",
      "(10, 60000)\n",
      "haha\n",
      "cost 0.22080580113396506\n",
      "(10, 60000)\n",
      "haha\n",
      "cost 0.22077470075136196\n",
      "(10, 60000)\n",
      "haha\n",
      "cost 0.2207549532167991\n",
      "(10, 60000)\n",
      "haha\n",
      "cost 0.22073230841325642\n",
      "(10, 60000)\n",
      "haha\n",
      "cost 0.22070915651977657\n",
      "(10, 60000)\n",
      "haha\n",
      "cost 0.22068790229549162\n",
      "(10, 60000)\n",
      "haha\n",
      "cost 0.2206665699528861\n",
      "(10, 60000)\n",
      "haha\n",
      "cost 0.2206550673360261\n",
      "(10, 60000)\n",
      "haha\n",
      "cost 0.2206384263525925\n",
      "(10, 60000)\n",
      "haha\n",
      "cost 0.22059978340163747\n",
      "(10, 60000)\n",
      "haha\n",
      "cost 0.22056688152596665\n",
      "(10, 60000)\n",
      "haha\n",
      "cost 0.2205078734570775\n",
      "(10, 60000)\n",
      "haha\n",
      "cost 0.2205307357938243\n",
      "(10, 60000)\n",
      "haha\n",
      "cost 0.22047772410008948\n",
      "(10, 60000)\n",
      "haha\n",
      "cost 0.22044692545845967\n",
      "(10, 60000)\n",
      "haha\n",
      "cost 0.22042739429516994\n",
      "(10, 60000)\n",
      "haha\n",
      "cost 0.22040132035319918\n",
      "(10, 60000)\n",
      "haha\n",
      "cost 0.220375475382859\n",
      "(10, 60000)\n",
      "haha\n",
      "cost 0.22034193305199573\n",
      "(10, 60000)\n",
      "haha\n",
      "cost 0.22031689370905003\n",
      "(10, 60000)\n",
      "haha\n",
      "cost 0.22029602271118814\n",
      "(10, 60000)\n",
      "haha\n",
      "cost 0.22029557046863227\n",
      "(10, 60000)\n",
      "haha\n",
      "cost 0.22027486457384052\n",
      "(10, 60000)\n",
      "haha\n",
      "cost 0.2202403174406891\n",
      "(10, 60000)\n",
      "haha\n",
      "cost 0.22021653899506172\n",
      "(10, 60000)\n",
      "haha\n",
      "cost 0.220195575588049\n",
      "(10, 60000)\n",
      "haha\n",
      "cost 0.22017006810368386\n",
      "(10, 60000)\n",
      "haha\n",
      "cost 0.22022129334078316\n",
      "(10, 60000)\n",
      "haha\n",
      "cost 0.22015335589803314\n",
      "(10, 60000)\n",
      "haha\n",
      "cost 0.22011830194255774\n",
      "(10, 60000)\n",
      "haha\n",
      "cost 0.22008727883586282\n",
      "(10, 60000)\n",
      "haha\n",
      "cost 0.22005591789161685\n",
      "Accuracy: 92.37\n",
      "TEST PASSED!!!\n"
     ]
    },
    {
     "data": {
      "image/png": "[encoded data removed]",
      "text/plain": [
       "<Figure size 432x288 with 1 Axes>"
      ]
     },
     "metadata": {
      "needs_background": "light"
     },
     "output_type": "display_data"
    }
   ],
   "source": [
    "sm = SoftmaxRegression(num_classes, ex_size)\n",
    "sm.train(X, Y)\n",
    "\n",
    "predictions = sm.predict(testX)\n",
    "accuracy = 100 * np.sum(predictions == testY, dtype=np.float64) / testY.shape[0]\n",
    "print(f\"Accuracy: {accuracy:.2f}\")\n",
    "assert accuracy >= 92, \"Implementation is sadly incorrect :(\"\n",
    "\n",
    "print(\"TEST PASSED!!!\")\n",
    "good_job(\"hacker_database.png\")"
   ]
  },
  {
   "cell_type": "markdown",
   "metadata": {},
   "source": [
    "## 2.4 - Analysis of Classifier Accuracy"
   ]
  },
  {
   "cell_type": "code",
   "execution_count": 99,
   "metadata": {},
   "outputs": [],
   "source": [
    "def train_test(classifier, X, Y, Xtest, Ytest):\n",
    "    \"\"\"\n",
    "    Train a classifier on data (X,Y) and evaluate on\n",
    "    data (Xtest,Ytest).  Return a tuple of:\n",
    "      * Training data accuracy\n",
    "      * Test data accuracy\n",
    "    \"\"\"\n",
    "    classifier.train(X, Y)\n",
    "    train_acc = np.mean(Y == classifier.predict(X))\n",
    "    test_acc = np.mean(Ytest == classifier.predict(Xtest))\n",
    "\n",
    "    print(f\"Training accuracy {train_acc}, test accuracy {test_acc}\")\n",
    "\n",
    "    return train_acc, test_acc\n",
    "\n",
    "def learning_curve(classifier, X, Y, Xtest, Ytest):\n",
    "    \"\"\"\n",
    "    Generate a learning curve by repeatedly halving the amount of\n",
    "    training data until none is left.\n",
    "\n",
    "    We return a triple containing:\n",
    "      * The sizes of data sets we trained on\n",
    "      * The training accuracies at each level\n",
    "      * The test accuracies at each level\n",
    "    \"\"\"\n",
    "\n",
    "    N = X.shape[1]                   # how many total points?\n",
    "    M = int(np.ceil(np.log2(N)))     # how many classifiers will we have to train?\n",
    "\n",
    "    data_sizes = np.zeros(M)\n",
    "    train_accs  = np.zeros(M)\n",
    "    test_accs   = np.zeros(M)\n",
    "\n",
    "    for i in range(1, M+1):\n",
    "        # select every 2^(M-i)th point\n",
    "        ids = np.arange(0, N, 2**(M-i))\n",
    "        Xtr = X[:, ids]\n",
    "        Ytr = Y[ids]\n",
    "\n",
    "        # report what we're doing\n",
    "        print(f\"Training classifier on {ids.size} points...\")\n",
    "\n",
    "        # train the classifier\n",
    "        train_acc, test_acc = train_test(classifier, Xtr, Ytr, Xtest, Ytest)\n",
    "\n",
    "        # store the results\n",
    "        data_sizes[i-1] = ids.size\n",
    "        train_accs[i-1] = train_acc\n",
    "        test_accs[i-1]  = test_acc\n",
    "\n",
    "    return (data_sizes, train_accs, test_accs)"
   ]
  }
 ],
 "metadata": {
  "kernelspec": {
   "display_name": "Python 3",
   "language": "python",
   "name": "python3"
  },
  "language_info": {
   "codemirror_mode": {
    "name": "ipython",
    "version": 3
   },
   "file_extension": ".py",
   "mimetype": "text/x-python",
   "name": "python",
   "nbconvert_exporter": "python",
   "pygments_lexer": "ipython3",
   "version": "3.6.8"
  }
 },
 "nbformat": 4,
 "nbformat_minor": 4
}
