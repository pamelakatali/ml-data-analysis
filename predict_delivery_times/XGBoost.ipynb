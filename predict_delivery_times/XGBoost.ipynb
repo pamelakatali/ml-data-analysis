{
 "cells": [
  {
   "cell_type": "code",
   "execution_count": 1,
   "metadata": {
    "id": "P2QEMSIYmaPI"
   },
   "outputs": [],
   "source": [
    "import pandas as pd\n",
    "import numpy as np\n",
    "import pickle"
   ]
  },
  {
   "cell_type": "code",
   "execution_count": 2,
   "metadata": {
    "id": "SCuK20tN-UG-"
   },
   "outputs": [],
   "source": [
    "#data_dir='/content/drive/MyDrive/Colab_Notebooks/Ebay/data/'\n",
    "data_dir = '/Users/pamelakatali/Downloads/Ebay_ML/data/'"
   ]
  },
  {
   "cell_type": "code",
   "execution_count": 3,
   "metadata": {
    "colab": {
     "base_uri": "https://localhost:8080/",
     "height": 322
    },
    "id": "-JeA49hBmd2i",
    "outputId": "fd951a9d-4359-44ef-fed3-d75b790b59bf"
   },
   "outputs": [
    {
     "data": {
      "text/html": [
       "<div>\n",
       "<style scoped>\n",
       "    .dataframe tbody tr th:only-of-type {\n",
       "        vertical-align: middle;\n",
       "    }\n",
       "\n",
       "    .dataframe tbody tr th {\n",
       "        vertical-align: top;\n",
       "    }\n",
       "\n",
       "    .dataframe thead th {\n",
       "        text-align: right;\n",
       "    }\n",
       "</style>\n",
       "<table border=\"1\" class=\"dataframe\">\n",
       "  <thead>\n",
       "    <tr style=\"text-align: right;\">\n",
       "      <th></th>\n",
       "      <th>Unnamed: 0</th>\n",
       "      <th>declared_handling_days</th>\n",
       "      <th>carrier_min_estimate</th>\n",
       "      <th>carrier_max_estimate</th>\n",
       "      <th>carrier_diff_estimate</th>\n",
       "      <th>accept_days</th>\n",
       "      <th>shipping_dist</th>\n",
       "      <th>shipping_fee</th>\n",
       "      <th>flat_rate</th>\n",
       "      <th>item_price</th>\n",
       "      <th>...</th>\n",
       "      <th>buyer_group</th>\n",
       "      <th>item_region</th>\n",
       "      <th>buyer_region</th>\n",
       "      <th>item_addr</th>\n",
       "      <th>buyer_addr</th>\n",
       "      <th>ship_id</th>\n",
       "      <th>cat_id</th>\n",
       "      <th>pack_size</th>\n",
       "      <th>b2c_c2c</th>\n",
       "      <th>delivery_days</th>\n",
       "    </tr>\n",
       "  </thead>\n",
       "  <tbody>\n",
       "    <tr>\n",
       "      <th>0</th>\n",
       "      <td>0</td>\n",
       "      <td>1.0</td>\n",
       "      <td>2</td>\n",
       "      <td>5</td>\n",
       "      <td>3</td>\n",
       "      <td>0</td>\n",
       "      <td>1102.615869</td>\n",
       "      <td>11.75</td>\n",
       "      <td>-1</td>\n",
       "      <td>34.99</td>\n",
       "      <td>...</td>\n",
       "      <td>3</td>\n",
       "      <td>12</td>\n",
       "      <td>2246</td>\n",
       "      <td>6</td>\n",
       "      <td>46</td>\n",
       "      <td>1</td>\n",
       "      <td>0</td>\n",
       "      <td>PACKAGE_THICK_ENVELOPE</td>\n",
       "      <td>B2C</td>\n",
       "      <td>4</td>\n",
       "    </tr>\n",
       "    <tr>\n",
       "      <th>1</th>\n",
       "      <td>1</td>\n",
       "      <td>2.0</td>\n",
       "      <td>2</td>\n",
       "      <td>5</td>\n",
       "      <td>3</td>\n",
       "      <td>1</td>\n",
       "      <td>454.104441</td>\n",
       "      <td>9.45</td>\n",
       "      <td>-1</td>\n",
       "      <td>15.50</td>\n",
       "      <td>...</td>\n",
       "      <td>1</td>\n",
       "      <td>56</td>\n",
       "      <td>924</td>\n",
       "      <td>26</td>\n",
       "      <td>24</td>\n",
       "      <td>1</td>\n",
       "      <td>20</td>\n",
       "      <td>PACKAGE_THICK_ENVELOPE</td>\n",
       "      <td>C2C</td>\n",
       "      <td>3</td>\n",
       "    </tr>\n",
       "    <tr>\n",
       "      <th>2</th>\n",
       "      <td>2</td>\n",
       "      <td>3.0</td>\n",
       "      <td>2</td>\n",
       "      <td>5</td>\n",
       "      <td>3</td>\n",
       "      <td>3</td>\n",
       "      <td>1145.325817</td>\n",
       "      <td>0.00</td>\n",
       "      <td>0</td>\n",
       "      <td>30.00</td>\n",
       "      <td>...</td>\n",
       "      <td>4</td>\n",
       "      <td>74</td>\n",
       "      <td>5227</td>\n",
       "      <td>1</td>\n",
       "      <td>27</td>\n",
       "      <td>1</td>\n",
       "      <td>0</td>\n",
       "      <td>PACKAGE_THICK_ENVELOPE</td>\n",
       "      <td>C2C</td>\n",
       "      <td>2</td>\n",
       "    </tr>\n",
       "    <tr>\n",
       "      <th>3</th>\n",
       "      <td>3</td>\n",
       "      <td>1.0</td>\n",
       "      <td>3</td>\n",
       "      <td>5</td>\n",
       "      <td>2</td>\n",
       "      <td>1</td>\n",
       "      <td>631.951409</td>\n",
       "      <td>0.00</td>\n",
       "      <td>0</td>\n",
       "      <td>7.00</td>\n",
       "      <td>...</td>\n",
       "      <td>1</td>\n",
       "      <td>40</td>\n",
       "      <td>1413</td>\n",
       "      <td>24</td>\n",
       "      <td>13</td>\n",
       "      <td>0</td>\n",
       "      <td>9</td>\n",
       "      <td>PACKAGE_THICK_ENVELOPE</td>\n",
       "      <td>C2C</td>\n",
       "      <td>1</td>\n",
       "    </tr>\n",
       "    <tr>\n",
       "      <th>4</th>\n",
       "      <td>4</td>\n",
       "      <td>1.0</td>\n",
       "      <td>3</td>\n",
       "      <td>5</td>\n",
       "      <td>2</td>\n",
       "      <td>0</td>\n",
       "      <td>1454.287831</td>\n",
       "      <td>0.00</td>\n",
       "      <td>0</td>\n",
       "      <td>9.74</td>\n",
       "      <td>...</td>\n",
       "      <td>1</td>\n",
       "      <td>40</td>\n",
       "      <td>4610</td>\n",
       "      <td>24</td>\n",
       "      <td>10</td>\n",
       "      <td>0</td>\n",
       "      <td>12</td>\n",
       "      <td>PACKAGE_THICK_ENVELOPE</td>\n",
       "      <td>C2C</td>\n",
       "      <td>3</td>\n",
       "    </tr>\n",
       "  </tbody>\n",
       "</table>\n",
       "<p>5 rows × 29 columns</p>\n",
       "</div>"
      ],
      "text/plain": [
       "   Unnamed: 0  declared_handling_days  carrier_min_estimate  \\\n",
       "0           0                     1.0                     2   \n",
       "1           1                     2.0                     2   \n",
       "2           2                     3.0                     2   \n",
       "3           3                     1.0                     3   \n",
       "4           4                     1.0                     3   \n",
       "\n",
       "   carrier_max_estimate  carrier_diff_estimate  accept_days  shipping_dist  \\\n",
       "0                     5                      3            0    1102.615869   \n",
       "1                     5                      3            1     454.104441   \n",
       "2                     5                      3            3    1145.325817   \n",
       "3                     5                      2            1     631.951409   \n",
       "4                     5                      2            0    1454.287831   \n",
       "\n",
       "   shipping_fee  flat_rate  item_price  ...  buyer_group  item_region  \\\n",
       "0         11.75         -1       34.99  ...            3           12   \n",
       "1          9.45         -1       15.50  ...            1           56   \n",
       "2          0.00          0       30.00  ...            4           74   \n",
       "3          0.00          0        7.00  ...            1           40   \n",
       "4          0.00          0        9.74  ...            1           40   \n",
       "\n",
       "   buyer_region  item_addr  buyer_addr  ship_id cat_id  \\\n",
       "0          2246          6          46        1      0   \n",
       "1           924         26          24        1     20   \n",
       "2          5227          1          27        1      0   \n",
       "3          1413         24          13        0      9   \n",
       "4          4610         24          10        0     12   \n",
       "\n",
       "                pack_size  b2c_c2c  delivery_days  \n",
       "0  PACKAGE_THICK_ENVELOPE      B2C              4  \n",
       "1  PACKAGE_THICK_ENVELOPE      C2C              3  \n",
       "2  PACKAGE_THICK_ENVELOPE      C2C              2  \n",
       "3  PACKAGE_THICK_ENVELOPE      C2C              1  \n",
       "4  PACKAGE_THICK_ENVELOPE      C2C              3  \n",
       "\n",
       "[5 rows x 29 columns]"
      ]
     },
     "execution_count": 3,
     "metadata": {},
     "output_type": "execute_result"
    }
   ],
   "source": [
    "train_df = pd.read_csv(data_dir+'clean_ebay_train.tsv.gz', sep='\\t')\n",
    "train_df.head()"
   ]
  },
  {
   "cell_type": "code",
   "execution_count": 74,
   "metadata": {},
   "outputs": [
    {
     "data": {
      "text/html": [
       "<div>\n",
       "<style scoped>\n",
       "    .dataframe tbody tr th:only-of-type {\n",
       "        vertical-align: middle;\n",
       "    }\n",
       "\n",
       "    .dataframe tbody tr th {\n",
       "        vertical-align: top;\n",
       "    }\n",
       "\n",
       "    .dataframe thead th {\n",
       "        text-align: right;\n",
       "    }\n",
       "</style>\n",
       "<table border=\"1\" class=\"dataframe\">\n",
       "  <thead>\n",
       "    <tr style=\"text-align: right;\">\n",
       "      <th></th>\n",
       "      <th>Unnamed: 0</th>\n",
       "      <th>declared_handling_days</th>\n",
       "      <th>carrier_min_estimate</th>\n",
       "      <th>carrier_max_estimate</th>\n",
       "      <th>carrier_diff_estimate</th>\n",
       "      <th>accept_days</th>\n",
       "      <th>shipping_dist</th>\n",
       "      <th>shipping_fee</th>\n",
       "      <th>flat_rate</th>\n",
       "      <th>item_price</th>\n",
       "      <th>...</th>\n",
       "      <th>buyer_group</th>\n",
       "      <th>item_region</th>\n",
       "      <th>buyer_region</th>\n",
       "      <th>item_addr</th>\n",
       "      <th>buyer_addr</th>\n",
       "      <th>ship_id</th>\n",
       "      <th>cat_id</th>\n",
       "      <th>pack_size</th>\n",
       "      <th>b2c_c2c</th>\n",
       "      <th>delivery_days</th>\n",
       "    </tr>\n",
       "  </thead>\n",
       "  <tbody>\n",
       "    <tr>\n",
       "      <th>0</th>\n",
       "      <td>0</td>\n",
       "      <td>3.0</td>\n",
       "      <td>3</td>\n",
       "      <td>5</td>\n",
       "      <td>2</td>\n",
       "      <td>2</td>\n",
       "      <td>3187.460513</td>\n",
       "      <td>4.50</td>\n",
       "      <td>4</td>\n",
       "      <td>10.00</td>\n",
       "      <td>...</td>\n",
       "      <td>4</td>\n",
       "      <td>54</td>\n",
       "      <td>7401</td>\n",
       "      <td>20</td>\n",
       "      <td>1</td>\n",
       "      <td>0</td>\n",
       "      <td>3</td>\n",
       "      <td>PACKAGE_THICK_ENVELOPE</td>\n",
       "      <td>B2C</td>\n",
       "      <td>4</td>\n",
       "    </tr>\n",
       "    <tr>\n",
       "      <th>1</th>\n",
       "      <td>1</td>\n",
       "      <td>1.0</td>\n",
       "      <td>2</td>\n",
       "      <td>5</td>\n",
       "      <td>3</td>\n",
       "      <td>0</td>\n",
       "      <td>1303.254542</td>\n",
       "      <td>0.00</td>\n",
       "      <td>0</td>\n",
       "      <td>62.84</td>\n",
       "      <td>...</td>\n",
       "      <td>5</td>\n",
       "      <td>45</td>\n",
       "      <td>9602</td>\n",
       "      <td>77</td>\n",
       "      <td>2</td>\n",
       "      <td>1</td>\n",
       "      <td>1</td>\n",
       "      <td>PACKAGE_THICK_ENVELOPE</td>\n",
       "      <td>B2C</td>\n",
       "      <td>5</td>\n",
       "    </tr>\n",
       "    <tr>\n",
       "      <th>2</th>\n",
       "      <td>2</td>\n",
       "      <td>3.0</td>\n",
       "      <td>3</td>\n",
       "      <td>5</td>\n",
       "      <td>2</td>\n",
       "      <td>0</td>\n",
       "      <td>585.014390</td>\n",
       "      <td>3.95</td>\n",
       "      <td>-1</td>\n",
       "      <td>5.95</td>\n",
       "      <td>...</td>\n",
       "      <td>9</td>\n",
       "      <td>17</td>\n",
       "      <td>4107</td>\n",
       "      <td>11</td>\n",
       "      <td>7</td>\n",
       "      <td>0</td>\n",
       "      <td>10</td>\n",
       "      <td>PACKAGE_THICK_ENVELOPE</td>\n",
       "      <td>C2C</td>\n",
       "      <td>2</td>\n",
       "    </tr>\n",
       "    <tr>\n",
       "      <th>3</th>\n",
       "      <td>3</td>\n",
       "      <td>2.0</td>\n",
       "      <td>2</td>\n",
       "      <td>8</td>\n",
       "      <td>6</td>\n",
       "      <td>0</td>\n",
       "      <td>1579.435253</td>\n",
       "      <td>6.05</td>\n",
       "      <td>-1</td>\n",
       "      <td>35.00</td>\n",
       "      <td>...</td>\n",
       "      <td>9</td>\n",
       "      <td>53</td>\n",
       "      <td>8671</td>\n",
       "      <td>79</td>\n",
       "      <td>71</td>\n",
       "      <td>3</td>\n",
       "      <td>14</td>\n",
       "      <td>NONE</td>\n",
       "      <td>C2C</td>\n",
       "      <td>5</td>\n",
       "    </tr>\n",
       "    <tr>\n",
       "      <th>4</th>\n",
       "      <td>4</td>\n",
       "      <td>1.0</td>\n",
       "      <td>3</td>\n",
       "      <td>5</td>\n",
       "      <td>2</td>\n",
       "      <td>0</td>\n",
       "      <td>232.402677</td>\n",
       "      <td>0.00</td>\n",
       "      <td>0</td>\n",
       "      <td>54.80</td>\n",
       "      <td>...</td>\n",
       "      <td>4</td>\n",
       "      <td>10</td>\n",
       "      <td>6804</td>\n",
       "      <td>17</td>\n",
       "      <td>4</td>\n",
       "      <td>0</td>\n",
       "      <td>13</td>\n",
       "      <td>LETTER</td>\n",
       "      <td>B2C</td>\n",
       "      <td>3</td>\n",
       "    </tr>\n",
       "  </tbody>\n",
       "</table>\n",
       "<p>5 rows × 29 columns</p>\n",
       "</div>"
      ],
      "text/plain": [
       "   Unnamed: 0  declared_handling_days  carrier_min_estimate  \\\n",
       "0           0                     3.0                     3   \n",
       "1           1                     1.0                     2   \n",
       "2           2                     3.0                     3   \n",
       "3           3                     2.0                     2   \n",
       "4           4                     1.0                     3   \n",
       "\n",
       "   carrier_max_estimate  carrier_diff_estimate  accept_days  shipping_dist  \\\n",
       "0                     5                      2            2    3187.460513   \n",
       "1                     5                      3            0    1303.254542   \n",
       "2                     5                      2            0     585.014390   \n",
       "3                     8                      6            0    1579.435253   \n",
       "4                     5                      2            0     232.402677   \n",
       "\n",
       "   shipping_fee  flat_rate  item_price  ...  buyer_group  item_region  \\\n",
       "0          4.50          4       10.00  ...            4           54   \n",
       "1          0.00          0       62.84  ...            5           45   \n",
       "2          3.95         -1        5.95  ...            9           17   \n",
       "3          6.05         -1       35.00  ...            9           53   \n",
       "4          0.00          0       54.80  ...            4           10   \n",
       "\n",
       "   buyer_region  item_addr  buyer_addr  ship_id cat_id  \\\n",
       "0          7401         20           1        0      3   \n",
       "1          9602         77           2        1      1   \n",
       "2          4107         11           7        0     10   \n",
       "3          8671         79          71        3     14   \n",
       "4          6804         17           4        0     13   \n",
       "\n",
       "                pack_size  b2c_c2c  delivery_days  \n",
       "0  PACKAGE_THICK_ENVELOPE      B2C              4  \n",
       "1  PACKAGE_THICK_ENVELOPE      B2C              5  \n",
       "2  PACKAGE_THICK_ENVELOPE      C2C              2  \n",
       "3                    NONE      C2C              5  \n",
       "4                  LETTER      B2C              3  \n",
       "\n",
       "[5 rows x 29 columns]"
      ]
     },
     "execution_count": 74,
     "metadata": {},
     "output_type": "execute_result"
    }
   ],
   "source": [
    "test_df = pd.read_csv(data_dir+'clean_ebay_dev.tsv.gz', sep='\\t')\n",
    "test_df.head()"
   ]
  },
  {
   "cell_type": "code",
   "execution_count": 164,
   "metadata": {},
   "outputs": [
    {
     "name": "stdout",
     "output_type": "stream",
     "text": [
      "0.5032713421600605\n",
      "29.395936972623804\n"
     ]
    }
   ],
   "source": [
    "print(13342757 / (2*13256027))#0\n",
    "print(13342757 / (2*226949))#1\n",
    "#print(13342757 / (3*1408343))#2"
   ]
  },
  {
   "cell_type": "code",
   "execution_count": 165,
   "metadata": {},
   "outputs": [
    {
     "data": {
      "text/plain": [
       "226949"
      ]
     },
     "execution_count": 165,
     "metadata": {},
     "output_type": "execute_result"
    }
   ],
   "source": [
    "len(train_df['delivery_days'].loc[(train_df['delivery_days'] >= 8)])"
   ]
  },
  {
   "cell_type": "code",
   "execution_count": 46,
   "metadata": {},
   "outputs": [
    {
     "data": {
      "text/plain": [
       "6990940"
      ]
     },
     "execution_count": 46,
     "metadata": {},
     "output_type": "execute_result"
    }
   ],
   "source": [
    "len(train_df['delivery_days'].loc[(train_df['delivery_days'] >= 1) & (train_df['delivery_days'] < 3)].values)/"
   ]
  },
  {
   "cell_type": "code",
   "execution_count": 49,
   "metadata": {},
   "outputs": [
    {
     "data": {
      "text/plain": [
       "4943474"
      ]
     },
     "execution_count": 49,
     "metadata": {},
     "output_type": "execute_result"
    }
   ],
   "source": [
    "len(train_df['delivery_days'].loc[(train_df['delivery_days'] >= 3) & (train_df['delivery_days'] < 5)].values)"
   ]
  },
  {
   "cell_type": "code",
   "execution_count": 51,
   "metadata": {},
   "outputs": [
    {
     "data": {
      "text/plain": [
       "1408343"
      ]
     },
     "execution_count": 51,
     "metadata": {},
     "output_type": "execute_result"
    }
   ],
   "source": [
    "len(train_df['delivery_days'].loc[(train_df['delivery_days'] >= 5) ].values)"
   ]
  },
  {
   "cell_type": "code",
   "execution_count": 33,
   "metadata": {},
   "outputs": [],
   "source": [
    "#len(train_df['delivery_days'].loc[(train_df['delivery_days'] >= 12)].values)"
   ]
  },
  {
   "cell_type": "code",
   "execution_count": 6,
   "metadata": {
    "id": "jhN4YWTAAPR2"
   },
   "outputs": [],
   "source": [
    "ship_cols = pickle.load( open( data_dir+\"ship_id_cols.pkl\", \"rb\" ) )\n",
    "cat_cols = pickle.load( open( data_dir+\"cat_id_cols.pkl\", \"rb\" ) )\n",
    "pack_cols = pickle.load( open( data_dir+\"pack_size_cols.pkl\", \"rb\" ) )\n",
    "b2c_cols = pickle.load( open( data_dir+\"b2c_c2c_cols.pkl\", \"rb\" ) )"
   ]
  },
  {
   "cell_type": "code",
   "execution_count": 7,
   "metadata": {
    "id": "F18wxMffACPt"
   },
   "outputs": [],
   "source": [
    "def one_hot_feat(val, feat, feat_list):\n",
    "    out_array = np.zeros(len(feat_list))\n",
    "    val = feat+str(val)\n",
    "    #print(val)\n",
    "    pos = np.where(feat_list == val)[0][0]\n",
    "\n",
    "    out_array[pos] = 1\n",
    "\n",
    "    return pos"
   ]
  },
  {
   "cell_type": "code",
   "execution_count": null,
   "metadata": {
    "id": "b-nRvxX6BIHq"
   },
   "outputs": [],
   "source": []
  },
  {
   "cell_type": "code",
   "execution_count": 75,
   "metadata": {
    "id": "m0OpHN89D9QG"
   },
   "outputs": [
    {
     "data": {
      "text/plain": [
       "\"\\ntrain_df['ship_id'] = train_df['ship_id'].apply(one_hot_feat,feat='ship_id_',feat_list=ship_cols)\\ntrain_df['pack_size'] = train_df['pack_size'].apply(one_hot_feat,feat='pack_size_',feat_list=pack_cols)\\ntrain_df['cat_id'] = train_df['cat_id'].apply(one_hot_feat,feat='cat_id_',feat_list=cat_cols)\\ntrain_df['b2c'] = train_df['b2c_c2c'].apply(one_hot_feat,feat='b2c_c2c_',feat_list=b2c_cols)\\n\""
      ]
     },
     "execution_count": 75,
     "metadata": {},
     "output_type": "execute_result"
    }
   ],
   "source": [
    "'''\n",
    "train_df['ship_id'] = train_df['ship_id'].apply(one_hot_feat,feat='ship_id_',feat_list=ship_cols)\n",
    "train_df['pack_size'] = train_df['pack_size'].apply(one_hot_feat,feat='pack_size_',feat_list=pack_cols)\n",
    "train_df['cat_id'] = train_df['cat_id'].apply(one_hot_feat,feat='cat_id_',feat_list=cat_cols)\n",
    "train_df['b2c'] = train_df['b2c_c2c'].apply(one_hot_feat,feat='b2c_c2c_',feat_list=b2c_cols)\n",
    "'''"
   ]
  },
  {
   "cell_type": "code",
   "execution_count": 104,
   "metadata": {},
   "outputs": [
    {
     "data": {
      "text/html": [
       "<div>\n",
       "<style scoped>\n",
       "    .dataframe tbody tr th:only-of-type {\n",
       "        vertical-align: middle;\n",
       "    }\n",
       "\n",
       "    .dataframe tbody tr th {\n",
       "        vertical-align: top;\n",
       "    }\n",
       "\n",
       "    .dataframe thead th {\n",
       "        text-align: right;\n",
       "    }\n",
       "</style>\n",
       "<table border=\"1\" class=\"dataframe\">\n",
       "  <thead>\n",
       "    <tr style=\"text-align: right;\">\n",
       "      <th></th>\n",
       "      <th>Unnamed: 0</th>\n",
       "      <th>declared_handling_days</th>\n",
       "      <th>carrier_min_estimate</th>\n",
       "      <th>carrier_max_estimate</th>\n",
       "      <th>carrier_diff_estimate</th>\n",
       "      <th>accept_days</th>\n",
       "      <th>shipping_dist</th>\n",
       "      <th>shipping_fee</th>\n",
       "      <th>flat_rate</th>\n",
       "      <th>item_price</th>\n",
       "      <th>...</th>\n",
       "      <th>buyer_group</th>\n",
       "      <th>item_region</th>\n",
       "      <th>buyer_region</th>\n",
       "      <th>item_addr</th>\n",
       "      <th>buyer_addr</th>\n",
       "      <th>ship_id</th>\n",
       "      <th>cat_id</th>\n",
       "      <th>pack_size</th>\n",
       "      <th>b2c_c2c</th>\n",
       "      <th>delivery_days</th>\n",
       "    </tr>\n",
       "  </thead>\n",
       "  <tbody>\n",
       "    <tr>\n",
       "      <th>0</th>\n",
       "      <td>0</td>\n",
       "      <td>1.0</td>\n",
       "      <td>2</td>\n",
       "      <td>5</td>\n",
       "      <td>3</td>\n",
       "      <td>0</td>\n",
       "      <td>1102.615869</td>\n",
       "      <td>11.75</td>\n",
       "      <td>-1</td>\n",
       "      <td>34.99</td>\n",
       "      <td>...</td>\n",
       "      <td>3</td>\n",
       "      <td>12</td>\n",
       "      <td>2246</td>\n",
       "      <td>6</td>\n",
       "      <td>46</td>\n",
       "      <td>1</td>\n",
       "      <td>0</td>\n",
       "      <td>PACKAGE_THICK_ENVELOPE</td>\n",
       "      <td>B2C</td>\n",
       "      <td>4</td>\n",
       "    </tr>\n",
       "    <tr>\n",
       "      <th>1</th>\n",
       "      <td>1</td>\n",
       "      <td>2.0</td>\n",
       "      <td>2</td>\n",
       "      <td>5</td>\n",
       "      <td>3</td>\n",
       "      <td>1</td>\n",
       "      <td>454.104441</td>\n",
       "      <td>9.45</td>\n",
       "      <td>-1</td>\n",
       "      <td>15.50</td>\n",
       "      <td>...</td>\n",
       "      <td>1</td>\n",
       "      <td>56</td>\n",
       "      <td>924</td>\n",
       "      <td>26</td>\n",
       "      <td>24</td>\n",
       "      <td>1</td>\n",
       "      <td>20</td>\n",
       "      <td>PACKAGE_THICK_ENVELOPE</td>\n",
       "      <td>C2C</td>\n",
       "      <td>3</td>\n",
       "    </tr>\n",
       "    <tr>\n",
       "      <th>2</th>\n",
       "      <td>2</td>\n",
       "      <td>3.0</td>\n",
       "      <td>2</td>\n",
       "      <td>5</td>\n",
       "      <td>3</td>\n",
       "      <td>3</td>\n",
       "      <td>1145.325817</td>\n",
       "      <td>0.00</td>\n",
       "      <td>0</td>\n",
       "      <td>30.00</td>\n",
       "      <td>...</td>\n",
       "      <td>4</td>\n",
       "      <td>74</td>\n",
       "      <td>5227</td>\n",
       "      <td>1</td>\n",
       "      <td>27</td>\n",
       "      <td>1</td>\n",
       "      <td>0</td>\n",
       "      <td>PACKAGE_THICK_ENVELOPE</td>\n",
       "      <td>C2C</td>\n",
       "      <td>2</td>\n",
       "    </tr>\n",
       "    <tr>\n",
       "      <th>3</th>\n",
       "      <td>3</td>\n",
       "      <td>1.0</td>\n",
       "      <td>3</td>\n",
       "      <td>5</td>\n",
       "      <td>2</td>\n",
       "      <td>1</td>\n",
       "      <td>631.951409</td>\n",
       "      <td>0.00</td>\n",
       "      <td>0</td>\n",
       "      <td>7.00</td>\n",
       "      <td>...</td>\n",
       "      <td>1</td>\n",
       "      <td>40</td>\n",
       "      <td>1413</td>\n",
       "      <td>24</td>\n",
       "      <td>13</td>\n",
       "      <td>0</td>\n",
       "      <td>9</td>\n",
       "      <td>PACKAGE_THICK_ENVELOPE</td>\n",
       "      <td>C2C</td>\n",
       "      <td>1</td>\n",
       "    </tr>\n",
       "    <tr>\n",
       "      <th>4</th>\n",
       "      <td>4</td>\n",
       "      <td>1.0</td>\n",
       "      <td>3</td>\n",
       "      <td>5</td>\n",
       "      <td>2</td>\n",
       "      <td>0</td>\n",
       "      <td>1454.287831</td>\n",
       "      <td>0.00</td>\n",
       "      <td>0</td>\n",
       "      <td>9.74</td>\n",
       "      <td>...</td>\n",
       "      <td>1</td>\n",
       "      <td>40</td>\n",
       "      <td>4610</td>\n",
       "      <td>24</td>\n",
       "      <td>10</td>\n",
       "      <td>0</td>\n",
       "      <td>12</td>\n",
       "      <td>PACKAGE_THICK_ENVELOPE</td>\n",
       "      <td>C2C</td>\n",
       "      <td>3</td>\n",
       "    </tr>\n",
       "    <tr>\n",
       "      <th>...</th>\n",
       "      <td>...</td>\n",
       "      <td>...</td>\n",
       "      <td>...</td>\n",
       "      <td>...</td>\n",
       "      <td>...</td>\n",
       "      <td>...</td>\n",
       "      <td>...</td>\n",
       "      <td>...</td>\n",
       "      <td>...</td>\n",
       "      <td>...</td>\n",
       "      <td>...</td>\n",
       "      <td>...</td>\n",
       "      <td>...</td>\n",
       "      <td>...</td>\n",
       "      <td>...</td>\n",
       "      <td>...</td>\n",
       "      <td>...</td>\n",
       "      <td>...</td>\n",
       "      <td>...</td>\n",
       "      <td>...</td>\n",
       "      <td>...</td>\n",
       "    </tr>\n",
       "    <tr>\n",
       "      <th>13482971</th>\n",
       "      <td>13499995</td>\n",
       "      <td>1.0</td>\n",
       "      <td>2</td>\n",
       "      <td>5</td>\n",
       "      <td>3</td>\n",
       "      <td>0</td>\n",
       "      <td>217.300247</td>\n",
       "      <td>0.00</td>\n",
       "      <td>0</td>\n",
       "      <td>97.98</td>\n",
       "      <td>...</td>\n",
       "      <td>3</td>\n",
       "      <td>52</td>\n",
       "      <td>7374</td>\n",
       "      <td>9</td>\n",
       "      <td>74</td>\n",
       "      <td>1</td>\n",
       "      <td>12</td>\n",
       "      <td>PACKAGE_THICK_ENVELOPE</td>\n",
       "      <td>B2C</td>\n",
       "      <td>1</td>\n",
       "    </tr>\n",
       "    <tr>\n",
       "      <th>13482972</th>\n",
       "      <td>13499996</td>\n",
       "      <td>1.0</td>\n",
       "      <td>3</td>\n",
       "      <td>5</td>\n",
       "      <td>2</td>\n",
       "      <td>0</td>\n",
       "      <td>1504.157567</td>\n",
       "      <td>0.00</td>\n",
       "      <td>0</td>\n",
       "      <td>5.80</td>\n",
       "      <td>...</td>\n",
       "      <td>3</td>\n",
       "      <td>8</td>\n",
       "      <td>3056</td>\n",
       "      <td>71</td>\n",
       "      <td>56</td>\n",
       "      <td>0</td>\n",
       "      <td>10</td>\n",
       "      <td>PACKAGE_THICK_ENVELOPE</td>\n",
       "      <td>C2C</td>\n",
       "      <td>2</td>\n",
       "    </tr>\n",
       "    <tr>\n",
       "      <th>13482973</th>\n",
       "      <td>13499997</td>\n",
       "      <td>1.0</td>\n",
       "      <td>3</td>\n",
       "      <td>5</td>\n",
       "      <td>2</td>\n",
       "      <td>2</td>\n",
       "      <td>1394.629319</td>\n",
       "      <td>0.00</td>\n",
       "      <td>0</td>\n",
       "      <td>12.20</td>\n",
       "      <td>...</td>\n",
       "      <td>4</td>\n",
       "      <td>17</td>\n",
       "      <td>2071</td>\n",
       "      <td>16</td>\n",
       "      <td>71</td>\n",
       "      <td>0</td>\n",
       "      <td>0</td>\n",
       "      <td>PACKAGE_THICK_ENVELOPE</td>\n",
       "      <td>B2C</td>\n",
       "      <td>4</td>\n",
       "    </tr>\n",
       "    <tr>\n",
       "      <th>13482974</th>\n",
       "      <td>13499998</td>\n",
       "      <td>3.0</td>\n",
       "      <td>2</td>\n",
       "      <td>5</td>\n",
       "      <td>3</td>\n",
       "      <td>0</td>\n",
       "      <td>292.043640</td>\n",
       "      <td>7.00</td>\n",
       "      <td>6</td>\n",
       "      <td>29.95</td>\n",
       "      <td>...</td>\n",
       "      <td>0</td>\n",
       "      <td>72</td>\n",
       "      <td>7090</td>\n",
       "      <td>1</td>\n",
       "      <td>90</td>\n",
       "      <td>1</td>\n",
       "      <td>7</td>\n",
       "      <td>PACKAGE_THICK_ENVELOPE</td>\n",
       "      <td>C2C</td>\n",
       "      <td>2</td>\n",
       "    </tr>\n",
       "    <tr>\n",
       "      <th>13482975</th>\n",
       "      <td>13499999</td>\n",
       "      <td>1.0</td>\n",
       "      <td>3</td>\n",
       "      <td>5</td>\n",
       "      <td>2</td>\n",
       "      <td>2</td>\n",
       "      <td>4153.701627</td>\n",
       "      <td>0.00</td>\n",
       "      <td>0</td>\n",
       "      <td>12.99</td>\n",
       "      <td>...</td>\n",
       "      <td>3</td>\n",
       "      <td>40</td>\n",
       "      <td>3166</td>\n",
       "      <td>30</td>\n",
       "      <td>66</td>\n",
       "      <td>0</td>\n",
       "      <td>11</td>\n",
       "      <td>NONE</td>\n",
       "      <td>B2C</td>\n",
       "      <td>2</td>\n",
       "    </tr>\n",
       "  </tbody>\n",
       "</table>\n",
       "<p>13239303 rows × 29 columns</p>\n",
       "</div>"
      ],
      "text/plain": [
       "          Unnamed: 0  declared_handling_days  carrier_min_estimate  \\\n",
       "0                  0                     1.0                     2   \n",
       "1                  1                     2.0                     2   \n",
       "2                  2                     3.0                     2   \n",
       "3                  3                     1.0                     3   \n",
       "4                  4                     1.0                     3   \n",
       "...              ...                     ...                   ...   \n",
       "13482971    13499995                     1.0                     2   \n",
       "13482972    13499996                     1.0                     3   \n",
       "13482973    13499997                     1.0                     3   \n",
       "13482974    13499998                     3.0                     2   \n",
       "13482975    13499999                     1.0                     3   \n",
       "\n",
       "          carrier_max_estimate  carrier_diff_estimate  accept_days  \\\n",
       "0                            5                      3            0   \n",
       "1                            5                      3            1   \n",
       "2                            5                      3            3   \n",
       "3                            5                      2            1   \n",
       "4                            5                      2            0   \n",
       "...                        ...                    ...          ...   \n",
       "13482971                     5                      3            0   \n",
       "13482972                     5                      2            0   \n",
       "13482973                     5                      2            2   \n",
       "13482974                     5                      3            0   \n",
       "13482975                     5                      2            2   \n",
       "\n",
       "          shipping_dist  shipping_fee  flat_rate  item_price  ...  \\\n",
       "0           1102.615869         11.75         -1       34.99  ...   \n",
       "1            454.104441          9.45         -1       15.50  ...   \n",
       "2           1145.325817          0.00          0       30.00  ...   \n",
       "3            631.951409          0.00          0        7.00  ...   \n",
       "4           1454.287831          0.00          0        9.74  ...   \n",
       "...                 ...           ...        ...         ...  ...   \n",
       "13482971     217.300247          0.00          0       97.98  ...   \n",
       "13482972    1504.157567          0.00          0        5.80  ...   \n",
       "13482973    1394.629319          0.00          0       12.20  ...   \n",
       "13482974     292.043640          7.00          6       29.95  ...   \n",
       "13482975    4153.701627          0.00          0       12.99  ...   \n",
       "\n",
       "          buyer_group  item_region  buyer_region  item_addr  buyer_addr  \\\n",
       "0                   3           12          2246          6          46   \n",
       "1                   1           56           924         26          24   \n",
       "2                   4           74          5227          1          27   \n",
       "3                   1           40          1413         24          13   \n",
       "4                   1           40          4610         24          10   \n",
       "...               ...          ...           ...        ...         ...   \n",
       "13482971            3           52          7374          9          74   \n",
       "13482972            3            8          3056         71          56   \n",
       "13482973            4           17          2071         16          71   \n",
       "13482974            0           72          7090          1          90   \n",
       "13482975            3           40          3166         30          66   \n",
       "\n",
       "          ship_id cat_id               pack_size  b2c_c2c  delivery_days  \n",
       "0               1      0  PACKAGE_THICK_ENVELOPE      B2C              4  \n",
       "1               1     20  PACKAGE_THICK_ENVELOPE      C2C              3  \n",
       "2               1      0  PACKAGE_THICK_ENVELOPE      C2C              2  \n",
       "3               0      9  PACKAGE_THICK_ENVELOPE      C2C              1  \n",
       "4               0     12  PACKAGE_THICK_ENVELOPE      C2C              3  \n",
       "...           ...    ...                     ...      ...            ...  \n",
       "13482971        1     12  PACKAGE_THICK_ENVELOPE      B2C              1  \n",
       "13482972        0     10  PACKAGE_THICK_ENVELOPE      C2C              2  \n",
       "13482973        0      0  PACKAGE_THICK_ENVELOPE      B2C              4  \n",
       "13482974        1      7  PACKAGE_THICK_ENVELOPE      C2C              2  \n",
       "13482975        0     11                    NONE      B2C              2  \n",
       "\n",
       "[13239303 rows x 29 columns]"
      ]
     },
     "execution_count": 104,
     "metadata": {},
     "output_type": "execute_result"
    }
   ],
   "source": [
    "samp_df = train_df.loc[(train_df['delivery_days'] >= 0) & (train_df['delivery_days'] < 8)]\n",
    "samp_df"
   ]
  },
  {
   "cell_type": "code",
   "execution_count": 99,
   "metadata": {},
   "outputs": [],
   "source": [
    "#samp_test_df = test_df.loc[(test_df['delivery_days'] >= 0) & (train_df['delivery_days'] < 8)]\n",
    "#samp_test_df"
   ]
  },
  {
   "cell_type": "code",
   "execution_count": 105,
   "metadata": {},
   "outputs": [
    {
     "name": "stderr",
     "output_type": "stream",
     "text": [
      "/var/folders/27/4vlrl2bj4dg0dw2rhjh9y88m0000gn/T/ipykernel_31145/1449736738.py:1: SettingWithCopyWarning: \n",
      "A value is trying to be set on a copy of a slice from a DataFrame.\n",
      "Try using .loc[row_indexer,col_indexer] = value instead\n",
      "\n",
      "See the caveats in the documentation: https://pandas.pydata.org/pandas-docs/stable/user_guide/indexing.html#returning-a-view-versus-a-copy\n",
      "  samp_df['ship_id'] = samp_df['ship_id'].apply(one_hot_feat,feat='ship_id_',feat_list=ship_cols)\n",
      "/var/folders/27/4vlrl2bj4dg0dw2rhjh9y88m0000gn/T/ipykernel_31145/1449736738.py:2: SettingWithCopyWarning: \n",
      "A value is trying to be set on a copy of a slice from a DataFrame.\n",
      "Try using .loc[row_indexer,col_indexer] = value instead\n",
      "\n",
      "See the caveats in the documentation: https://pandas.pydata.org/pandas-docs/stable/user_guide/indexing.html#returning-a-view-versus-a-copy\n",
      "  samp_df['pack_size'] = samp_df['pack_size'].apply(one_hot_feat,feat='pack_size_',feat_list=pack_cols)\n",
      "/var/folders/27/4vlrl2bj4dg0dw2rhjh9y88m0000gn/T/ipykernel_31145/1449736738.py:3: SettingWithCopyWarning: \n",
      "A value is trying to be set on a copy of a slice from a DataFrame.\n",
      "Try using .loc[row_indexer,col_indexer] = value instead\n",
      "\n",
      "See the caveats in the documentation: https://pandas.pydata.org/pandas-docs/stable/user_guide/indexing.html#returning-a-view-versus-a-copy\n",
      "  samp_df['cat_id'] = samp_df['cat_id'].apply(one_hot_feat,feat='cat_id_',feat_list=cat_cols)\n",
      "/var/folders/27/4vlrl2bj4dg0dw2rhjh9y88m0000gn/T/ipykernel_31145/1449736738.py:4: SettingWithCopyWarning: \n",
      "A value is trying to be set on a copy of a slice from a DataFrame.\n",
      "Try using .loc[row_indexer,col_indexer] = value instead\n",
      "\n",
      "See the caveats in the documentation: https://pandas.pydata.org/pandas-docs/stable/user_guide/indexing.html#returning-a-view-versus-a-copy\n",
      "  samp_df['b2c'] = samp_df['b2c_c2c'].apply(one_hot_feat,feat='b2c_c2c_',feat_list=b2c_cols)\n"
     ]
    }
   ],
   "source": [
    "samp_df['ship_id'] = samp_df['ship_id'].apply(one_hot_feat,feat='ship_id_',feat_list=ship_cols)\n",
    "samp_df['pack_size'] = samp_df['pack_size'].apply(one_hot_feat,feat='pack_size_',feat_list=pack_cols)\n",
    "samp_df['cat_id'] = samp_df['cat_id'].apply(one_hot_feat,feat='cat_id_',feat_list=cat_cols)\n",
    "samp_df['b2c'] = samp_df['b2c_c2c'].apply(one_hot_feat,feat='b2c_c2c_',feat_list=b2c_cols)"
   ]
  },
  {
   "cell_type": "code",
   "execution_count": 106,
   "metadata": {},
   "outputs": [
    {
     "data": {
      "text/plain": [
       "\"\\nsamp_test_df['ship_id'] = samp_test_df['ship_id'].apply(one_hot_feat,feat='ship_id_',feat_list=ship_cols)\\nsamp_test_df['pack_size'] = samp_test_df['pack_size'].apply(one_hot_feat,feat='pack_size_',feat_list=pack_cols)\\nsamp_test_df['cat_id'] = samp_test_df['cat_id'].apply(one_hot_feat,feat='cat_id_',feat_list=cat_cols)\\nsamp_test_df['b2c'] = samp_test_df['b2c_c2c'].apply(one_hot_feat,feat='b2c_c2c_',feat_list=b2c_cols)\\n\""
      ]
     },
     "execution_count": 106,
     "metadata": {},
     "output_type": "execute_result"
    }
   ],
   "source": [
    "'''\n",
    "samp_test_df['ship_id'] = samp_test_df['ship_id'].apply(one_hot_feat,feat='ship_id_',feat_list=ship_cols)\n",
    "samp_test_df['pack_size'] = samp_test_df['pack_size'].apply(one_hot_feat,feat='pack_size_',feat_list=pack_cols)\n",
    "samp_test_df['cat_id'] = samp_test_df['cat_id'].apply(one_hot_feat,feat='cat_id_',feat_list=cat_cols)\n",
    "samp_test_df['b2c'] = samp_test_df['b2c_c2c'].apply(one_hot_feat,feat='b2c_c2c_',feat_list=b2c_cols)\n",
    "'''"
   ]
  },
  {
   "cell_type": "code",
   "execution_count": 52,
   "metadata": {},
   "outputs": [
    {
     "data": {
      "text/plain": [
       "MinMaxScaler(feature_range=(-1, 1))"
      ]
     },
     "execution_count": 52,
     "metadata": {},
     "output_type": "execute_result"
    }
   ],
   "source": [
    "scaler = pickle.load(open( data_dir+\"train_minmax_scaler_3.pkl\", \"rb\" ))\n",
    "scaler"
   ]
  },
  {
   "cell_type": "code",
   "execution_count": 54,
   "metadata": {},
   "outputs": [],
   "source": [
    "cols_num = ['declared_handling_days', 'carrier_min_estimate', 'carrier_max_estimate', 'carrier_diff_estimate', 'accept_days',  'shipping_dist', 'shipping_fee', 'flat_rate', 'item_price','quantity', 'weight', 'non_weight_rate','weight_units']\n"
   ]
  },
  {
   "cell_type": "code",
   "execution_count": 88,
   "metadata": {},
   "outputs": [
    {
     "data": {
      "text/plain": [
       "array([[-0.95      ,  0.        , -0.53846154, ..., -0.9999655 ,\n",
       "        -0.75      , -1.        ],\n",
       "       [-0.95      ,  0.        , -0.53846154, ..., -0.999954  ,\n",
       "        -0.75      , -1.        ],\n",
       "       [-0.95      , -0.33333333, -0.53846154, ..., -0.999908  ,\n",
       "        -0.75      , -1.        ],\n",
       "       ...,\n",
       "       [-0.9       ,  0.        , -0.53846154, ..., -0.99999425,\n",
       "        -1.        , -1.        ],\n",
       "       [-0.95      , -0.33333333, -0.23076923, ..., -0.999908  ,\n",
       "        -0.75      , -1.        ],\n",
       "       [-0.85      , -0.33333333, -0.23076923, ..., -0.9999425 ,\n",
       "        -0.75      , -1.        ]])"
      ]
     },
     "execution_count": 88,
     "metadata": {},
     "output_type": "execute_result"
    }
   ],
   "source": [
    "X = samp_df[cols_num]#samp_test_df[cols_num]\n",
    "X = scaler.transform(X.values)\n",
    "X"
   ]
  },
  {
   "cell_type": "code",
   "execution_count": 107,
   "metadata": {
    "id": "4hE7DAEJoruW"
   },
   "outputs": [],
   "source": [
    "X = samp_df[['declared_handling_days', 'carrier_min_estimate',\n",
    "       'carrier_max_estimate', 'carrier_diff_estimate', 'accept_days',\n",
    "       'shipping_dist', 'shipping_fee', 'flat_rate', 'item_price', 'quantity',\n",
    "       'weight', 'non_weight_rate', 'weight_units', 'payment_month',\n",
    "      'item_group', 'buyer_group','seller_id', 'ship_id', 'cat_id', 'pack_size','b2c' ]].values\n",
    "#y = train_df['delivery_days'].values"
   ]
  },
  {
   "cell_type": "code",
   "execution_count": 108,
   "metadata": {},
   "outputs": [],
   "source": [
    "y = samp_df['delivery_days'].values\n",
    "#y = samp_test_df['delivery_days'].values"
   ]
  },
  {
   "cell_type": "code",
   "execution_count": 118,
   "metadata": {
    "id": "C8BSjGaGmq4e"
   },
   "outputs": [],
   "source": [
    "from sklearn.ensemble import GradientBoostingRegressor\n",
    "\n",
    "# create an xgboost regression model\n",
    "reg = GradientBoostingRegressor(random_state=0, n_estimators=50, max_depth=7,subsample=0.25)\n"
   ]
  },
  {
   "cell_type": "code",
   "execution_count": 119,
   "metadata": {
    "colab": {
     "base_uri": "https://localhost:8080/"
    },
    "id": "wLANxX2boVB7",
    "outputId": "2f9d41f6-5516-4e1f-e719-9d1639c033fe"
   },
   "outputs": [
    {
     "name": "stderr",
     "output_type": "stream",
     "text": [
      "ERROR:root:Internal Python error in the inspect module.\n",
      "Below is the traceback from this internal error.\n",
      "\n"
     ]
    },
    {
     "name": "stdout",
     "output_type": "stream",
     "text": [
      "Traceback (most recent call last):\n",
      "  File \"/usr/local/lib/python3.9/site-packages/IPython/core/interactiveshell.py\", line 3457, in run_code\n",
      "    exec(code_obj, self.user_global_ns, self.user_ns)\n",
      "  File \"/var/folders/27/4vlrl2bj4dg0dw2rhjh9y88m0000gn/T/ipykernel_31145/2898331123.py\", line 2, in <module>\n",
      "    reg.fit(X, y)\n",
      "  File \"/usr/local/lib/python3.9/site-packages/sklearn/ensemble/_gb.py\", line 586, in fit\n",
      "    n_stages = self._fit_stages(\n",
      "  File \"/usr/local/lib/python3.9/site-packages/sklearn/ensemble/_gb.py\", line 663, in _fit_stages\n",
      "    raw_predictions = self._fit_stage(\n",
      "  File \"/usr/local/lib/python3.9/site-packages/sklearn/ensemble/_gb.py\", line 246, in _fit_stage\n",
      "    tree.fit(X, residual, sample_weight=sample_weight, check_input=False)\n",
      "  File \"/usr/local/lib/python3.9/site-packages/sklearn/tree/_classes.py\", line 1315, in fit\n",
      "    super().fit(\n",
      "  File \"/usr/local/lib/python3.9/site-packages/sklearn/tree/_classes.py\", line 420, in fit\n",
      "    builder.build(self.tree_, X, y, sample_weight)\n",
      "KeyboardInterrupt\n",
      "\n",
      "During handling of the above exception, another exception occurred:\n",
      "\n",
      "Traceback (most recent call last):\n",
      "  File \"/usr/local/lib/python3.9/site-packages/IPython/core/interactiveshell.py\", line 2077, in showtraceback\n",
      "    stb = value._render_traceback_()\n",
      "AttributeError: 'KeyboardInterrupt' object has no attribute '_render_traceback_'\n",
      "\n",
      "During handling of the above exception, another exception occurred:\n",
      "\n",
      "Traceback (most recent call last):\n",
      "  File \"/usr/local/lib/python3.9/site-packages/IPython/core/ultratb.py\", line 1101, in get_records\n",
      "    return _fixed_getinnerframes(etb, number_of_lines_of_context, tb_offset)\n",
      "  File \"/usr/local/lib/python3.9/site-packages/IPython/core/ultratb.py\", line 248, in wrapped\n",
      "    return f(*args, **kwargs)\n",
      "  File \"/usr/local/lib/python3.9/site-packages/IPython/core/ultratb.py\", line 281, in _fixed_getinnerframes\n",
      "    records = fix_frame_records_filenames(inspect.getinnerframes(etb, context))\n",
      "  File \"/usr/local/Cellar/python@3.9/3.9.7_1/Frameworks/Python.framework/Versions/3.9/lib/python3.9/inspect.py\", line 1541, in getinnerframes\n",
      "    frameinfo = (tb.tb_frame,) + getframeinfo(tb, context)\n",
      "  File \"/usr/local/Cellar/python@3.9/3.9.7_1/Frameworks/Python.framework/Versions/3.9/lib/python3.9/inspect.py\", line 1499, in getframeinfo\n",
      "    filename = getsourcefile(frame) or getfile(frame)\n",
      "  File \"/usr/local/Cellar/python@3.9/3.9.7_1/Frameworks/Python.framework/Versions/3.9/lib/python3.9/inspect.py\", line 709, in getsourcefile\n",
      "    if getattr(getmodule(object, filename), '__loader__', None) is not None:\n",
      "  File \"/usr/local/Cellar/python@3.9/3.9.7_1/Frameworks/Python.framework/Versions/3.9/lib/python3.9/inspect.py\", line 745, in getmodule\n",
      "    for modname, module in sys.modules.copy().items():\n",
      "KeyboardInterrupt\n"
     ]
    },
    {
     "ename": "TypeError",
     "evalue": "object of type 'NoneType' has no len()",
     "output_type": "error",
     "traceback": [
      "\u001b[0;31m---------------------------------------------------------------------------\u001b[0m",
      "\u001b[0;31mKeyboardInterrupt\u001b[0m                         Traceback (most recent call last)",
      "    \u001b[0;31m[... skipping hidden 1 frame]\u001b[0m\n",
      "\u001b[0;32m/var/folders/27/4vlrl2bj4dg0dw2rhjh9y88m0000gn/T/ipykernel_31145/2898331123.py\u001b[0m in \u001b[0;36m<module>\u001b[0;34m\u001b[0m\n\u001b[1;32m      1\u001b[0m \u001b[0;31m# create an xgboost regression model\u001b[0m\u001b[0;34m\u001b[0m\u001b[0;34m\u001b[0m\u001b[0m\n\u001b[0;32m----> 2\u001b[0;31m \u001b[0mreg\u001b[0m\u001b[0;34m.\u001b[0m\u001b[0mfit\u001b[0m\u001b[0;34m(\u001b[0m\u001b[0mX\u001b[0m\u001b[0;34m,\u001b[0m \u001b[0my\u001b[0m\u001b[0;34m)\u001b[0m\u001b[0;34m\u001b[0m\u001b[0;34m\u001b[0m\u001b[0m\n\u001b[0m",
      "\u001b[0;32m/usr/local/lib/python3.9/site-packages/sklearn/ensemble/_gb.py\u001b[0m in \u001b[0;36mfit\u001b[0;34m(self, X, y, sample_weight, monitor)\u001b[0m\n\u001b[1;32m    585\u001b[0m         \u001b[0;31m# fit the boosting stages\u001b[0m\u001b[0;34m\u001b[0m\u001b[0;34m\u001b[0m\u001b[0m\n\u001b[0;32m--> 586\u001b[0;31m         n_stages = self._fit_stages(\n\u001b[0m\u001b[1;32m    587\u001b[0m             \u001b[0mX\u001b[0m\u001b[0;34m,\u001b[0m\u001b[0;34m\u001b[0m\u001b[0;34m\u001b[0m\u001b[0m\n",
      "\u001b[0;32m/usr/local/lib/python3.9/site-packages/sklearn/ensemble/_gb.py\u001b[0m in \u001b[0;36m_fit_stages\u001b[0;34m(self, X, y, raw_predictions, sample_weight, random_state, X_val, y_val, sample_weight_val, begin_at_stage, monitor)\u001b[0m\n\u001b[1;32m    662\u001b[0m             \u001b[0;31m# fit next stage of trees\u001b[0m\u001b[0;34m\u001b[0m\u001b[0;34m\u001b[0m\u001b[0m\n\u001b[0;32m--> 663\u001b[0;31m             raw_predictions = self._fit_stage(\n\u001b[0m\u001b[1;32m    664\u001b[0m                 \u001b[0mi\u001b[0m\u001b[0;34m,\u001b[0m\u001b[0;34m\u001b[0m\u001b[0;34m\u001b[0m\u001b[0m\n",
      "\u001b[0;32m/usr/local/lib/python3.9/site-packages/sklearn/ensemble/_gb.py\u001b[0m in \u001b[0;36m_fit_stage\u001b[0;34m(self, i, X, y, raw_predictions, sample_weight, sample_mask, random_state, X_csc, X_csr)\u001b[0m\n\u001b[1;32m    245\u001b[0m             \u001b[0mX\u001b[0m \u001b[0;34m=\u001b[0m \u001b[0mX_csr\u001b[0m \u001b[0;32mif\u001b[0m \u001b[0mX_csr\u001b[0m \u001b[0;32mis\u001b[0m \u001b[0;32mnot\u001b[0m \u001b[0;32mNone\u001b[0m \u001b[0;32melse\u001b[0m \u001b[0mX\u001b[0m\u001b[0;34m\u001b[0m\u001b[0;34m\u001b[0m\u001b[0m\n\u001b[0;32m--> 246\u001b[0;31m             \u001b[0mtree\u001b[0m\u001b[0;34m.\u001b[0m\u001b[0mfit\u001b[0m\u001b[0;34m(\u001b[0m\u001b[0mX\u001b[0m\u001b[0;34m,\u001b[0m \u001b[0mresidual\u001b[0m\u001b[0;34m,\u001b[0m \u001b[0msample_weight\u001b[0m\u001b[0;34m=\u001b[0m\u001b[0msample_weight\u001b[0m\u001b[0;34m,\u001b[0m \u001b[0mcheck_input\u001b[0m\u001b[0;34m=\u001b[0m\u001b[0;32mFalse\u001b[0m\u001b[0;34m)\u001b[0m\u001b[0;34m\u001b[0m\u001b[0;34m\u001b[0m\u001b[0m\n\u001b[0m\u001b[1;32m    247\u001b[0m \u001b[0;34m\u001b[0m\u001b[0m\n",
      "\u001b[0;32m/usr/local/lib/python3.9/site-packages/sklearn/tree/_classes.py\u001b[0m in \u001b[0;36mfit\u001b[0;34m(self, X, y, sample_weight, check_input, X_idx_sorted)\u001b[0m\n\u001b[1;32m   1314\u001b[0m \u001b[0;34m\u001b[0m\u001b[0m\n\u001b[0;32m-> 1315\u001b[0;31m         super().fit(\n\u001b[0m\u001b[1;32m   1316\u001b[0m             \u001b[0mX\u001b[0m\u001b[0;34m,\u001b[0m\u001b[0;34m\u001b[0m\u001b[0;34m\u001b[0m\u001b[0m\n",
      "\u001b[0;32m/usr/local/lib/python3.9/site-packages/sklearn/tree/_classes.py\u001b[0m in \u001b[0;36mfit\u001b[0;34m(self, X, y, sample_weight, check_input, X_idx_sorted)\u001b[0m\n\u001b[1;32m    419\u001b[0m \u001b[0;34m\u001b[0m\u001b[0m\n\u001b[0;32m--> 420\u001b[0;31m         \u001b[0mbuilder\u001b[0m\u001b[0;34m.\u001b[0m\u001b[0mbuild\u001b[0m\u001b[0;34m(\u001b[0m\u001b[0mself\u001b[0m\u001b[0;34m.\u001b[0m\u001b[0mtree_\u001b[0m\u001b[0;34m,\u001b[0m \u001b[0mX\u001b[0m\u001b[0;34m,\u001b[0m \u001b[0my\u001b[0m\u001b[0;34m,\u001b[0m \u001b[0msample_weight\u001b[0m\u001b[0;34m)\u001b[0m\u001b[0;34m\u001b[0m\u001b[0;34m\u001b[0m\u001b[0m\n\u001b[0m\u001b[1;32m    421\u001b[0m \u001b[0;34m\u001b[0m\u001b[0m\n",
      "\u001b[0;31mKeyboardInterrupt\u001b[0m: ",
      "\nDuring handling of the above exception, another exception occurred:\n",
      "\u001b[0;31mAttributeError\u001b[0m                            Traceback (most recent call last)",
      "\u001b[0;32m/usr/local/lib/python3.9/site-packages/IPython/core/interactiveshell.py\u001b[0m in \u001b[0;36mshowtraceback\u001b[0;34m(self, exc_tuple, filename, tb_offset, exception_only, running_compiled_code)\u001b[0m\n\u001b[1;32m   2076\u001b[0m                         \u001b[0;31m# in the engines. This should return a list of strings.\u001b[0m\u001b[0;34m\u001b[0m\u001b[0;34m\u001b[0m\u001b[0m\n\u001b[0;32m-> 2077\u001b[0;31m                         \u001b[0mstb\u001b[0m \u001b[0;34m=\u001b[0m \u001b[0mvalue\u001b[0m\u001b[0;34m.\u001b[0m\u001b[0m_render_traceback_\u001b[0m\u001b[0;34m(\u001b[0m\u001b[0;34m)\u001b[0m\u001b[0;34m\u001b[0m\u001b[0;34m\u001b[0m\u001b[0m\n\u001b[0m\u001b[1;32m   2078\u001b[0m                     \u001b[0;32mexcept\u001b[0m \u001b[0mException\u001b[0m\u001b[0;34m:\u001b[0m\u001b[0;34m\u001b[0m\u001b[0;34m\u001b[0m\u001b[0m\n",
      "\u001b[0;31mAttributeError\u001b[0m: 'KeyboardInterrupt' object has no attribute '_render_traceback_'",
      "\nDuring handling of the above exception, another exception occurred:\n",
      "\u001b[0;31mTypeError\u001b[0m                                 Traceback (most recent call last)",
      "    \u001b[0;31m[... skipping hidden 1 frame]\u001b[0m\n",
      "\u001b[0;32m/usr/local/lib/python3.9/site-packages/IPython/core/interactiveshell.py\u001b[0m in \u001b[0;36mshowtraceback\u001b[0;34m(self, exc_tuple, filename, tb_offset, exception_only, running_compiled_code)\u001b[0m\n\u001b[1;32m   2077\u001b[0m                         \u001b[0mstb\u001b[0m \u001b[0;34m=\u001b[0m \u001b[0mvalue\u001b[0m\u001b[0;34m.\u001b[0m\u001b[0m_render_traceback_\u001b[0m\u001b[0;34m(\u001b[0m\u001b[0;34m)\u001b[0m\u001b[0;34m\u001b[0m\u001b[0;34m\u001b[0m\u001b[0m\n\u001b[1;32m   2078\u001b[0m                     \u001b[0;32mexcept\u001b[0m \u001b[0mException\u001b[0m\u001b[0;34m:\u001b[0m\u001b[0;34m\u001b[0m\u001b[0;34m\u001b[0m\u001b[0m\n\u001b[0;32m-> 2079\u001b[0;31m                         stb = self.InteractiveTB.structured_traceback(etype,\n\u001b[0m\u001b[1;32m   2080\u001b[0m                                             value, tb, tb_offset=tb_offset)\n\u001b[1;32m   2081\u001b[0m \u001b[0;34m\u001b[0m\u001b[0m\n",
      "\u001b[0;32m/usr/local/lib/python3.9/site-packages/IPython/core/ultratb.py\u001b[0m in \u001b[0;36mstructured_traceback\u001b[0;34m(self, etype, value, tb, tb_offset, number_of_lines_of_context)\u001b[0m\n\u001b[1;32m   1365\u001b[0m         \u001b[0;32melse\u001b[0m\u001b[0;34m:\u001b[0m\u001b[0;34m\u001b[0m\u001b[0;34m\u001b[0m\u001b[0m\n\u001b[1;32m   1366\u001b[0m             \u001b[0mself\u001b[0m\u001b[0;34m.\u001b[0m\u001b[0mtb\u001b[0m \u001b[0;34m=\u001b[0m \u001b[0mtb\u001b[0m\u001b[0;34m\u001b[0m\u001b[0;34m\u001b[0m\u001b[0m\n\u001b[0;32m-> 1367\u001b[0;31m         return FormattedTB.structured_traceback(\n\u001b[0m\u001b[1;32m   1368\u001b[0m             self, etype, value, tb, tb_offset, number_of_lines_of_context)\n\u001b[1;32m   1369\u001b[0m \u001b[0;34m\u001b[0m\u001b[0m\n",
      "\u001b[0;32m/usr/local/lib/python3.9/site-packages/IPython/core/ultratb.py\u001b[0m in \u001b[0;36mstructured_traceback\u001b[0;34m(self, etype, value, tb, tb_offset, number_of_lines_of_context)\u001b[0m\n\u001b[1;32m   1265\u001b[0m         \u001b[0;32mif\u001b[0m \u001b[0mmode\u001b[0m \u001b[0;32min\u001b[0m \u001b[0mself\u001b[0m\u001b[0;34m.\u001b[0m\u001b[0mverbose_modes\u001b[0m\u001b[0;34m:\u001b[0m\u001b[0;34m\u001b[0m\u001b[0;34m\u001b[0m\u001b[0m\n\u001b[1;32m   1266\u001b[0m             \u001b[0;31m# Verbose modes need a full traceback\u001b[0m\u001b[0;34m\u001b[0m\u001b[0;34m\u001b[0m\u001b[0m\n\u001b[0;32m-> 1267\u001b[0;31m             return VerboseTB.structured_traceback(\n\u001b[0m\u001b[1;32m   1268\u001b[0m                 \u001b[0mself\u001b[0m\u001b[0;34m,\u001b[0m \u001b[0metype\u001b[0m\u001b[0;34m,\u001b[0m \u001b[0mvalue\u001b[0m\u001b[0;34m,\u001b[0m \u001b[0mtb\u001b[0m\u001b[0;34m,\u001b[0m \u001b[0mtb_offset\u001b[0m\u001b[0;34m,\u001b[0m \u001b[0mnumber_of_lines_of_context\u001b[0m\u001b[0;34m\u001b[0m\u001b[0;34m\u001b[0m\u001b[0m\n\u001b[1;32m   1269\u001b[0m             )\n",
      "\u001b[0;32m/usr/local/lib/python3.9/site-packages/IPython/core/ultratb.py\u001b[0m in \u001b[0;36mstructured_traceback\u001b[0;34m(self, etype, evalue, etb, tb_offset, number_of_lines_of_context)\u001b[0m\n\u001b[1;32m   1122\u001b[0m         \u001b[0;34m\"\"\"Return a nice text document describing the traceback.\"\"\"\u001b[0m\u001b[0;34m\u001b[0m\u001b[0;34m\u001b[0m\u001b[0m\n\u001b[1;32m   1123\u001b[0m \u001b[0;34m\u001b[0m\u001b[0m\n\u001b[0;32m-> 1124\u001b[0;31m         formatted_exception = self.format_exception_as_a_whole(etype, evalue, etb, number_of_lines_of_context,\n\u001b[0m\u001b[1;32m   1125\u001b[0m                                                                tb_offset)\n\u001b[1;32m   1126\u001b[0m \u001b[0;34m\u001b[0m\u001b[0m\n",
      "\u001b[0;32m/usr/local/lib/python3.9/site-packages/IPython/core/ultratb.py\u001b[0m in \u001b[0;36mformat_exception_as_a_whole\u001b[0;34m(self, etype, evalue, etb, number_of_lines_of_context, tb_offset)\u001b[0m\n\u001b[1;32m   1080\u001b[0m \u001b[0;34m\u001b[0m\u001b[0m\n\u001b[1;32m   1081\u001b[0m \u001b[0;34m\u001b[0m\u001b[0m\n\u001b[0;32m-> 1082\u001b[0;31m         \u001b[0mlast_unique\u001b[0m\u001b[0;34m,\u001b[0m \u001b[0mrecursion_repeat\u001b[0m \u001b[0;34m=\u001b[0m \u001b[0mfind_recursion\u001b[0m\u001b[0;34m(\u001b[0m\u001b[0morig_etype\u001b[0m\u001b[0;34m,\u001b[0m \u001b[0mevalue\u001b[0m\u001b[0;34m,\u001b[0m \u001b[0mrecords\u001b[0m\u001b[0;34m)\u001b[0m\u001b[0;34m\u001b[0m\u001b[0;34m\u001b[0m\u001b[0m\n\u001b[0m\u001b[1;32m   1083\u001b[0m \u001b[0;34m\u001b[0m\u001b[0m\n\u001b[1;32m   1084\u001b[0m         \u001b[0mframes\u001b[0m \u001b[0;34m=\u001b[0m \u001b[0mself\u001b[0m\u001b[0;34m.\u001b[0m\u001b[0mformat_records\u001b[0m\u001b[0;34m(\u001b[0m\u001b[0mrecords\u001b[0m\u001b[0;34m,\u001b[0m \u001b[0mlast_unique\u001b[0m\u001b[0;34m,\u001b[0m \u001b[0mrecursion_repeat\u001b[0m\u001b[0;34m)\u001b[0m\u001b[0;34m\u001b[0m\u001b[0;34m\u001b[0m\u001b[0m\n",
      "\u001b[0;32m/usr/local/lib/python3.9/site-packages/IPython/core/ultratb.py\u001b[0m in \u001b[0;36mfind_recursion\u001b[0;34m(etype, value, records)\u001b[0m\n\u001b[1;32m    380\u001b[0m     \u001b[0;31m# first frame (from in to out) that looks different.\u001b[0m\u001b[0;34m\u001b[0m\u001b[0;34m\u001b[0m\u001b[0m\n\u001b[1;32m    381\u001b[0m     \u001b[0;32mif\u001b[0m \u001b[0;32mnot\u001b[0m \u001b[0mis_recursion_error\u001b[0m\u001b[0;34m(\u001b[0m\u001b[0metype\u001b[0m\u001b[0;34m,\u001b[0m \u001b[0mvalue\u001b[0m\u001b[0;34m,\u001b[0m \u001b[0mrecords\u001b[0m\u001b[0;34m)\u001b[0m\u001b[0;34m:\u001b[0m\u001b[0;34m\u001b[0m\u001b[0;34m\u001b[0m\u001b[0m\n\u001b[0;32m--> 382\u001b[0;31m         \u001b[0;32mreturn\u001b[0m \u001b[0mlen\u001b[0m\u001b[0;34m(\u001b[0m\u001b[0mrecords\u001b[0m\u001b[0;34m)\u001b[0m\u001b[0;34m,\u001b[0m \u001b[0;36m0\u001b[0m\u001b[0;34m\u001b[0m\u001b[0;34m\u001b[0m\u001b[0m\n\u001b[0m\u001b[1;32m    383\u001b[0m \u001b[0;34m\u001b[0m\u001b[0m\n\u001b[1;32m    384\u001b[0m     \u001b[0;31m# Select filename, lineno, func_name to track frames with\u001b[0m\u001b[0;34m\u001b[0m\u001b[0;34m\u001b[0m\u001b[0m\n",
      "\u001b[0;31mTypeError\u001b[0m: object of type 'NoneType' has no len()"
     ]
    }
   ],
   "source": [
    "# create an xgboost regression model\n",
    "reg.fit(X, y)"
   ]
  },
  {
   "cell_type": "code",
   "execution_count": 112,
   "metadata": {},
   "outputs": [
    {
     "data": {
      "text/plain": [
       "0.21915170826397168"
      ]
     },
     "execution_count": 112,
     "metadata": {},
     "output_type": "execute_result"
    }
   ],
   "source": [
    "reg.score(X,y)"
   ]
  },
  {
   "cell_type": "code",
   "execution_count": 113,
   "metadata": {},
   "outputs": [],
   "source": [
    "x_pred = reg.predict(X)"
   ]
  },
  {
   "cell_type": "code",
   "execution_count": 114,
   "metadata": {},
   "outputs": [
    {
     "data": {
      "text/plain": [
       "0.3758284707284062"
      ]
     },
     "execution_count": 114,
     "metadata": {},
     "output_type": "execute_result"
    }
   ],
   "source": [
    "from sklearn.metrics import accuracy_score\n",
    "accuracy_score(np.round(x_pred),y)"
   ]
  },
  {
   "cell_type": "code",
   "execution_count": 115,
   "metadata": {},
   "outputs": [
    {
     "data": {
      "text/plain": [
       "array([2.72108695, 2.02968349, 2.52022445, 2.26111537, 3.0750089 ,\n",
       "       3.42524774, 2.67038018, 2.7948226 , 2.52924064, 2.28287935,\n",
       "       2.7490888 , 3.25214108, 2.80572797, 3.70542781, 2.33169609,\n",
       "       2.58133339, 1.91112407, 3.08166793, 2.26243862, 2.59707324,\n",
       "       2.54381811, 3.00660751, 2.63577246, 2.18225983, 3.16675356,\n",
       "       3.21726141, 2.3801192 , 2.56190791, 3.10276137, 2.75221042,\n",
       "       3.02116283, 2.61941478, 3.03415536, 3.1766373 , 2.2244481 ,\n",
       "       2.70328687, 2.41939574, 2.33522331, 2.31683417, 2.46451915,\n",
       "       2.66856466, 2.38199829, 2.78919367, 2.67655616, 2.40124899,\n",
       "       2.83285486, 2.83749211, 2.25207211, 2.59321472, 2.02377284])"
      ]
     },
     "execution_count": 115,
     "metadata": {},
     "output_type": "execute_result"
    }
   ],
   "source": [
    "x_pred[:50]#[33]"
   ]
  },
  {
   "cell_type": "code",
   "execution_count": 116,
   "metadata": {},
   "outputs": [
    {
     "data": {
      "text/plain": [
       "array([4, 3, 2, 1, 3, 5, 4, 4, 2, 3, 2, 2, 7, 1, 2, 4, 2, 2, 1, 4, 3, 2,\n",
       "       3, 3, 2, 2, 3, 3, 6, 3, 4, 2, 2, 3, 2, 1, 4, 2, 2, 2, 4, 3, 2, 2,\n",
       "       1, 3, 4, 2, 4, 2])"
      ]
     },
     "execution_count": 116,
     "metadata": {},
     "output_type": "execute_result"
    }
   ],
   "source": [
    "y[:50]#[33]"
   ]
  },
  {
   "cell_type": "code",
   "execution_count": 117,
   "metadata": {},
   "outputs": [],
   "source": [
    "pickle.dump(reg, open( data_dir+\"/class_0_bin_xgb.pkl\", \"wb\" ))"
   ]
  },
  {
   "cell_type": "code",
   "execution_count": null,
   "metadata": {},
   "outputs": [],
   "source": []
  },
  {
   "cell_type": "code",
   "execution_count": 90,
   "metadata": {},
   "outputs": [
    {
     "data": {
      "text/plain": [
       "KNeighborsRegressor(n_neighbors=2)"
      ]
     },
     "execution_count": 90,
     "metadata": {},
     "output_type": "execute_result"
    }
   ],
   "source": [
    "from sklearn.neighbors import KNeighborsRegressor\n",
    "neigh = KNeighborsRegressor(n_neighbors=2)\n",
    "neigh.fit(X, y)"
   ]
  },
  {
   "cell_type": "code",
   "execution_count": 92,
   "metadata": {},
   "outputs": [],
   "source": [
    "knn_pred = neigh.predict(X[:1000])"
   ]
  },
  {
   "cell_type": "code",
   "execution_count": 95,
   "metadata": {},
   "outputs": [
    {
     "data": {
      "text/plain": [
       "array([ 8. ,  9.5, 11.5,  8.5, 11.5, 10.5,  9. ,  9. , 12.5, 10.5,  9.5,\n",
       "        8.5,  8. ,  8. , 17.5,  8.5,  8. , 11. , 13. , 11. , 11.5,  8.5,\n",
       "        8. ,  8.5,  8. ,  8. ,  8.5,  8. ,  8.5,  9. ,  8. ,  9.5, 10.5,\n",
       "       24.5, 14. ,  9.5,  8.5, 10.5, 10. , 21. ])"
      ]
     },
     "execution_count": 95,
     "metadata": {},
     "output_type": "execute_result"
    }
   ],
   "source": [
    "knn_pred[:40]"
   ]
  },
  {
   "cell_type": "code",
   "execution_count": 96,
   "metadata": {},
   "outputs": [
    {
     "data": {
      "text/plain": [
       "array([ 8,  9, 14,  9, 13, 11, 10,  8, 14,  8, 11,  9,  8,  8, 27,  9,  8,\n",
       "       14, 17, 10, 10,  8,  8,  9,  8,  8,  9,  8,  8,  8,  8,  9, 10, 36,\n",
       "       17,  9,  8, 11, 11, 27])"
      ]
     },
     "execution_count": 96,
     "metadata": {},
     "output_type": "execute_result"
    }
   ],
   "source": [
    "y[:40]"
   ]
  },
  {
   "cell_type": "code",
   "execution_count": 86,
   "metadata": {},
   "outputs": [
    {
     "data": {
      "text/plain": [
       "0.25419192316775563"
      ]
     },
     "execution_count": 86,
     "metadata": {},
     "output_type": "execute_result"
    }
   ],
   "source": [
    "accuracy_score(np.round(knn_pred),y)"
   ]
  },
  {
   "cell_type": "code",
   "execution_count": 87,
   "metadata": {},
   "outputs": [
    {
     "name": "stdout",
     "output_type": "stream",
     "text": [
      "(array([0.42768755, 0.22426192, 0.14383971, 0.09411173, 0.06202209,\n",
      "       0.0591716 , 0.03975535, 0.02005013, 0.02222222, 0.        ,\n",
      "       0.01796407, 0.02919708, 0.02409639, 0.02061856, 0.05357143,\n",
      "       0.        , 0.        , 0.02777778, 0.03125   , 0.        ,\n",
      "       0.        , 0.        , 0.07692308, 0.        , 0.        ,\n",
      "       0.        , 0.        , 0.        , 0.        , 0.        ,\n",
      "       0.        , 0.        , 0.        , 0.1       , 0.        ,\n",
      "       0.        , 0.        , 0.        , 0.        , 0.        ,\n",
      "       0.        , 0.        , 0.        , 0.        , 0.        ,\n",
      "       0.        , 0.        , 0.        , 0.        , 0.        ,\n",
      "       0.        , 0.        ]), array([0.42436451, 0.22178551, 0.14234981, 0.09415911, 0.06191688,\n",
      "       0.06451613, 0.03981623, 0.02259887, 0.02362205, 0.        ,\n",
      "       0.02142857, 0.03478261, 0.01886792, 0.02105263, 0.05263158,\n",
      "       0.        , 0.        , 0.03571429, 0.03571429, 0.        ,\n",
      "       0.        , 0.        , 0.11111111, 0.        , 0.        ,\n",
      "       0.        , 0.        , 0.        , 0.        , 0.        ,\n",
      "       0.        , 0.        , 0.        , 0.125     , 0.        ,\n",
      "       0.        , 0.        , 0.        , 0.        , 0.        ,\n",
      "       0.        , 0.        , 0.        , 0.        , 0.        ,\n",
      "       0.        , 0.        , 0.        , 0.        , 0.        ,\n",
      "       0.        , 0.        ]), array([0.42601955, 0.22301684, 0.14309088, 0.09413541, 0.06196944,\n",
      "       0.0617284 , 0.03978577, 0.02124834, 0.02290076, 0.        ,\n",
      "       0.01954397, 0.03174603, 0.02116402, 0.02083333, 0.05309735,\n",
      "       0.        , 0.        , 0.03125   , 0.03333333, 0.        ,\n",
      "       0.        , 0.        , 0.09090909, 0.        , 0.        ,\n",
      "       0.        , 0.        , 0.        , 0.        , 0.        ,\n",
      "       0.        , 0.        , 0.        , 0.11111111, 0.        ,\n",
      "       0.        , 0.        , 0.        , 0.        , 0.        ,\n",
      "       0.        , 0.        , 0.        , 0.        , 0.        ,\n",
      "       0.        , 0.        , 0.        , 0.        , 0.        ,\n",
      "       0.        , 0.        ]), array([10425,  5343,  3379,  1986,  1179,   775,   653,   354,   254,\n",
      "         218,   140,   115,   106,    95,    57,    57,    25,    28,\n",
      "          28,    22,    27,    15,     9,    13,    12,     9,     5,\n",
      "           7,     9,     6,     4,     6,     6,     8,     8,     3,\n",
      "           4,     3,     4,     4,     1,     1,     0,     0,     1,\n",
      "           0,     1,     0,     0,     0,     0,     1]))\n"
     ]
    },
    {
     "name": "stderr",
     "output_type": "stream",
     "text": [
      "/usr/local/lib/python3.9/site-packages/sklearn/metrics/_classification.py:1308: UndefinedMetricWarning: Precision and F-score are ill-defined and being set to 0.0 in labels with no predicted samples. Use `zero_division` parameter to control this behavior.\n",
      "  _warn_prf(average, modifier, msg_start, len(result))\n",
      "/usr/local/lib/python3.9/site-packages/sklearn/metrics/_classification.py:1308: UndefinedMetricWarning: Recall and F-score are ill-defined and being set to 0.0 in labels with no true samples. Use `zero_division` parameter to control this behavior.\n",
      "  _warn_prf(average, modifier, msg_start, len(result))\n"
     ]
    }
   ],
   "source": [
    "print(precision_recall_fscore_support(np.round(knn_pred),y))"
   ]
  },
  {
   "cell_type": "code",
   "execution_count": 91,
   "metadata": {},
   "outputs": [],
   "source": [
    "pickle.dump(neigh, open( data_dir+\"/class_1_bin_knn.pkl\", \"wb\" ))"
   ]
  },
  {
   "cell_type": "code",
   "execution_count": null,
   "metadata": {},
   "outputs": [],
   "source": []
  },
  {
   "cell_type": "code",
   "execution_count": 68,
   "metadata": {},
   "outputs": [
    {
     "data": {
      "text/plain": [
       "array([4, 3, 2, 1, 3, 5, 4, 4, 2, 3, 2, 2, 7, 1, 2, 4, 2, 2, 1, 4, 3, 2,\n",
       "       3, 3, 2, 2, 3, 3, 6, 3, 8, 4, 2, 2, 3, 2, 1, 4, 2, 2, 2, 4, 3, 2,\n",
       "       2, 1, 3, 4, 2, 4, 2, 3, 5, 1, 6, 2, 3, 5, 3, 3, 5, 1, 7, 3, 9, 3,\n",
       "       5, 2, 2, 4, 2, 4, 2, 1, 2, 1, 2, 1, 1, 2, 2, 2, 4, 4, 3, 3, 2, 2,\n",
       "       2, 2, 3, 5, 4, 2, 2, 2, 5, 1, 1, 2])"
      ]
     },
     "execution_count": 68,
     "metadata": {},
     "output_type": "execute_result"
    }
   ],
   "source": [
    "y[:100]"
   ]
  },
  {
   "cell_type": "code",
   "execution_count": 69,
   "metadata": {},
   "outputs": [
    {
     "data": {
      "text/plain": [
       "2.7558826033659036"
      ]
     },
     "execution_count": 69,
     "metadata": {},
     "output_type": "execute_result"
    }
   ],
   "source": [
    "np.mean(y)"
   ]
  },
  {
   "cell_type": "code",
   "execution_count": 62,
   "metadata": {
    "colab": {
     "base_uri": "https://localhost:8080/"
    },
    "id": "ikWAZtSCoqTB",
    "outputId": "2cb3bace-5551-4d6a-d8f8-0609fb59e635"
   },
   "outputs": [
    {
     "data": {
      "text/plain": [
       "array([2.76394503, 2.18974395, 2.67944877, 2.28954298, 2.91781611,\n",
       "       3.29313438, 2.77522849, 2.80216127, 2.69158304, 2.40418882,\n",
       "       2.8118265 , 3.75548204, 2.79974352, 4.42450155, 2.30726652,\n",
       "       2.63872337, 2.04433665, 2.95832309, 2.43800815, 2.65498503,\n",
       "       2.63872337, 2.91535805, 2.66583346, 2.49974921, 2.81306605,\n",
       "       3.97703437, 2.63872337, 2.60734876, 3.41373427, 2.76023835,\n",
       "       2.20858274, 2.91781611, 2.75417202, 3.84758044, 3.21216687,\n",
       "       2.30105176, 2.74691581, 2.6495718 , 2.40418882, 2.32978318,\n",
       "       2.58283373, 2.54638938, 2.51601087, 2.79974352, 2.75417202,\n",
       "       2.63872337, 2.80459833, 2.86232417, 2.38147377, 2.78173038,\n",
       "       2.17034586, 4.86542996, 4.94063824, 2.19937742, 4.84042657,\n",
       "       2.51601087, 2.60794165, 4.95396077, 2.99228825, 2.81306605,\n",
       "       2.65498503, 2.991398  , 3.13011827, 2.67483739, 3.23927696,\n",
       "       2.89675964, 2.56705898, 2.97937956, 2.56177727, 2.92388763,\n",
       "       2.77522849, 2.51470334, 2.7869848 , 2.62873425, 4.64240563,\n",
       "       2.25985577, 2.92388763, 1.90439524, 2.49974921, 2.47607687,\n",
       "       2.65498503, 2.26980798, 2.79974352, 3.81957824, 2.56177727,\n",
       "       2.44269163, 2.40747946, 2.34995928, 2.56177727, 3.53419167,\n",
       "       2.65498503, 2.51059763, 2.65498503, 2.8130097 , 2.49974921,\n",
       "       2.60556179, 2.75417202, 2.69158304, 2.02916987, 2.60734876])"
      ]
     },
     "execution_count": 62,
     "metadata": {},
     "output_type": "execute_result"
    }
   ],
   "source": [
    "x_pred[:100]"
   ]
  },
  {
   "cell_type": "code",
   "execution_count": 1,
   "metadata": {},
   "outputs": [
    {
     "ename": "NameError",
     "evalue": "name 'np' is not defined",
     "output_type": "error",
     "traceback": [
      "\u001b[0;31m---------------------------------------------------------------------------\u001b[0m",
      "\u001b[0;31mNameError\u001b[0m                                 Traceback (most recent call last)",
      "\u001b[0;32m/var/folders/27/4vlrl2bj4dg0dw2rhjh9y88m0000gn/T/ipykernel_23104/153807442.py\u001b[0m in \u001b[0;36m<module>\u001b[0;34m\u001b[0m\n\u001b[0;32m----> 1\u001b[0;31m np.round([2.76394503, 2.18974395, 2.67944877, 2.28954298, 2.91781611,\n\u001b[0m\u001b[1;32m      2\u001b[0m        \u001b[0;36m3.29313438\u001b[0m\u001b[0;34m,\u001b[0m \u001b[0;36m2.77522849\u001b[0m\u001b[0;34m,\u001b[0m \u001b[0;36m2.80216127\u001b[0m\u001b[0;34m,\u001b[0m \u001b[0;36m2.69158304\u001b[0m\u001b[0;34m,\u001b[0m \u001b[0;36m2.40418882\u001b[0m\u001b[0;34m,\u001b[0m\u001b[0;34m\u001b[0m\u001b[0;34m\u001b[0m\u001b[0m\n\u001b[1;32m      3\u001b[0m        \u001b[0;36m2.8118265\u001b[0m \u001b[0;34m,\u001b[0m \u001b[0;36m3.75548204\u001b[0m\u001b[0;34m,\u001b[0m \u001b[0;36m2.79974352\u001b[0m\u001b[0;34m,\u001b[0m \u001b[0;36m4.42450155\u001b[0m\u001b[0;34m,\u001b[0m \u001b[0;36m2.30726652\u001b[0m\u001b[0;34m,\u001b[0m\u001b[0;34m\u001b[0m\u001b[0;34m\u001b[0m\u001b[0m\n\u001b[1;32m      4\u001b[0m        \u001b[0;36m2.63872337\u001b[0m\u001b[0;34m,\u001b[0m \u001b[0;36m2.04433665\u001b[0m\u001b[0;34m,\u001b[0m \u001b[0;36m2.95832309\u001b[0m\u001b[0;34m,\u001b[0m \u001b[0;36m2.43800815\u001b[0m\u001b[0;34m,\u001b[0m \u001b[0;36m2.65498503\u001b[0m\u001b[0;34m,\u001b[0m\u001b[0;34m\u001b[0m\u001b[0;34m\u001b[0m\u001b[0m\n\u001b[1;32m      5\u001b[0m        \u001b[0;36m2.63872337\u001b[0m\u001b[0;34m,\u001b[0m \u001b[0;36m2.91535805\u001b[0m\u001b[0;34m,\u001b[0m \u001b[0;36m2.66583346\u001b[0m\u001b[0;34m,\u001b[0m \u001b[0;36m2.49974921\u001b[0m\u001b[0;34m,\u001b[0m \u001b[0;36m2.81306605\u001b[0m\u001b[0;34m,\u001b[0m\u001b[0;34m\u001b[0m\u001b[0;34m\u001b[0m\u001b[0m\n",
      "\u001b[0;31mNameError\u001b[0m: name 'np' is not defined"
     ]
    }
   ],
   "source": []
  },
  {
   "cell_type": "code",
   "execution_count": 80,
   "metadata": {},
   "outputs": [
    {
     "data": {
      "text/plain": [
       "tensor(1.4206)"
      ]
     },
     "execution_count": 80,
     "metadata": {},
     "output_type": "execute_result"
    }
   ],
   "source": [
    "import torch\n",
    "ebay_loss(torch.Tensor(x_pred), torch.Tensor(y))"
   ]
  },
  {
   "cell_type": "code",
   "execution_count": 17,
   "metadata": {},
   "outputs": [
    {
     "name": "stderr",
     "output_type": "stream",
     "text": [
      "/usr/local/lib/python3.9/site-packages/IPython/core/interactiveshell.py:3457: DtypeWarning: Columns (17,19,20,21) have mixed types.Specify dtype option on import or set low_memory=False.\n",
      "  exec(code_obj, self.user_global_ns, self.user_ns)\n"
     ]
    },
    {
     "data": {
      "text/html": [
       "<div>\n",
       "<style scoped>\n",
       "    .dataframe tbody tr th:only-of-type {\n",
       "        vertical-align: middle;\n",
       "    }\n",
       "\n",
       "    .dataframe tbody tr th {\n",
       "        vertical-align: top;\n",
       "    }\n",
       "\n",
       "    .dataframe thead th {\n",
       "        text-align: right;\n",
       "    }\n",
       "</style>\n",
       "<table border=\"1\" class=\"dataframe\">\n",
       "  <thead>\n",
       "    <tr style=\"text-align: right;\">\n",
       "      <th></th>\n",
       "      <th>Unnamed: 0</th>\n",
       "      <th>declared_handling_days</th>\n",
       "      <th>carrier_min_estimate</th>\n",
       "      <th>carrier_max_estimate</th>\n",
       "      <th>carrier_diff_estimate</th>\n",
       "      <th>accept_days</th>\n",
       "      <th>shipping_dist</th>\n",
       "      <th>shipping_fee</th>\n",
       "      <th>flat_rate</th>\n",
       "      <th>item_price</th>\n",
       "      <th>...</th>\n",
       "      <th>buyer_group</th>\n",
       "      <th>item_region</th>\n",
       "      <th>buyer_region</th>\n",
       "      <th>item_addr</th>\n",
       "      <th>buyer_addr</th>\n",
       "      <th>ship_id</th>\n",
       "      <th>cat_id</th>\n",
       "      <th>pack_size</th>\n",
       "      <th>b2c_c2c</th>\n",
       "      <th>delivery_days</th>\n",
       "    </tr>\n",
       "  </thead>\n",
       "  <tbody>\n",
       "    <tr>\n",
       "      <th>0</th>\n",
       "      <td>0</td>\n",
       "      <td>3.0</td>\n",
       "      <td>3</td>\n",
       "      <td>5</td>\n",
       "      <td>2</td>\n",
       "      <td>2</td>\n",
       "      <td>3187.460513</td>\n",
       "      <td>4.50</td>\n",
       "      <td>4</td>\n",
       "      <td>10.00</td>\n",
       "      <td>...</td>\n",
       "      <td>4</td>\n",
       "      <td>54</td>\n",
       "      <td>74</td>\n",
       "      <td>20</td>\n",
       "      <td>1.0</td>\n",
       "      <td>0</td>\n",
       "      <td>3</td>\n",
       "      <td>PACKAGE_THICK_ENVELOPE</td>\n",
       "      <td>B2C</td>\n",
       "      <td>4</td>\n",
       "    </tr>\n",
       "    <tr>\n",
       "      <th>1</th>\n",
       "      <td>1</td>\n",
       "      <td>1.0</td>\n",
       "      <td>2</td>\n",
       "      <td>5</td>\n",
       "      <td>3</td>\n",
       "      <td>0</td>\n",
       "      <td>1303.254542</td>\n",
       "      <td>0.00</td>\n",
       "      <td>0</td>\n",
       "      <td>62.84</td>\n",
       "      <td>...</td>\n",
       "      <td>5</td>\n",
       "      <td>45</td>\n",
       "      <td>96</td>\n",
       "      <td>77</td>\n",
       "      <td>2.0</td>\n",
       "      <td>1</td>\n",
       "      <td>1</td>\n",
       "      <td>PACKAGE_THICK_ENVELOPE</td>\n",
       "      <td>B2C</td>\n",
       "      <td>5</td>\n",
       "    </tr>\n",
       "    <tr>\n",
       "      <th>2</th>\n",
       "      <td>2</td>\n",
       "      <td>3.0</td>\n",
       "      <td>3</td>\n",
       "      <td>5</td>\n",
       "      <td>2</td>\n",
       "      <td>0</td>\n",
       "      <td>585.014390</td>\n",
       "      <td>3.95</td>\n",
       "      <td>-1</td>\n",
       "      <td>5.95</td>\n",
       "      <td>...</td>\n",
       "      <td>9</td>\n",
       "      <td>17</td>\n",
       "      <td>41</td>\n",
       "      <td>11</td>\n",
       "      <td>7.0</td>\n",
       "      <td>0</td>\n",
       "      <td>10</td>\n",
       "      <td>PACKAGE_THICK_ENVELOPE</td>\n",
       "      <td>C2C</td>\n",
       "      <td>2</td>\n",
       "    </tr>\n",
       "    <tr>\n",
       "      <th>3</th>\n",
       "      <td>3</td>\n",
       "      <td>2.0</td>\n",
       "      <td>2</td>\n",
       "      <td>8</td>\n",
       "      <td>6</td>\n",
       "      <td>0</td>\n",
       "      <td>1579.435253</td>\n",
       "      <td>6.05</td>\n",
       "      <td>-1</td>\n",
       "      <td>35.00</td>\n",
       "      <td>...</td>\n",
       "      <td>9</td>\n",
       "      <td>53</td>\n",
       "      <td>86</td>\n",
       "      <td>79</td>\n",
       "      <td>71.0</td>\n",
       "      <td>3</td>\n",
       "      <td>14</td>\n",
       "      <td>NONE</td>\n",
       "      <td>C2C</td>\n",
       "      <td>5</td>\n",
       "    </tr>\n",
       "    <tr>\n",
       "      <th>4</th>\n",
       "      <td>4</td>\n",
       "      <td>1.0</td>\n",
       "      <td>3</td>\n",
       "      <td>5</td>\n",
       "      <td>2</td>\n",
       "      <td>0</td>\n",
       "      <td>232.402677</td>\n",
       "      <td>0.00</td>\n",
       "      <td>0</td>\n",
       "      <td>54.80</td>\n",
       "      <td>...</td>\n",
       "      <td>4</td>\n",
       "      <td>10</td>\n",
       "      <td>68</td>\n",
       "      <td>17</td>\n",
       "      <td>4.0</td>\n",
       "      <td>0</td>\n",
       "      <td>13</td>\n",
       "      <td>LETTER</td>\n",
       "      <td>B2C</td>\n",
       "      <td>3</td>\n",
       "    </tr>\n",
       "  </tbody>\n",
       "</table>\n",
       "<p>5 rows × 27 columns</p>\n",
       "</div>"
      ],
      "text/plain": [
       "   Unnamed: 0  declared_handling_days  carrier_min_estimate  \\\n",
       "0           0                     3.0                     3   \n",
       "1           1                     1.0                     2   \n",
       "2           2                     3.0                     3   \n",
       "3           3                     2.0                     2   \n",
       "4           4                     1.0                     3   \n",
       "\n",
       "   carrier_max_estimate  carrier_diff_estimate  accept_days  shipping_dist  \\\n",
       "0                     5                      2            2    3187.460513   \n",
       "1                     5                      3            0    1303.254542   \n",
       "2                     5                      2            0     585.014390   \n",
       "3                     8                      6            0    1579.435253   \n",
       "4                     5                      2            0     232.402677   \n",
       "\n",
       "   shipping_fee  flat_rate  item_price  ...  buyer_group  item_region  \\\n",
       "0          4.50          4       10.00  ...            4           54   \n",
       "1          0.00          0       62.84  ...            5           45   \n",
       "2          3.95         -1        5.95  ...            9           17   \n",
       "3          6.05         -1       35.00  ...            9           53   \n",
       "4          0.00          0       54.80  ...            4           10   \n",
       "\n",
       "   buyer_region  item_addr  buyer_addr  ship_id cat_id  \\\n",
       "0            74         20         1.0        0      3   \n",
       "1            96         77         2.0        1      1   \n",
       "2            41         11         7.0        0     10   \n",
       "3            86         79        71.0        3     14   \n",
       "4            68         17         4.0        0     13   \n",
       "\n",
       "                pack_size b2c_c2c delivery_days  \n",
       "0  PACKAGE_THICK_ENVELOPE     B2C             4  \n",
       "1  PACKAGE_THICK_ENVELOPE     B2C             5  \n",
       "2  PACKAGE_THICK_ENVELOPE     C2C             2  \n",
       "3                    NONE     C2C             5  \n",
       "4                  LETTER     B2C             3  \n",
       "\n",
       "[5 rows x 27 columns]"
      ]
     },
     "execution_count": 17,
     "metadata": {},
     "output_type": "execute_result"
    }
   ],
   "source": [
    "dev_df = pd.read_csv(data_dir+'clean_ebay_dev.tsv.gz', sep='\\t')\n",
    "dev_df.head()"
   ]
  },
  {
   "cell_type": "code",
   "execution_count": 20,
   "metadata": {},
   "outputs": [],
   "source": [
    "dev_df['ship_id'] = dev_df['ship_id'].apply(one_hot_feat,feat='ship_id_',feat_list=ship_cols)\n",
    "dev_df['pack_size'] = dev_df['pack_size'].apply(one_hot_feat,feat='pack_size_',feat_list=pack_cols)\n",
    "dev_df['cat_id'] = dev_df['cat_id'].apply(one_hot_feat,feat='cat_id_',feat_list=cat_cols)\n",
    "dev_df['b2c_c2c'] = dev_df['b2c_c2c'].apply(one_hot_feat,feat='b2c_c2c_',feat_list=b2c_cols)"
   ]
  },
  {
   "cell_type": "code",
   "execution_count": 34,
   "metadata": {},
   "outputs": [],
   "source": [
    "x_cols = ['declared_handling_days', 'carrier_min_estimate',\n",
    "       'carrier_max_estimate', 'carrier_diff_estimate', 'accept_days',\n",
    "       'shipping_dist', 'shipping_fee', 'flat_rate', 'item_price', 'quantity',\n",
    "       'weight', 'non_weight_rate', 'weight_units', 'payment_month',\n",
    "      'item_group', 'buyer_group','seller_id', 'ship_id', 'cat_id', 'pack_size','b2c' ]"
   ]
  },
  {
   "cell_type": "code",
   "execution_count": 35,
   "metadata": {},
   "outputs": [],
   "source": [
    "feat_imp = reg.feature_importances_"
   ]
  },
  {
   "cell_type": "code",
   "execution_count": 36,
   "metadata": {
    "id": "rquVnhKzw2Sx"
   },
   "outputs": [
    {
     "data": {
      "text/plain": [
       "array([1.39490468e-02, 4.03727443e-03, 1.24132633e-01, 1.72612456e-01,\n",
       "       3.50654868e-01, 1.83974882e-01, 1.40640450e-04, 0.00000000e+00,\n",
       "       2.30580777e-03, 5.23329450e-04, 5.11835150e-04, 0.00000000e+00,\n",
       "       0.00000000e+00, 6.21845727e-02, 9.92371841e-03, 6.17478259e-03,\n",
       "       3.62907201e-02, 1.24404988e-02, 2.15276818e-03, 1.79898386e-02,\n",
       "       3.27458685e-07])"
      ]
     },
     "execution_count": 36,
     "metadata": {},
     "output_type": "execute_result"
    }
   ],
   "source": [
    "feat_imp"
   ]
  },
  {
   "cell_type": "code",
   "execution_count": 49,
   "metadata": {
    "id": "jdjoftQlz1Rm"
   },
   "outputs": [
    {
     "name": "stdout",
     "output_type": "stream",
     "text": [
      "0 : 0.013949046827319409\n",
      "1 : 0.004037274433382638\n",
      "2 : 0.12413263299036215\n",
      "3 : 0.17261245641477851\n",
      "4 : 0.3506548676913515\n",
      "5 : 0.18397488189646627\n",
      "6 : 0.00014064045030554614\n",
      "7 : 0.0\n",
      "8 : 0.0023058077672135817\n",
      "9 : 0.0005233294495260637\n",
      "10 : 0.0005118351497962698\n",
      "11 : 0.0\n",
      "12 : 0.0\n",
      "13 : 0.06218457273022998\n",
      "14 : 0.009923718406729369\n",
      "15 : 0.006174782586274598\n",
      "16 : 0.03629072011545744\n",
      "17 : 0.012440498842286004\n",
      "18 : 0.0021527681769415935\n",
      "19 : 0.017989838612894132\n",
      "20 : 3.274586852935758e-07\n"
     ]
    }
   ],
   "source": [
    "count = 0\n",
    "for x in feat_imp:\n",
    "    print(count,\":\",x)\n",
    "    count += 1"
   ]
  },
  {
   "cell_type": "code",
   "execution_count": 38,
   "metadata": {},
   "outputs": [
    {
     "name": "stdout",
     "output_type": "stream",
     "text": [
      "carrier_max_estimate\n",
      "carrier_diff_estimate\n",
      "accept_days\n",
      "shipping_dist\n"
     ]
    }
   ],
   "source": [
    "print(x_cols[2])\n",
    "print(x_cols[3])\n",
    "print(x_cols[4])\n",
    "print(x_cols[5])"
   ]
  },
  {
   "cell_type": "code",
   "execution_count": 39,
   "metadata": {},
   "outputs": [
    {
     "name": "stdout",
     "output_type": "stream",
     "text": [
      "declared_handling_days\n",
      "payment_month\n",
      "seller_id\n",
      "ship_id\n",
      "pack_size\n"
     ]
    }
   ],
   "source": [
    "print(x_cols[0])\n",
    "print(x_cols[13])\n",
    "print(x_cols[16])\n",
    "print(x_cols[17])\n",
    "print(x_cols[19])"
   ]
  },
  {
   "cell_type": "code",
   "execution_count": 41,
   "metadata": {},
   "outputs": [
    {
     "name": "stdout",
     "output_type": "stream",
     "text": [
      "carrier_min_estimate\n",
      "item_price\n",
      "item_group\n",
      "buyer_group\n",
      "cat_id\n"
     ]
    }
   ],
   "source": [
    "print(x_cols[1])\n",
    "print(x_cols[8])\n",
    "print(x_cols[14])\n",
    "print(x_cols[15])\n",
    "print(x_cols[18])"
   ]
  },
  {
   "cell_type": "code",
   "execution_count": 40,
   "metadata": {},
   "outputs": [
    {
     "name": "stdout",
     "output_type": "stream",
     "text": [
      "flat_rate\n",
      "non_weight_rate\n",
      "weight_units\n",
      "b2c\n"
     ]
    }
   ],
   "source": [
    "#add nothing\n",
    "print(x_cols[7])\n",
    "print(x_cols[11])\n",
    "print(x_cols[12])\n",
    "print(x_cols[20])"
   ]
  },
  {
   "cell_type": "code",
   "execution_count": null,
   "metadata": {},
   "outputs": [],
   "source": []
  },
  {
   "cell_type": "code",
   "execution_count": null,
   "metadata": {},
   "outputs": [],
   "source": []
  },
  {
   "cell_type": "code",
   "execution_count": 20,
   "metadata": {
    "id": "HLHoSWhRz1Fu"
   },
   "outputs": [],
   "source": [
    "x_cols = ['declared_handling_days', 'carrier_min_estimate',\n",
    "       'carrier_max_estimate', 'carrier_diff_estimate', 'accept_days',\n",
    "       'shipping_dist', 'shipping_fee', 'flat_rate', 'item_price', 'quantity',\n",
    "       'weight', 'non_weight_rate', 'weight_units', 'payment_month',\n",
    "      'item_group', 'buyer_group','seller_id', 'ship_id', 'cat_id', 'pack_size','b2c' ]"
   ]
  },
  {
   "cell_type": "code",
   "execution_count": 38,
   "metadata": {},
   "outputs": [
    {
     "name": "stdout",
     "output_type": "stream",
     "text": [
      "carrier_diff_estimate\n",
      "accept_days\n",
      "shipping_dist\n"
     ]
    }
   ],
   "source": [
    "print(x_cols[3])\n",
    "print(x_cols[4])\n",
    "print(x_cols[5])"
   ]
  },
  {
   "cell_type": "code",
   "execution_count": 40,
   "metadata": {},
   "outputs": [
    {
     "name": "stdout",
     "output_type": "stream",
     "text": [
      "carrier_max_estimate\n",
      "payment_month\n",
      "seller_id\n"
     ]
    }
   ],
   "source": [
    "print(x_cols[2])\n",
    "print(x_cols[13])\n",
    "print(x_cols[14])"
   ]
  },
  {
   "cell_type": "code",
   "execution_count": 41,
   "metadata": {},
   "outputs": [
    {
     "name": "stdout",
     "output_type": "stream",
     "text": [
      "declared_handling_days\n",
      "ship_id\n",
      "pack_size\n"
     ]
    }
   ],
   "source": [
    "print(x_cols[0])\n",
    "print(x_cols[15])\n",
    "print(x_cols[17])"
   ]
  },
  {
   "cell_type": "code",
   "execution_count": 4,
   "metadata": {},
   "outputs": [
    {
     "name": "stdout",
     "output_type": "stream",
     "text": [
      "flat_rate\n",
      "quantity\n",
      "non_weight_rate\n",
      "weight_units\n"
     ]
    }
   ],
   "source": [
    "# no importance\n",
    "print(x_cols[7])\n",
    "print(x_cols[9])\n",
    "print(x_cols[11])\n",
    "print(x_cols[12])\n"
   ]
  },
  {
   "cell_type": "code",
   "execution_count": null,
   "metadata": {},
   "outputs": [],
   "source": []
  }
 ],
 "metadata": {
  "colab": {
   "collapsed_sections": [],
   "name": "XGBoost.ipynb",
   "provenance": []
  },
  "kernelspec": {
   "display_name": "Python 3 (ipykernel)",
   "language": "python",
   "name": "python3"
  },
  "language_info": {
   "codemirror_mode": {
    "name": "ipython",
    "version": 3
   },
   "file_extension": ".py",
   "mimetype": "text/x-python",
   "name": "python",
   "nbconvert_exporter": "python",
   "pygments_lexer": "ipython3",
   "version": "3.9.7"
  }
 },
 "nbformat": 4,
 "nbformat_minor": 4
}
