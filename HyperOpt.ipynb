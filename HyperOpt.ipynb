{
 "cells": [
  {
   "cell_type": "code",
   "execution_count": 1,
   "metadata": {},
   "outputs": [],
   "source": [
    "from farm.modeling.tokenization import Tokenizer\n",
    "from farm.data_handler.processor import TextClassificationProcessor\n",
    "from farm.data_handler.data_silo import DataSilo\n",
    "from farm.data_handler.data_silo import StreamingDataSilo\n",
    "from farm.modeling.language_model import LanguageModel\n",
    "from farm.modeling.prediction_head import TextClassificationHead\n",
    "from farm.modeling.adaptive_model import AdaptiveModel\n",
    "from farm.modeling.optimization import initialize_optimizer\n",
    "from farm.train import Trainer\n",
    "from farm.utils import MLFlowLogger"
   ]
  },
  {
   "cell_type": "code",
   "execution_count": 2,
   "metadata": {},
   "outputs": [],
   "source": [
    "from farm.eval_pamela import Evaluator\n",
    "from torch.utils.data import DataLoader, Dataset"
   ]
  },
  {
   "cell_type": "code",
   "execution_count": 3,
   "metadata": {},
   "outputs": [],
   "source": [
    "import csv\n",
    "import torch\n",
    "import pandas as pd\n",
    "import pickle\n",
    "import numpy as np"
   ]
  },
  {
   "cell_type": "code",
   "execution_count": 4,
   "metadata": {},
   "outputs": [],
   "source": [
    "import hyperopt\n",
    "from hyperopt import fmin, tpe, hp, STATUS_OK, Trials"
   ]
  },
  {
   "cell_type": "code",
   "execution_count": 5,
   "metadata": {},
   "outputs": [],
   "source": [
    "def get_trainer(space):\n",
    "    device = torch.device(\"cuda\" if torch.cuda.is_available() else \"cpu\")\n",
    "    #print(\"Devices available: {}\".format(device))\n",
    "\n",
    "    tokenizer = Tokenizer.load('')\n",
    "\n",
    "    LABEL_LIST = ['0','1']\n",
    "    processor = TextClassificationProcessor(tokenizer=tokenizer,\n",
    "                                            max_seq_len=512,\n",
    "                                            data_dir=\"\",\n",
    "                                            train_filename=\"\",\n",
    "                                            test_filename=\"\",\n",
    "                                            label_list=LABEL_LIST,\n",
    "                                            metric=\"f1_macro\",\n",
    "                                            text_column_name=\"\",\n",
    "                                            label_column_name=\"\",\n",
    "                                           dev_split=0)\n",
    "\n",
    "    BATCH_SIZE = 64\n",
    "\n",
    "    stream_data_silo = StreamingDataSilo(\n",
    "        processor=processor,\n",
    "        batch_size=BATCH_SIZE,\n",
    "        dataloader_workers=16\n",
    "        )\n",
    "\n",
    "    MODEL_NAME_OR_PATH = \"bert-base-uncased\"\n",
    "    MODEL_NAME_OR_PATH = \"\"\n",
    "\n",
    "    language_model = LanguageModel.load(MODEL_NAME_OR_PATH)\n",
    "\n",
    "    prediction_head = TextClassificationHead(num_labels=len(LABEL_LIST),\n",
    "                                             #class_weights = [0.5657309610494311, 4.3033826983298535])\n",
    "                                             class_weights = [space['class_weight_0'],space['class_weight_1']])\n",
    "\n",
    "    EMBEDS_DROPOUT_PROB = 0.1\n",
    "\n",
    "    model = AdaptiveModel(\n",
    "        language_model=language_model,\n",
    "        prediction_heads=[prediction_head],\n",
    "        embeds_dropout_prob=EMBEDS_DROPOUT_PROB,\n",
    "        lm_output_types=[\"per_sequence\"],\n",
    "        device=device)\n",
    "\n",
    "    LEARNING_RATE = space['learning_rate']#0.00008\n",
    "    N_EPOCHS = 1\n",
    "\n",
    "\n",
    "    model, optimizer, lr_schedule = initialize_optimizer(\n",
    "        model=model,\n",
    "        device=device,\n",
    "        learning_rate=LEARNING_RATE,\n",
    "        n_batches=len(stream_data_silo.get_data_loader(\"train\")),\n",
    "        n_epochs=N_EPOCHS)\n",
    "\n",
    "    N_GPU = 8\n",
    "\n",
    "    trainer = Trainer(\n",
    "        model=model,\n",
    "        optimizer=optimizer,\n",
    "        data_silo=stream_data_silo,\n",
    "        epochs=N_EPOCHS,\n",
    "        n_gpu=N_GPU,\n",
    "        lr_schedule=lr_schedule,\n",
    "        device=device,\n",
    "        evaluator_test=False,\n",
    "        evaluate_every=0,\n",
    "        #disable_tqdm=True\n",
    "    )\n",
    "    processor.save('')\n",
    "    return trainer\n",
    "\n"
   ]
  },
  {
   "cell_type": "code",
   "execution_count": 6,
   "metadata": {},
   "outputs": [],
   "source": [
    "def get_metrics():\n",
    "    device = torch.device(\"cuda\" if torch.cuda.is_available() else \"cpu\")\n",
    "    #print(\"Devices available: {}\".format(device))\n",
    "    \n",
    "    tokenizer = Tokenizer.load('')\n",
    "    \n",
    "    save_dir = \"\"\n",
    "    processor = TextClassificationProcessor.load_from_dir(save_dir)\n",
    "    \n",
    "    model = AdaptiveModel.load(save_dir, device=device,processor=processor)\n",
    "    \n",
    "\n",
    "    samp_text = pd.read_csv('',sep='\\t')\n",
    "    \n",
    "    agg_dataset, tensornames, problematic_ids = processor.dataset_from_dicts(samp_text.to_dict('records'))\n",
    "    agg_dl = DataLoader(agg_dataset, batch_size=64, shuffle=True)\n",
    "    ev = Evaluator(agg_dl,tasks=None,device=device)\n",
    "    eval_results = ev.eval(model)\n",
    "    return eval_results, model,processor\n",
    "    \n",
    "    "
   ]
  },
  {
   "cell_type": "code",
   "execution_count": 7,
   "metadata": {},
   "outputs": [],
   "source": [
    "space = {'learning_rate': hp.uniform('learning_rate', 0.00001, 0.00005),\n",
    "         'class_weight_0': hp.uniform('class_weight_0', 0, 1),\n",
    "         'class_weight_1': hp.uniform('class_weight_1', 4, 5)\n",
    "        }"
   ]
  },
  {
   "cell_type": "code",
   "execution_count": 8,
   "metadata": {},
   "outputs": [],
   "source": [
    "def hyperparameter_tuning(space):\n",
    "    trainer = get_trainer(space)\n",
    "    model = trainer.train()\n",
    "    \n",
    "    model.save('')\n",
    "    \n",
    "    eval_results, mod, proc = get_metrics()\n",
    "    f1_macro = float(eval_results[0]['f1_macro'])\n",
    "    \n",
    "    with open('','a') as file:\n",
    "        file.write(str(eval_results[0]))\n",
    "        file.write(\"\\n\")\n",
    "        file.write(str(space))\n",
    "        file.write(\"\\n\")\n",
    "    \n",
    "    return {'loss': -f1_macro, 'status': STATUS_OK, 'model': mod, 'processor': proc}"
   ]
  },
  {
   "cell_type": "code",
   "execution_count": null,
   "metadata": {},
   "outputs": [],
   "source": [
    "trials = Trials()\n",
    "best = fmin(fn=hyperparameter_tuning,\n",
    "            space=space,\n",
    "            algo=tpe.suggest,\n",
    "            max_evals=30,\n",
    "            trials=trials)\n",
    "\n",
    "#print (best)"
   ]
  },
  {
   "cell_type": "code",
   "execution_count": 37,
   "metadata": {},
   "outputs": [],
   "source": [
    "#print(best)\n",
    "#loss = trials.best_trial['result']['loss']\n",
    "#print ('loss :', loss)\n",
    "#model = trials.best_trial['result']['model']\n",
    "#processor = trials.best_trial['result']['processor']"
   ]
  },
  {
   "cell_type": "code",
   "execution_count": 11,
   "metadata": {},
   "outputs": [],
   "source": [
    "model.save('/')\n",
    "processor.save('')"
   ]
  },
  {
   "cell_type": "code",
   "execution_count": null,
   "metadata": {},
   "outputs": [],
   "source": [
    "#plt.plot([0.78855,0.78855,0.78855,0.78855,0.78855,0.78855,0.78855,0.78855,0.78855,0.78855,0.78855,0.78855,0.78855,0.78855,0.78855],color=\"red\")"
   ]
  },
  {
   "cell_type": "code",
   "execution_count": null,
   "metadata": {},
   "outputs": [],
   "source": []
  },
  {
   "cell_type": "code",
   "execution_count": 47,
   "metadata": {},
   "outputs": [
    {
     "data": {
      "image/png": "[encoded data removed]",
      "text/plain": [
       "<Figure size 720x432 with 1 Axes>"
      ]
     },
     "metadata": {
      "needs_background": "light"
     },
     "output_type": "display_data"
    },
    {
     "data": {
      "image/png": "[encoded data removed]",
      "text/plain": [
       "<Figure size 720x432 with 1 Axes>"
      ]
     },
     "metadata": {
      "needs_background": "light"
     },
     "output_type": "display_data"
    }
   ],
   "source": [
    "import numpy as np\n",
    "import matplotlib.pyplot as plt\n",
    "from matplotlib.pyplot import figure\n",
    "\n",
    "\n",
    "\n",
    "figure(figsize=(10, 6))\n",
    "\n",
    "x = np.arange(15)\n",
    "y = [-t['result']['loss'] for t in trials.trials]\n",
    "\n",
    "\n",
    "plt.scatter(x, y, color=\"blue\")\n",
    "\n",
    "plt.title('HyperOpt Results')\n",
    "plt.xlabel('Iteration')\n",
    "plt.ylabel('Macro F1')\n",
    "plt.show()\n",
    "\n",
    "figure(figsize=(10, 6))\n",
    "ax = plt.gca()\n",
    "x = np.arange(15)\n",
    "y = [t['misc']['vals']['learning_rate'][0] for t in trials.trials]\n",
    "\n",
    "\n",
    "plt.scatter(x, y, color=\"blue\")\n",
    "\n",
    "ax.set( ylim=(0.00002, 0.00009))\n",
    "\n",
    "plt.title('HyperOpt Results')\n",
    "plt.xlabel('Iteration')\n",
    "plt.ylabel('Learning Rate')\n",
    "plt.show()"
   ]
  },
  {
   "cell_type": "code",
   "execution_count": null,
   "metadata": {},
   "outputs": [],
   "source": []
  }
 ],
 "metadata": {
  "kernelspec": {
   "display_name": "Python 3",
   "language": "python",
   "name": "python3"
  },
  "language_info": {
   "codemirror_mode": {
    "name": "ipython",
    "version": 3
   },
   "file_extension": ".py",
   "mimetype": "text/x-python",
   "name": "python",
   "nbconvert_exporter": "python",
   "pygments_lexer": "ipython3",
   "version": "3.6.8"
  }
 },
 "nbformat": 4,
 "nbformat_minor": 4
}
